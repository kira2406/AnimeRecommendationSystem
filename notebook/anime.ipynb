{
 "cells": [
  {
   "cell_type": "code",
   "execution_count": 3,
   "metadata": {},
   "outputs": [],
   "source": [
    "import pandas as pd\n",
    "import numpy as np\n",
    "import matplotlib.pyplot as plt\n",
    "import tensorflow as tf\n",
    "from tensorflow.keras import layers\n",
    "from tensorflow.keras.models import Model\n",
    "from tensorflow.keras.optimizers import Adam\n",
    "from tensorflow.keras.layers import Activation, BatchNormalization, Input, Embedding, Dot, Dense, Flatten\n",
    "from tensorflow.keras.callbacks import ModelCheckpoint, LearningRateScheduler, TensorBoard, EarlyStopping\n",
    "\n",
    "from wordcloud import WordCloud\n",
    "%matplotlib inline"
   ]
  },
  {
   "cell_type": "markdown",
   "metadata": {},
   "source": [
    "## Reading animelist.csv"
   ]
  },
  {
   "cell_type": "code",
   "execution_count": 4,
   "metadata": {},
   "outputs": [],
   "source": [
    "import os"
   ]
  },
  {
   "cell_type": "code",
   "execution_count": 5,
   "metadata": {},
   "outputs": [],
   "source": [
    "INPUT_DIR = os.path.join(\"..\",\"artifacts\", \"raw\")"
   ]
  },
  {
   "cell_type": "code",
   "execution_count": 6,
   "metadata": {},
   "outputs": [],
   "source": [
    "rating_df = pd.read_csv(INPUT_DIR+\"/animelist.csv\",low_memory=True, usecols=[\"user_id\", \"anime_id\", \"rating\"])"
   ]
  },
  {
   "cell_type": "code",
   "execution_count": 7,
   "metadata": {},
   "outputs": [
    {
     "data": {
      "application/vnd.microsoft.datawrangler.viewer.v0+json": {
       "columns": [
        {
         "name": "index",
         "rawType": "int64",
         "type": "integer"
        },
        {
         "name": "user_id",
         "rawType": "int64",
         "type": "integer"
        },
        {
         "name": "anime_id",
         "rawType": "int64",
         "type": "integer"
        },
        {
         "name": "rating",
         "rawType": "int64",
         "type": "integer"
        }
       ],
       "conversionMethod": "pd.DataFrame",
       "ref": "9608cd7a-1930-4606-b222-7bbbfe62f206",
       "rows": [
        [
         "0",
         "0",
         "67",
         "9"
        ],
        [
         "1",
         "0",
         "6702",
         "7"
        ],
        [
         "2",
         "0",
         "242",
         "10"
        ],
        [
         "3",
         "0",
         "4898",
         "0"
        ],
        [
         "4",
         "0",
         "21",
         "10"
        ]
       ],
       "shape": {
        "columns": 3,
        "rows": 5
       }
      },
      "text/html": [
       "<div>\n",
       "<style scoped>\n",
       "    .dataframe tbody tr th:only-of-type {\n",
       "        vertical-align: middle;\n",
       "    }\n",
       "\n",
       "    .dataframe tbody tr th {\n",
       "        vertical-align: top;\n",
       "    }\n",
       "\n",
       "    .dataframe thead th {\n",
       "        text-align: right;\n",
       "    }\n",
       "</style>\n",
       "<table border=\"1\" class=\"dataframe\">\n",
       "  <thead>\n",
       "    <tr style=\"text-align: right;\">\n",
       "      <th></th>\n",
       "      <th>user_id</th>\n",
       "      <th>anime_id</th>\n",
       "      <th>rating</th>\n",
       "    </tr>\n",
       "  </thead>\n",
       "  <tbody>\n",
       "    <tr>\n",
       "      <th>0</th>\n",
       "      <td>0</td>\n",
       "      <td>67</td>\n",
       "      <td>9</td>\n",
       "    </tr>\n",
       "    <tr>\n",
       "      <th>1</th>\n",
       "      <td>0</td>\n",
       "      <td>6702</td>\n",
       "      <td>7</td>\n",
       "    </tr>\n",
       "    <tr>\n",
       "      <th>2</th>\n",
       "      <td>0</td>\n",
       "      <td>242</td>\n",
       "      <td>10</td>\n",
       "    </tr>\n",
       "    <tr>\n",
       "      <th>3</th>\n",
       "      <td>0</td>\n",
       "      <td>4898</td>\n",
       "      <td>0</td>\n",
       "    </tr>\n",
       "    <tr>\n",
       "      <th>4</th>\n",
       "      <td>0</td>\n",
       "      <td>21</td>\n",
       "      <td>10</td>\n",
       "    </tr>\n",
       "  </tbody>\n",
       "</table>\n",
       "</div>"
      ],
      "text/plain": [
       "   user_id  anime_id  rating\n",
       "0        0        67       9\n",
       "1        0      6702       7\n",
       "2        0       242      10\n",
       "3        0      4898       0\n",
       "4        0        21      10"
      ]
     },
     "execution_count": 7,
     "metadata": {},
     "output_type": "execute_result"
    }
   ],
   "source": [
    "rating_df.head()"
   ]
  },
  {
   "cell_type": "code",
   "execution_count": 8,
   "metadata": {},
   "outputs": [
    {
     "data": {
      "text/plain": [
       "5000000"
      ]
     },
     "execution_count": 8,
     "metadata": {},
     "output_type": "execute_result"
    }
   ],
   "source": [
    "len(rating_df)"
   ]
  },
  {
   "cell_type": "markdown",
   "metadata": {},
   "source": [
    "## Data Processing"
   ]
  },
  {
   "cell_type": "code",
   "execution_count": 9,
   "metadata": {},
   "outputs": [],
   "source": [
    "n_ratings = rating_df[\"user_id\"].value_counts()\n",
    "rating_df = rating_df[rating_df[\"user_id\"].isin(n_ratings[n_ratings >= 400].index)].copy()"
   ]
  },
  {
   "cell_type": "code",
   "execution_count": 10,
   "metadata": {},
   "outputs": [
    {
     "data": {
      "text/plain": [
       "3246641"
      ]
     },
     "execution_count": 10,
     "metadata": {},
     "output_type": "execute_result"
    }
   ],
   "source": [
    "len(rating_df)"
   ]
  },
  {
   "cell_type": "code",
   "execution_count": 11,
   "metadata": {},
   "outputs": [
    {
     "data": {
      "text/plain": [
       "0"
      ]
     },
     "execution_count": 11,
     "metadata": {},
     "output_type": "execute_result"
    }
   ],
   "source": [
    "min_rating = min(rating_df[\"rating\"])\n",
    "min_rating"
   ]
  },
  {
   "cell_type": "code",
   "execution_count": 12,
   "metadata": {},
   "outputs": [
    {
     "data": {
      "text/plain": [
       "10"
      ]
     },
     "execution_count": 12,
     "metadata": {},
     "output_type": "execute_result"
    }
   ],
   "source": [
    "max_rating = max(rating_df[\"rating\"])\n",
    "max_rating"
   ]
  },
  {
   "cell_type": "code",
   "execution_count": 13,
   "metadata": {},
   "outputs": [
    {
     "data": {
      "text/plain": [
       "np.float64(4.122732695114736)"
      ]
     },
     "execution_count": 13,
     "metadata": {},
     "output_type": "execute_result"
    }
   ],
   "source": [
    "avg_rating = np.mean(rating_df[\"rating\"])\n",
    "avg_rating"
   ]
  },
  {
   "cell_type": "code",
   "execution_count": 14,
   "metadata": {},
   "outputs": [],
   "source": [
    "rating_df[\"rating\"] = rating_df[\"rating\"].apply(lambda x: (x-min_rating)/(max_rating - min_rating)).values.astype(np.float64)"
   ]
  },
  {
   "cell_type": "code",
   "execution_count": 15,
   "metadata": {},
   "outputs": [
    {
     "data": {
      "text/plain": [
       "0.0"
      ]
     },
     "execution_count": 15,
     "metadata": {},
     "output_type": "execute_result"
    }
   ],
   "source": [
    "min_rating = min(rating_df[\"rating\"])\n",
    "min_rating"
   ]
  },
  {
   "cell_type": "code",
   "execution_count": 16,
   "metadata": {},
   "outputs": [
    {
     "data": {
      "text/plain": [
       "1.0"
      ]
     },
     "execution_count": 16,
     "metadata": {},
     "output_type": "execute_result"
    }
   ],
   "source": [
    "max_rating = max(rating_df[\"rating\"])\n",
    "max_rating"
   ]
  },
  {
   "cell_type": "code",
   "execution_count": 17,
   "metadata": {},
   "outputs": [
    {
     "data": {
      "text/plain": [
       "np.float64(0.4122732695114729)"
      ]
     },
     "execution_count": 17,
     "metadata": {},
     "output_type": "execute_result"
    }
   ],
   "source": [
    "avg_rating = np.mean(rating_df[\"rating\"])\n",
    "avg_rating"
   ]
  },
  {
   "cell_type": "code",
   "execution_count": 18,
   "metadata": {},
   "outputs": [
    {
     "data": {
      "text/plain": [
       "np.int64(0)"
      ]
     },
     "execution_count": 18,
     "metadata": {},
     "output_type": "execute_result"
    }
   ],
   "source": [
    "rating_df.duplicated().sum()"
   ]
  },
  {
   "cell_type": "code",
   "execution_count": 19,
   "metadata": {},
   "outputs": [
    {
     "data": {
      "text/plain": [
       "user_id     0\n",
       "anime_id    0\n",
       "rating      0\n",
       "dtype: int64"
      ]
     },
     "execution_count": 19,
     "metadata": {},
     "output_type": "execute_result"
    }
   ],
   "source": [
    "rating_df.isnull().sum()"
   ]
  },
  {
   "cell_type": "code",
   "execution_count": 20,
   "metadata": {},
   "outputs": [],
   "source": [
    "user_ids = rating_df[\"user_id\"].unique().tolist()\n",
    "user2user_encoded = {x:i for i, x in enumerate(user_ids)}\n",
    "user2user_decoded = {i:x for i, x in enumerate(user_ids)}\n",
    "rating_df[\"user\"] = rating_df[\"user_id\"].map(user2user_encoded)"
   ]
  },
  {
   "cell_type": "code",
   "execution_count": 21,
   "metadata": {},
   "outputs": [
    {
     "data": {
      "application/vnd.microsoft.datawrangler.viewer.v0+json": {
       "columns": [
        {
         "name": "index",
         "rawType": "int64",
         "type": "integer"
        },
        {
         "name": "user_id",
         "rawType": "int64",
         "type": "integer"
        },
        {
         "name": "anime_id",
         "rawType": "int64",
         "type": "integer"
        },
        {
         "name": "rating",
         "rawType": "float64",
         "type": "float"
        },
        {
         "name": "user",
         "rawType": "int64",
         "type": "integer"
        }
       ],
       "conversionMethod": "pd.DataFrame",
       "ref": "4beaed66-cff1-4f1c-a85a-2c48d701430c",
       "rows": [
        [
         "213",
         "2",
         "24833",
         "0.0",
         "0"
        ],
        [
         "214",
         "2",
         "235",
         "1.0",
         "0"
        ],
        [
         "215",
         "2",
         "36721",
         "0.0",
         "0"
        ],
        [
         "216",
         "2",
         "40956",
         "0.0",
         "0"
        ],
        [
         "217",
         "2",
         "31933",
         "0.0",
         "0"
        ]
       ],
       "shape": {
        "columns": 4,
        "rows": 5
       }
      },
      "text/html": [
       "<div>\n",
       "<style scoped>\n",
       "    .dataframe tbody tr th:only-of-type {\n",
       "        vertical-align: middle;\n",
       "    }\n",
       "\n",
       "    .dataframe tbody tr th {\n",
       "        vertical-align: top;\n",
       "    }\n",
       "\n",
       "    .dataframe thead th {\n",
       "        text-align: right;\n",
       "    }\n",
       "</style>\n",
       "<table border=\"1\" class=\"dataframe\">\n",
       "  <thead>\n",
       "    <tr style=\"text-align: right;\">\n",
       "      <th></th>\n",
       "      <th>user_id</th>\n",
       "      <th>anime_id</th>\n",
       "      <th>rating</th>\n",
       "      <th>user</th>\n",
       "    </tr>\n",
       "  </thead>\n",
       "  <tbody>\n",
       "    <tr>\n",
       "      <th>213</th>\n",
       "      <td>2</td>\n",
       "      <td>24833</td>\n",
       "      <td>0.0</td>\n",
       "      <td>0</td>\n",
       "    </tr>\n",
       "    <tr>\n",
       "      <th>214</th>\n",
       "      <td>2</td>\n",
       "      <td>235</td>\n",
       "      <td>1.0</td>\n",
       "      <td>0</td>\n",
       "    </tr>\n",
       "    <tr>\n",
       "      <th>215</th>\n",
       "      <td>2</td>\n",
       "      <td>36721</td>\n",
       "      <td>0.0</td>\n",
       "      <td>0</td>\n",
       "    </tr>\n",
       "    <tr>\n",
       "      <th>216</th>\n",
       "      <td>2</td>\n",
       "      <td>40956</td>\n",
       "      <td>0.0</td>\n",
       "      <td>0</td>\n",
       "    </tr>\n",
       "    <tr>\n",
       "      <th>217</th>\n",
       "      <td>2</td>\n",
       "      <td>31933</td>\n",
       "      <td>0.0</td>\n",
       "      <td>0</td>\n",
       "    </tr>\n",
       "  </tbody>\n",
       "</table>\n",
       "</div>"
      ],
      "text/plain": [
       "     user_id  anime_id  rating  user\n",
       "213        2     24833     0.0     0\n",
       "214        2       235     1.0     0\n",
       "215        2     36721     0.0     0\n",
       "216        2     40956     0.0     0\n",
       "217        2     31933     0.0     0"
      ]
     },
     "execution_count": 21,
     "metadata": {},
     "output_type": "execute_result"
    }
   ],
   "source": [
    "rating_df.head()"
   ]
  },
  {
   "cell_type": "code",
   "execution_count": 22,
   "metadata": {},
   "outputs": [
    {
     "data": {
      "text/plain": [
       "4203"
      ]
     },
     "execution_count": 22,
     "metadata": {},
     "output_type": "execute_result"
    }
   ],
   "source": [
    "n_users = len(user2user_encoded)\n",
    "n_users"
   ]
  },
  {
   "cell_type": "code",
   "execution_count": 23,
   "metadata": {},
   "outputs": [],
   "source": [
    "anime_ids = rating_df[\"anime_id\"].unique().tolist()\n",
    "anime2anime_encoded = {x:i for i, x in enumerate(anime_ids)}\n",
    "anime2anime_decoded = {i:x for i, x in enumerate(anime_ids)}\n",
    "rating_df[\"anime\"] = rating_df[\"anime_id\"].map(anime2anime_encoded)"
   ]
  },
  {
   "cell_type": "code",
   "execution_count": 24,
   "metadata": {},
   "outputs": [
    {
     "data": {
      "text/plain": [
       "17149"
      ]
     },
     "execution_count": 24,
     "metadata": {},
     "output_type": "execute_result"
    }
   ],
   "source": [
    "n_anime = len(anime2anime_encoded)\n",
    "n_anime"
   ]
  },
  {
   "cell_type": "code",
   "execution_count": 25,
   "metadata": {},
   "outputs": [
    {
     "data": {
      "application/vnd.microsoft.datawrangler.viewer.v0+json": {
       "columns": [
        {
         "name": "index",
         "rawType": "int64",
         "type": "integer"
        },
        {
         "name": "user_id",
         "rawType": "int64",
         "type": "integer"
        },
        {
         "name": "anime_id",
         "rawType": "int64",
         "type": "integer"
        },
        {
         "name": "rating",
         "rawType": "float64",
         "type": "float"
        },
        {
         "name": "user",
         "rawType": "int64",
         "type": "integer"
        },
        {
         "name": "anime",
         "rawType": "int64",
         "type": "integer"
        }
       ],
       "conversionMethod": "pd.DataFrame",
       "ref": "b9b95f91-dffa-489e-bb7e-3a7195791d62",
       "rows": [
        [
         "0",
         "457",
         "18153",
         "0.9",
         "120",
         "1377"
        ],
        [
         "1",
         "4903",
         "20507",
         "0.7",
         "1195",
         "1216"
        ],
        [
         "2",
         "6313",
         "23325",
         "0.0",
         "1591",
         "1239"
        ],
        [
         "3",
         "15851",
         "37491",
         "0.0",
         "4024",
         "1813"
        ],
        [
         "4",
         "1596",
         "29803",
         "0.9",
         "415",
         "353"
        ],
        [
         "5",
         "3499",
         "37451",
         "0.6",
         "866",
         "2782"
        ],
        [
         "6",
         "1371",
         "35770",
         "0.6",
         "365",
         "5383"
        ],
        [
         "7",
         "7915",
         "31636",
         "0.0",
         "2004",
         "1749"
        ],
        [
         "8",
         "6008",
         "12115",
         "0.8",
         "1506",
         "1023"
        ],
        [
         "9",
         "10899",
         "237",
         "0.0",
         "2732",
         "916"
        ],
        [
         "10",
         "2225",
         "120",
         "0.7",
         "559",
         "821"
        ],
        [
         "11",
         "12992",
         "2605",
         "0.7",
         "3302",
         "733"
        ],
        [
         "12",
         "11237",
         "32827",
         "0.8",
         "2846",
         "1703"
        ],
        [
         "13",
         "9568",
         "9289",
         "0.8",
         "2391",
         "1840"
        ],
        [
         "14",
         "9727",
         "6548",
         "0.6",
         "2432",
         "760"
        ],
        [
         "15",
         "1205",
         "16742",
         "0.0",
         "327",
         "1504"
        ],
        [
         "16",
         "15808",
         "6702",
         "0.8",
         "4015",
         "149"
        ],
        [
         "17",
         "4892",
         "37232",
         "0.0",
         "1194",
         "4987"
        ],
        [
         "18",
         "6536",
         "9958",
         "0.0",
         "1641",
         "4412"
        ],
        [
         "19",
         "16237",
         "38993",
         "0.0",
         "4135",
         "2302"
        ],
        [
         "20",
         "7733",
         "15225",
         "0.6",
         "1950",
         "1176"
        ],
        [
         "21",
         "12874",
         "7723",
         "0.0",
         "3268",
         "10046"
        ],
        [
         "22",
         "3333",
         "1047",
         "0.8",
         "825",
         "697"
        ],
        [
         "23",
         "11605",
         "29785",
         "0.6",
         "2947",
         "1540"
        ],
        [
         "24",
         "4334",
         "42203",
         "0.0",
         "1064",
         "1665"
        ],
        [
         "25",
         "6902",
         "38524",
         "0.8",
         "1725",
         "405"
        ],
        [
         "26",
         "11396",
         "9135",
         "0.5",
         "2882",
         "877"
        ],
        [
         "27",
         "6365",
         "40298",
         "0.0",
         "1606",
         "5436"
        ],
        [
         "28",
         "13897",
         "4981",
         "0.9",
         "3545",
         "497"
        ],
        [
         "29",
         "12749",
         "900",
         "0.6",
         "3231",
         "3756"
        ],
        [
         "30",
         "11928",
         "597",
         "0.8",
         "3021",
         "685"
        ],
        [
         "31",
         "3642",
         "32182",
         "0.8",
         "900",
         "55"
        ],
        [
         "32",
         "8263",
         "9611",
         "0.0",
         "2085",
         "6090"
        ],
        [
         "33",
         "12143",
         "9289",
         "0.0",
         "3082",
         "1840"
        ],
        [
         "34",
         "6149",
         "23079",
         "0.6",
         "1544",
         "1332"
        ],
        [
         "35",
         "12285",
         "3588",
         "0.6",
         "3111",
         "745"
        ],
        [
         "36",
         "3399",
         "10739",
         "0.0",
         "840",
         "3104"
        ],
        [
         "37",
         "1803",
         "34662",
         "0.9",
         "465",
         "1789"
        ],
        [
         "38",
         "66",
         "752",
         "0.0",
         "14",
         "4277"
        ],
        [
         "39",
         "10642",
         "9587",
         "0.5",
         "2661",
         "3094"
        ],
        [
         "40",
         "7995",
         "12673",
         "0.0",
         "2020",
         "1967"
        ],
        [
         "41",
         "12374",
         "32827",
         "0.0",
         "3129",
         "1703"
        ],
        [
         "42",
         "8948",
         "1607",
         "0.7",
         "2231",
         "787"
        ],
        [
         "43",
         "15026",
         "252",
         "0.5",
         "3832",
         "925"
        ],
        [
         "44",
         "10701",
         "1482",
         "0.0",
         "2680",
         "861"
        ],
        [
         "45",
         "1266",
         "23327",
         "0.8",
         "346",
         "2422"
        ],
        [
         "46",
         "8296",
         "16918",
         "0.0",
         "2094",
         "1326"
        ],
        [
         "47",
         "15710",
         "1686",
         "0.0",
         "3992",
         "528"
        ],
        [
         "48",
         "6191",
         "39972",
         "0.8",
         "1558",
         "7314"
        ],
        [
         "49",
         "111",
         "12031",
         "0.8",
         "24",
         "1892"
        ]
       ],
       "shape": {
        "columns": 5,
        "rows": 3246641
       }
      },
      "text/html": [
       "<div>\n",
       "<style scoped>\n",
       "    .dataframe tbody tr th:only-of-type {\n",
       "        vertical-align: middle;\n",
       "    }\n",
       "\n",
       "    .dataframe tbody tr th {\n",
       "        vertical-align: top;\n",
       "    }\n",
       "\n",
       "    .dataframe thead th {\n",
       "        text-align: right;\n",
       "    }\n",
       "</style>\n",
       "<table border=\"1\" class=\"dataframe\">\n",
       "  <thead>\n",
       "    <tr style=\"text-align: right;\">\n",
       "      <th></th>\n",
       "      <th>user_id</th>\n",
       "      <th>anime_id</th>\n",
       "      <th>rating</th>\n",
       "      <th>user</th>\n",
       "      <th>anime</th>\n",
       "    </tr>\n",
       "  </thead>\n",
       "  <tbody>\n",
       "    <tr>\n",
       "      <th>0</th>\n",
       "      <td>457</td>\n",
       "      <td>18153</td>\n",
       "      <td>0.9</td>\n",
       "      <td>120</td>\n",
       "      <td>1377</td>\n",
       "    </tr>\n",
       "    <tr>\n",
       "      <th>1</th>\n",
       "      <td>4903</td>\n",
       "      <td>20507</td>\n",
       "      <td>0.7</td>\n",
       "      <td>1195</td>\n",
       "      <td>1216</td>\n",
       "    </tr>\n",
       "    <tr>\n",
       "      <th>2</th>\n",
       "      <td>6313</td>\n",
       "      <td>23325</td>\n",
       "      <td>0.0</td>\n",
       "      <td>1591</td>\n",
       "      <td>1239</td>\n",
       "    </tr>\n",
       "    <tr>\n",
       "      <th>3</th>\n",
       "      <td>15851</td>\n",
       "      <td>37491</td>\n",
       "      <td>0.0</td>\n",
       "      <td>4024</td>\n",
       "      <td>1813</td>\n",
       "    </tr>\n",
       "    <tr>\n",
       "      <th>4</th>\n",
       "      <td>1596</td>\n",
       "      <td>29803</td>\n",
       "      <td>0.9</td>\n",
       "      <td>415</td>\n",
       "      <td>353</td>\n",
       "    </tr>\n",
       "    <tr>\n",
       "      <th>...</th>\n",
       "      <td>...</td>\n",
       "      <td>...</td>\n",
       "      <td>...</td>\n",
       "      <td>...</td>\n",
       "      <td>...</td>\n",
       "    </tr>\n",
       "    <tr>\n",
       "      <th>3246636</th>\n",
       "      <td>7916</td>\n",
       "      <td>721</td>\n",
       "      <td>1.0</td>\n",
       "      <td>2005</td>\n",
       "      <td>955</td>\n",
       "    </tr>\n",
       "    <tr>\n",
       "      <th>3246637</th>\n",
       "      <td>7516</td>\n",
       "      <td>16067</td>\n",
       "      <td>0.0</td>\n",
       "      <td>1898</td>\n",
       "      <td>1398</td>\n",
       "    </tr>\n",
       "    <tr>\n",
       "      <th>3246638</th>\n",
       "      <td>12682</td>\n",
       "      <td>28171</td>\n",
       "      <td>0.8</td>\n",
       "      <td>3208</td>\n",
       "      <td>67</td>\n",
       "    </tr>\n",
       "    <tr>\n",
       "      <th>3246639</th>\n",
       "      <td>8387</td>\n",
       "      <td>33255</td>\n",
       "      <td>0.7</td>\n",
       "      <td>2114</td>\n",
       "      <td>1595</td>\n",
       "    </tr>\n",
       "    <tr>\n",
       "      <th>3246640</th>\n",
       "      <td>14473</td>\n",
       "      <td>1735</td>\n",
       "      <td>1.0</td>\n",
       "      <td>3699</td>\n",
       "      <td>58</td>\n",
       "    </tr>\n",
       "  </tbody>\n",
       "</table>\n",
       "<p>3246641 rows × 5 columns</p>\n",
       "</div>"
      ],
      "text/plain": [
       "         user_id  anime_id  rating  user  anime\n",
       "0            457     18153     0.9   120   1377\n",
       "1           4903     20507     0.7  1195   1216\n",
       "2           6313     23325     0.0  1591   1239\n",
       "3          15851     37491     0.0  4024   1813\n",
       "4           1596     29803     0.9   415    353\n",
       "...          ...       ...     ...   ...    ...\n",
       "3246636     7916       721     1.0  2005    955\n",
       "3246637     7516     16067     0.0  1898   1398\n",
       "3246638    12682     28171     0.8  3208     67\n",
       "3246639     8387     33255     0.7  2114   1595\n",
       "3246640    14473      1735     1.0  3699     58\n",
       "\n",
       "[3246641 rows x 5 columns]"
      ]
     },
     "execution_count": 25,
     "metadata": {},
     "output_type": "execute_result"
    }
   ],
   "source": [
    "rating_df.sample(frac=1, random_state=43).reset_index(drop=True)"
   ]
  },
  {
   "cell_type": "code",
   "execution_count": 26,
   "metadata": {},
   "outputs": [],
   "source": [
    "X = rating_df[[\"user\", \"anime\"]].values\n",
    "y = rating_df[\"rating\"]"
   ]
  },
  {
   "cell_type": "code",
   "execution_count": 27,
   "metadata": {},
   "outputs": [],
   "source": [
    "test_size = 1000\n",
    "train_indices = rating_df.shape[0] - test_size"
   ]
  },
  {
   "cell_type": "code",
   "execution_count": 28,
   "metadata": {},
   "outputs": [],
   "source": [
    "X_train, X_test, y_train, y_test = (\n",
    "    X[:train_indices],\n",
    "    X[train_indices:],\n",
    "    y[:train_indices],\n",
    "    y[train_indices:]\n",
    ")"
   ]
  },
  {
   "cell_type": "code",
   "execution_count": 29,
   "metadata": {},
   "outputs": [
    {
     "name": "stdout",
     "output_type": "stream",
     "text": [
      "X_train 3245641\n",
      "X_test 1000\n"
     ]
    }
   ],
   "source": [
    "print(\"X_train\", len(X_train))\n",
    "print(\"X_test\", len(X_test))"
   ]
  },
  {
   "cell_type": "code",
   "execution_count": 30,
   "metadata": {},
   "outputs": [],
   "source": [
    "# Converting into list\n",
    "X_train_array = [X_train[:, 0], X_train[:, 1]]\n",
    "X_test_array = [X_test[:, 0], X_test[:, 1]]"
   ]
  },
  {
   "cell_type": "markdown",
   "metadata": {},
   "source": [
    "## Model Architecture"
   ]
  },
  {
   "cell_type": "code",
   "execution_count": 31,
   "metadata": {},
   "outputs": [],
   "source": [
    "def RecommenderNet():\n",
    "    embedding_size = 128\n",
    "\n",
    "    user = Input(name=\"user\", shape=[1])\n",
    "\n",
    "    user_embedding = Embedding(name=\"user_embedding\", input_dim=n_users, output_dim=embedding_size)(user)\n",
    "\n",
    "    anime = Input(name=\"anime\", shape=[1])\n",
    "\n",
    "    anime_embedding = Embedding(name=\"anime_embedding\", input_dim=n_anime, output_dim=embedding_size)(anime)\n",
    "\n",
    "    x = Dot(name=\"dot_product\", normalize=True, axes=2)([user_embedding, anime_embedding])\n",
    "\n",
    "    x = Flatten()(x)\n",
    "\n",
    "    x = Dense(1, kernel_initializer='he_normal')(x)\n",
    "    x = BatchNormalization()(x)\n",
    "    x = Activation(\"sigmoid\")(x)\n",
    "\n",
    "    model = Model(inputs=[user, anime], outputs =x)\n",
    "    model.compile(loss=\"binary_crossentropy\", metrics=[\"mae\", \"mse\"], optimizer='Adam')\n",
    "    return model"
   ]
  },
  {
   "cell_type": "code",
   "execution_count": 32,
   "metadata": {},
   "outputs": [],
   "source": [
    "model = RecommenderNet()"
   ]
  },
  {
   "cell_type": "code",
   "execution_count": 33,
   "metadata": {},
   "outputs": [
    {
     "data": {
      "text/html": [
       "<pre style=\"white-space:pre;overflow-x:auto;line-height:normal;font-family:Menlo,'DejaVu Sans Mono',consolas,'Courier New',monospace\"><span style=\"font-weight: bold\">Model: \"functional\"</span>\n",
       "</pre>\n"
      ],
      "text/plain": [
       "\u001b[1mModel: \"functional\"\u001b[0m\n"
      ]
     },
     "metadata": {},
     "output_type": "display_data"
    },
    {
     "data": {
      "text/html": [
       "<pre style=\"white-space:pre;overflow-x:auto;line-height:normal;font-family:Menlo,'DejaVu Sans Mono',consolas,'Courier New',monospace\">┏━━━━━━━━━━━━━━━━━━━━━┳━━━━━━━━━━━━━━━━━━━┳━━━━━━━━━━━━┳━━━━━━━━━━━━━━━━━━━┓\n",
       "┃<span style=\"font-weight: bold\"> Layer (type)        </span>┃<span style=\"font-weight: bold\"> Output Shape      </span>┃<span style=\"font-weight: bold\">    Param # </span>┃<span style=\"font-weight: bold\"> Connected to      </span>┃\n",
       "┡━━━━━━━━━━━━━━━━━━━━━╇━━━━━━━━━━━━━━━━━━━╇━━━━━━━━━━━━╇━━━━━━━━━━━━━━━━━━━┩\n",
       "│ user (<span style=\"color: #0087ff; text-decoration-color: #0087ff\">InputLayer</span>)   │ (<span style=\"color: #00d7ff; text-decoration-color: #00d7ff\">None</span>, <span style=\"color: #00af00; text-decoration-color: #00af00\">1</span>)         │          <span style=\"color: #00af00; text-decoration-color: #00af00\">0</span> │ -                 │\n",
       "├─────────────────────┼───────────────────┼────────────┼───────────────────┤\n",
       "│ anime (<span style=\"color: #0087ff; text-decoration-color: #0087ff\">InputLayer</span>)  │ (<span style=\"color: #00d7ff; text-decoration-color: #00d7ff\">None</span>, <span style=\"color: #00af00; text-decoration-color: #00af00\">1</span>)         │          <span style=\"color: #00af00; text-decoration-color: #00af00\">0</span> │ -                 │\n",
       "├─────────────────────┼───────────────────┼────────────┼───────────────────┤\n",
       "│ user_embedding      │ (<span style=\"color: #00d7ff; text-decoration-color: #00d7ff\">None</span>, <span style=\"color: #00af00; text-decoration-color: #00af00\">1</span>, <span style=\"color: #00af00; text-decoration-color: #00af00\">128</span>)    │    <span style=\"color: #00af00; text-decoration-color: #00af00\">537,984</span> │ user[<span style=\"color: #00af00; text-decoration-color: #00af00\">0</span>][<span style=\"color: #00af00; text-decoration-color: #00af00\">0</span>]        │\n",
       "│ (<span style=\"color: #0087ff; text-decoration-color: #0087ff\">Embedding</span>)         │                   │            │                   │\n",
       "├─────────────────────┼───────────────────┼────────────┼───────────────────┤\n",
       "│ anime_embedding     │ (<span style=\"color: #00d7ff; text-decoration-color: #00d7ff\">None</span>, <span style=\"color: #00af00; text-decoration-color: #00af00\">1</span>, <span style=\"color: #00af00; text-decoration-color: #00af00\">128</span>)    │  <span style=\"color: #00af00; text-decoration-color: #00af00\">2,195,072</span> │ anime[<span style=\"color: #00af00; text-decoration-color: #00af00\">0</span>][<span style=\"color: #00af00; text-decoration-color: #00af00\">0</span>]       │\n",
       "│ (<span style=\"color: #0087ff; text-decoration-color: #0087ff\">Embedding</span>)         │                   │            │                   │\n",
       "├─────────────────────┼───────────────────┼────────────┼───────────────────┤\n",
       "│ dot_product (<span style=\"color: #0087ff; text-decoration-color: #0087ff\">Dot</span>)   │ (<span style=\"color: #00d7ff; text-decoration-color: #00d7ff\">None</span>, <span style=\"color: #00af00; text-decoration-color: #00af00\">1</span>, <span style=\"color: #00af00; text-decoration-color: #00af00\">1</span>)      │          <span style=\"color: #00af00; text-decoration-color: #00af00\">0</span> │ user_embedding[<span style=\"color: #00af00; text-decoration-color: #00af00\">0</span>… │\n",
       "│                     │                   │            │ anime_embedding[<span style=\"color: #00af00; text-decoration-color: #00af00\">…</span> │\n",
       "├─────────────────────┼───────────────────┼────────────┼───────────────────┤\n",
       "│ flatten (<span style=\"color: #0087ff; text-decoration-color: #0087ff\">Flatten</span>)   │ (<span style=\"color: #00d7ff; text-decoration-color: #00d7ff\">None</span>, <span style=\"color: #00af00; text-decoration-color: #00af00\">1</span>)         │          <span style=\"color: #00af00; text-decoration-color: #00af00\">0</span> │ dot_product[<span style=\"color: #00af00; text-decoration-color: #00af00\">0</span>][<span style=\"color: #00af00; text-decoration-color: #00af00\">0</span>] │\n",
       "├─────────────────────┼───────────────────┼────────────┼───────────────────┤\n",
       "│ dense (<span style=\"color: #0087ff; text-decoration-color: #0087ff\">Dense</span>)       │ (<span style=\"color: #00d7ff; text-decoration-color: #00d7ff\">None</span>, <span style=\"color: #00af00; text-decoration-color: #00af00\">1</span>)         │          <span style=\"color: #00af00; text-decoration-color: #00af00\">2</span> │ flatten[<span style=\"color: #00af00; text-decoration-color: #00af00\">0</span>][<span style=\"color: #00af00; text-decoration-color: #00af00\">0</span>]     │\n",
       "├─────────────────────┼───────────────────┼────────────┼───────────────────┤\n",
       "│ batch_normalization │ (<span style=\"color: #00d7ff; text-decoration-color: #00d7ff\">None</span>, <span style=\"color: #00af00; text-decoration-color: #00af00\">1</span>)         │          <span style=\"color: #00af00; text-decoration-color: #00af00\">4</span> │ dense[<span style=\"color: #00af00; text-decoration-color: #00af00\">0</span>][<span style=\"color: #00af00; text-decoration-color: #00af00\">0</span>]       │\n",
       "│ (<span style=\"color: #0087ff; text-decoration-color: #0087ff\">BatchNormalizatio…</span> │                   │            │                   │\n",
       "├─────────────────────┼───────────────────┼────────────┼───────────────────┤\n",
       "│ activation          │ (<span style=\"color: #00d7ff; text-decoration-color: #00d7ff\">None</span>, <span style=\"color: #00af00; text-decoration-color: #00af00\">1</span>)         │          <span style=\"color: #00af00; text-decoration-color: #00af00\">0</span> │ batch_normalizat… │\n",
       "│ (<span style=\"color: #0087ff; text-decoration-color: #0087ff\">Activation</span>)        │                   │            │                   │\n",
       "└─────────────────────┴───────────────────┴────────────┴───────────────────┘\n",
       "</pre>\n"
      ],
      "text/plain": [
       "┏━━━━━━━━━━━━━━━━━━━━━┳━━━━━━━━━━━━━━━━━━━┳━━━━━━━━━━━━┳━━━━━━━━━━━━━━━━━━━┓\n",
       "┃\u001b[1m \u001b[0m\u001b[1mLayer (type)       \u001b[0m\u001b[1m \u001b[0m┃\u001b[1m \u001b[0m\u001b[1mOutput Shape     \u001b[0m\u001b[1m \u001b[0m┃\u001b[1m \u001b[0m\u001b[1m   Param #\u001b[0m\u001b[1m \u001b[0m┃\u001b[1m \u001b[0m\u001b[1mConnected to     \u001b[0m\u001b[1m \u001b[0m┃\n",
       "┡━━━━━━━━━━━━━━━━━━━━━╇━━━━━━━━━━━━━━━━━━━╇━━━━━━━━━━━━╇━━━━━━━━━━━━━━━━━━━┩\n",
       "│ user (\u001b[38;5;33mInputLayer\u001b[0m)   │ (\u001b[38;5;45mNone\u001b[0m, \u001b[38;5;34m1\u001b[0m)         │          \u001b[38;5;34m0\u001b[0m │ -                 │\n",
       "├─────────────────────┼───────────────────┼────────────┼───────────────────┤\n",
       "│ anime (\u001b[38;5;33mInputLayer\u001b[0m)  │ (\u001b[38;5;45mNone\u001b[0m, \u001b[38;5;34m1\u001b[0m)         │          \u001b[38;5;34m0\u001b[0m │ -                 │\n",
       "├─────────────────────┼───────────────────┼────────────┼───────────────────┤\n",
       "│ user_embedding      │ (\u001b[38;5;45mNone\u001b[0m, \u001b[38;5;34m1\u001b[0m, \u001b[38;5;34m128\u001b[0m)    │    \u001b[38;5;34m537,984\u001b[0m │ user[\u001b[38;5;34m0\u001b[0m][\u001b[38;5;34m0\u001b[0m]        │\n",
       "│ (\u001b[38;5;33mEmbedding\u001b[0m)         │                   │            │                   │\n",
       "├─────────────────────┼───────────────────┼────────────┼───────────────────┤\n",
       "│ anime_embedding     │ (\u001b[38;5;45mNone\u001b[0m, \u001b[38;5;34m1\u001b[0m, \u001b[38;5;34m128\u001b[0m)    │  \u001b[38;5;34m2,195,072\u001b[0m │ anime[\u001b[38;5;34m0\u001b[0m][\u001b[38;5;34m0\u001b[0m]       │\n",
       "│ (\u001b[38;5;33mEmbedding\u001b[0m)         │                   │            │                   │\n",
       "├─────────────────────┼───────────────────┼────────────┼───────────────────┤\n",
       "│ dot_product (\u001b[38;5;33mDot\u001b[0m)   │ (\u001b[38;5;45mNone\u001b[0m, \u001b[38;5;34m1\u001b[0m, \u001b[38;5;34m1\u001b[0m)      │          \u001b[38;5;34m0\u001b[0m │ user_embedding[\u001b[38;5;34m0\u001b[0m… │\n",
       "│                     │                   │            │ anime_embedding[\u001b[38;5;34m…\u001b[0m │\n",
       "├─────────────────────┼───────────────────┼────────────┼───────────────────┤\n",
       "│ flatten (\u001b[38;5;33mFlatten\u001b[0m)   │ (\u001b[38;5;45mNone\u001b[0m, \u001b[38;5;34m1\u001b[0m)         │          \u001b[38;5;34m0\u001b[0m │ dot_product[\u001b[38;5;34m0\u001b[0m][\u001b[38;5;34m0\u001b[0m] │\n",
       "├─────────────────────┼───────────────────┼────────────┼───────────────────┤\n",
       "│ dense (\u001b[38;5;33mDense\u001b[0m)       │ (\u001b[38;5;45mNone\u001b[0m, \u001b[38;5;34m1\u001b[0m)         │          \u001b[38;5;34m2\u001b[0m │ flatten[\u001b[38;5;34m0\u001b[0m][\u001b[38;5;34m0\u001b[0m]     │\n",
       "├─────────────────────┼───────────────────┼────────────┼───────────────────┤\n",
       "│ batch_normalization │ (\u001b[38;5;45mNone\u001b[0m, \u001b[38;5;34m1\u001b[0m)         │          \u001b[38;5;34m4\u001b[0m │ dense[\u001b[38;5;34m0\u001b[0m][\u001b[38;5;34m0\u001b[0m]       │\n",
       "│ (\u001b[38;5;33mBatchNormalizatio…\u001b[0m │                   │            │                   │\n",
       "├─────────────────────┼───────────────────┼────────────┼───────────────────┤\n",
       "│ activation          │ (\u001b[38;5;45mNone\u001b[0m, \u001b[38;5;34m1\u001b[0m)         │          \u001b[38;5;34m0\u001b[0m │ batch_normalizat… │\n",
       "│ (\u001b[38;5;33mActivation\u001b[0m)        │                   │            │                   │\n",
       "└─────────────────────┴───────────────────┴────────────┴───────────────────┘\n"
      ]
     },
     "metadata": {},
     "output_type": "display_data"
    },
    {
     "data": {
      "text/html": [
       "<pre style=\"white-space:pre;overflow-x:auto;line-height:normal;font-family:Menlo,'DejaVu Sans Mono',consolas,'Courier New',monospace\"><span style=\"font-weight: bold\"> Total params: </span><span style=\"color: #00af00; text-decoration-color: #00af00\">2,733,062</span> (10.43 MB)\n",
       "</pre>\n"
      ],
      "text/plain": [
       "\u001b[1m Total params: \u001b[0m\u001b[38;5;34m2,733,062\u001b[0m (10.43 MB)\n"
      ]
     },
     "metadata": {},
     "output_type": "display_data"
    },
    {
     "data": {
      "text/html": [
       "<pre style=\"white-space:pre;overflow-x:auto;line-height:normal;font-family:Menlo,'DejaVu Sans Mono',consolas,'Courier New',monospace\"><span style=\"font-weight: bold\"> Trainable params: </span><span style=\"color: #00af00; text-decoration-color: #00af00\">2,733,060</span> (10.43 MB)\n",
       "</pre>\n"
      ],
      "text/plain": [
       "\u001b[1m Trainable params: \u001b[0m\u001b[38;5;34m2,733,060\u001b[0m (10.43 MB)\n"
      ]
     },
     "metadata": {},
     "output_type": "display_data"
    },
    {
     "data": {
      "text/html": [
       "<pre style=\"white-space:pre;overflow-x:auto;line-height:normal;font-family:Menlo,'DejaVu Sans Mono',consolas,'Courier New',monospace\"><span style=\"font-weight: bold\"> Non-trainable params: </span><span style=\"color: #00af00; text-decoration-color: #00af00\">2</span> (8.00 B)\n",
       "</pre>\n"
      ],
      "text/plain": [
       "\u001b[1m Non-trainable params: \u001b[0m\u001b[38;5;34m2\u001b[0m (8.00 B)\n"
      ]
     },
     "metadata": {},
     "output_type": "display_data"
    }
   ],
   "source": [
    "model.summary()"
   ]
  },
  {
   "cell_type": "code",
   "execution_count": 34,
   "metadata": {},
   "outputs": [],
   "source": [
    "start_lr = 0.00001\n",
    "min_lr = 0.0001\n",
    "max_lr = 0.00005\n",
    "batch_size = 10000\n",
    "\n",
    "ramup_epochs = 5\n",
    "sustain_epochs = 0\n",
    "exp_decay = 0.8\n",
    "\n",
    "def lrfn(epoch):\n",
    "    if epoch < ramup_epochs:\n",
    "        return (max_lr - start_lr) / ramup_epochs*epoch + start_lr\n",
    "    elif epoch < ramup_epochs + sustain_epochs:\n",
    "        return max_lr\n",
    "    else:\n",
    "        return (max_lr-min_lr) * exp_decay **(epoch-ramup_epochs-sustain_epochs)+min_lr"
   ]
  },
  {
   "cell_type": "code",
   "execution_count": 35,
   "metadata": {},
   "outputs": [],
   "source": [
    "lr_callback = LearningRateScheduler(lambda epoch:lrfn(epoch), verbose=0)\n",
    "checkpoint_filepath = './weights.weights.h5'\n",
    "\n",
    "model_checkpoint = ModelCheckpoint(filepath=checkpoint_filepath, save_weights_only=True, monitor=\"val_loss\", mode=\"min\", save_best_only=True)\n",
    "\n",
    "early_stopping = EarlyStopping(patience=3, monitor=\"val_loss\", restore_best_weights=True, mode=\"min\")"
   ]
  },
  {
   "cell_type": "code",
   "execution_count": 36,
   "metadata": {},
   "outputs": [],
   "source": [
    "model_callbacks = [model_checkpoint, lr_callback, early_stopping]"
   ]
  },
  {
   "cell_type": "code",
   "execution_count": 37,
   "metadata": {},
   "outputs": [
    {
     "name": "stdout",
     "output_type": "stream",
     "text": [
      "Epoch 1/20\n",
      "\u001b[1m325/325\u001b[0m \u001b[32m━━━━━━━━━━━━━━━━━━━━\u001b[0m\u001b[37m\u001b[0m \u001b[1m17s\u001b[0m 46ms/step - loss: 0.7992 - mae: 0.3819 - mse: 0.1970 - val_loss: 0.7183 - val_mae: 0.2954 - val_mse: 0.1271 - learning_rate: 1.0000e-05\n",
      "Epoch 2/20\n",
      "\u001b[1m325/325\u001b[0m \u001b[32m━━━━━━━━━━━━━━━━━━━━\u001b[0m\u001b[37m\u001b[0m \u001b[1m15s\u001b[0m 46ms/step - loss: 0.7961 - mae: 0.3805 - mse: 0.1956 - val_loss: 0.7730 - val_mae: 0.3177 - val_mse: 0.1475 - learning_rate: 1.8000e-05\n",
      "Epoch 3/20\n",
      "\u001b[1m325/325\u001b[0m \u001b[32m━━━━━━━━━━━━━━━━━━━━\u001b[0m\u001b[37m\u001b[0m \u001b[1m15s\u001b[0m 45ms/step - loss: 0.7900 - mae: 0.3783 - mse: 0.1933 - val_loss: 0.7773 - val_mae: 0.3192 - val_mse: 0.1488 - learning_rate: 2.6000e-05\n",
      "Epoch 4/20\n",
      "\u001b[1m325/325\u001b[0m \u001b[32m━━━━━━━━━━━━━━━━━━━━\u001b[0m\u001b[37m\u001b[0m \u001b[1m15s\u001b[0m 45ms/step - loss: 0.7823 - mae: 0.3753 - mse: 0.1902 - val_loss: 0.7739 - val_mae: 0.3180 - val_mse: 0.1476 - learning_rate: 3.4000e-05\n"
     ]
    }
   ],
   "source": [
    "history = model.fit(\n",
    "    x=X_train_array,\n",
    "    y=y_train,\n",
    "    batch_size=batch_size,\n",
    "    epochs=20,\n",
    "    verbose=1,\n",
    "    validation_data=(X_test_array, y_test),\n",
    "    callbacks=model_callbacks\n",
    ")"
   ]
  },
  {
   "cell_type": "code",
   "execution_count": 38,
   "metadata": {},
   "outputs": [
    {
     "data": {
      "image/png": "[encoded data removed]",
      "text/plain": [
       "<Figure size 800x1200 with 3 Axes>"
      ]
     },
     "metadata": {},
     "output_type": "display_data"
    }
   ],
   "source": [
    "metrics = [\"loss\", \"mae\", \"mse\"]\n",
    "\n",
    "fig, axes = plt.subplots(len(metrics), 1, figsize=(8, len(metrics)*4))\n",
    "\n",
    "for i, metric in enumerate(metrics):\n",
    "    ax = axes[i]\n",
    "    ax.plot(history.history[metric][0:-2], marker=\"o\", label=f\"train {metric}\")\n",
    "    ax.plot(history.history[f\"val_{metric}\"][0:-2], marker=\"o\", label=f\"test {metric}\")\n",
    "    ax.set_title(f\"Model {metric.capitalize()}\")\n",
    "    ax.set_ylabel(metric.capitalize())\n",
    "    ax.set_xlabel(\"Epoch\")\n",
    "    ax.legend(loc=\"upper left\")\n",
    "    ax.grid(True)\n",
    "\n",
    "plt.tight_layout()\n",
    "plt.show()"
   ]
  },
  {
   "cell_type": "code",
   "execution_count": 39,
   "metadata": {},
   "outputs": [],
   "source": [
    "def extract_weights(name, model):\n",
    "    weight_layer = model.get_layer(name)\n",
    "    weights = weight_layer.get_weights()[0]\n",
    "    weights = weights/np.linalg.norm(weights,axis=1).reshape((-1, 1))\n",
    "    return weights\n"
   ]
  },
  {
   "cell_type": "code",
   "execution_count": 40,
   "metadata": {},
   "outputs": [],
   "source": [
    "anime_weights = extract_weights(\"anime_embedding\", model)"
   ]
  },
  {
   "cell_type": "code",
   "execution_count": 41,
   "metadata": {},
   "outputs": [],
   "source": [
    "user_weights = extract_weights(\"user_embedding\", model)"
   ]
  },
  {
   "cell_type": "markdown",
   "metadata": {},
   "source": [
    "## Reading anime.csv"
   ]
  },
  {
   "cell_type": "code",
   "execution_count": 42,
   "metadata": {},
   "outputs": [
    {
     "data": {
      "application/vnd.microsoft.datawrangler.viewer.v0+json": {
       "columns": [
        {
         "name": "index",
         "rawType": "int64",
         "type": "integer"
        },
        {
         "name": "MAL_ID",
         "rawType": "int64",
         "type": "integer"
        },
        {
         "name": "Name",
         "rawType": "object",
         "type": "string"
        },
        {
         "name": "Score",
         "rawType": "object",
         "type": "string"
        },
        {
         "name": "Genres",
         "rawType": "object",
         "type": "string"
        },
        {
         "name": "English name",
         "rawType": "object",
         "type": "string"
        },
        {
         "name": "Japanese name",
         "rawType": "object",
         "type": "string"
        },
        {
         "name": "Type",
         "rawType": "object",
         "type": "string"
        },
        {
         "name": "Episodes",
         "rawType": "object",
         "type": "string"
        },
        {
         "name": "Aired",
         "rawType": "object",
         "type": "string"
        },
        {
         "name": "Premiered",
         "rawType": "object",
         "type": "string"
        },
        {
         "name": "Producers",
         "rawType": "object",
         "type": "string"
        },
        {
         "name": "Licensors",
         "rawType": "object",
         "type": "string"
        },
        {
         "name": "Studios",
         "rawType": "object",
         "type": "string"
        },
        {
         "name": "Source",
         "rawType": "object",
         "type": "string"
        },
        {
         "name": "Duration",
         "rawType": "object",
         "type": "string"
        },
        {
         "name": "Rating",
         "rawType": "object",
         "type": "string"
        },
        {
         "name": "Ranked",
         "rawType": "object",
         "type": "string"
        },
        {
         "name": "Popularity",
         "rawType": "int64",
         "type": "integer"
        },
        {
         "name": "Members",
         "rawType": "int64",
         "type": "integer"
        },
        {
         "name": "Favorites",
         "rawType": "int64",
         "type": "integer"
        },
        {
         "name": "Watching",
         "rawType": "int64",
         "type": "integer"
        },
        {
         "name": "Completed",
         "rawType": "int64",
         "type": "integer"
        },
        {
         "name": "On-Hold",
         "rawType": "int64",
         "type": "integer"
        },
        {
         "name": "Dropped",
         "rawType": "int64",
         "type": "integer"
        },
        {
         "name": "Plan to Watch",
         "rawType": "int64",
         "type": "integer"
        },
        {
         "name": "Score-10",
         "rawType": "object",
         "type": "string"
        },
        {
         "name": "Score-9",
         "rawType": "object",
         "type": "string"
        },
        {
         "name": "Score-8",
         "rawType": "object",
         "type": "string"
        },
        {
         "name": "Score-7",
         "rawType": "object",
         "type": "string"
        },
        {
         "name": "Score-6",
         "rawType": "object",
         "type": "string"
        },
        {
         "name": "Score-5",
         "rawType": "object",
         "type": "string"
        },
        {
         "name": "Score-4",
         "rawType": "object",
         "type": "string"
        },
        {
         "name": "Score-3",
         "rawType": "object",
         "type": "string"
        },
        {
         "name": "Score-2",
         "rawType": "object",
         "type": "string"
        },
        {
         "name": "Score-1",
         "rawType": "object",
         "type": "string"
        }
       ],
       "conversionMethod": "pd.DataFrame",
       "ref": "0d9c25e6-48cf-417f-8908-0e39546f0ace",
       "rows": [
        [
         "0",
         "1",
         "Cowboy Bebop",
         "8.78",
         "Action, Adventure, Comedy, Drama, Sci-Fi, Space",
         "Cowboy Bebop",
         "カウボーイビバップ",
         "TV",
         "26",
         "Apr 3, 1998 to Apr 24, 1999",
         "Spring 1998",
         "Bandai Visual",
         "Funimation, Bandai Entertainment",
         "Sunrise",
         "Original",
         "24 min. per ep.",
         "R - 17+ (violence & profanity)",
         "28.0",
         "39",
         "1251960",
         "61971",
         "105808",
         "718161",
         "71513",
         "26678",
         "329800",
         "229170.0",
         "182126.0",
         "131625.0",
         "62330.0",
         "20688.0",
         "8904.0",
         "3184.0",
         "1357.0",
         "741.0",
         "1580.0"
        ],
        [
         "1",
         "5",
         "Cowboy Bebop: Tengoku no Tobira",
         "8.39",
         "Action, Drama, Mystery, Sci-Fi, Space",
         "Cowboy Bebop:The Movie",
         "カウボーイビバップ 天国の扉",
         "Movie",
         "1",
         "Sep 1, 2001",
         "Unknown",
         "Sunrise, Bandai Visual",
         "Sony Pictures Entertainment",
         "Bones",
         "Original",
         "1 hr. 55 min.",
         "R - 17+ (violence & profanity)",
         "159.0",
         "518",
         "273145",
         "1174",
         "4143",
         "208333",
         "1935",
         "770",
         "57964",
         "30043.0",
         "49201.0",
         "49505.0",
         "22632.0",
         "5805.0",
         "1877.0",
         "577.0",
         "221.0",
         "109.0",
         "379.0"
        ],
        [
         "2",
         "6",
         "Trigun",
         "8.24",
         "Action, Sci-Fi, Adventure, Comedy, Drama, Shounen",
         "Trigun",
         "トライガン",
         "TV",
         "26",
         "Apr 1, 1998 to Sep 30, 1998",
         "Spring 1998",
         "Victor Entertainment",
         "Funimation, Geneon Entertainment USA",
         "Madhouse",
         "Manga",
         "24 min. per ep.",
         "PG-13 - Teens 13 or older",
         "266.0",
         "201",
         "558913",
         "12944",
         "29113",
         "343492",
         "25465",
         "13925",
         "146918",
         "50229.0",
         "75651.0",
         "86142.0",
         "49432.0",
         "15376.0",
         "5838.0",
         "1965.0",
         "664.0",
         "316.0",
         "533.0"
        ],
        [
         "3",
         "7",
         "Witch Hunter Robin",
         "7.27",
         "Action, Mystery, Police, Supernatural, Drama, Magic",
         "Witch Hunter Robin",
         "Witch Hunter ROBIN (ウイッチハンターロビン)",
         "TV",
         "26",
         "Jul 2, 2002 to Dec 24, 2002",
         "Summer 2002",
         "TV Tokyo, Bandai Visual, Dentsu, Victor Entertainment",
         "Funimation, Bandai Entertainment",
         "Sunrise",
         "Original",
         "25 min. per ep.",
         "PG-13 - Teens 13 or older",
         "2481.0",
         "1467",
         "94683",
         "587",
         "4300",
         "46165",
         "5121",
         "5378",
         "33719",
         "2182.0",
         "4806.0",
         "10128.0",
         "11618.0",
         "5709.0",
         "2920.0",
         "1083.0",
         "353.0",
         "164.0",
         "131.0"
        ],
        [
         "4",
         "8",
         "Bouken Ou Beet",
         "6.98",
         "Adventure, Fantasy, Shounen, Supernatural",
         "Beet the Vandel Buster",
         "冒険王ビィト",
         "TV",
         "52",
         "Sep 30, 2004 to Sep 29, 2005",
         "Fall 2004",
         "TV Tokyo, Dentsu",
         "Unknown",
         "Toei Animation",
         "Manga",
         "23 min. per ep.",
         "PG - Children",
         "3710.0",
         "4369",
         "13224",
         "18",
         "642",
         "7314",
         "766",
         "1108",
         "3394",
         "312.0",
         "529.0",
         "1242.0",
         "1713.0",
         "1068.0",
         "634.0",
         "265.0",
         "83.0",
         "50.0",
         "27.0"
        ]
       ],
       "shape": {
        "columns": 35,
        "rows": 5
       }
      },
      "text/html": [
       "<div>\n",
       "<style scoped>\n",
       "    .dataframe tbody tr th:only-of-type {\n",
       "        vertical-align: middle;\n",
       "    }\n",
       "\n",
       "    .dataframe tbody tr th {\n",
       "        vertical-align: top;\n",
       "    }\n",
       "\n",
       "    .dataframe thead th {\n",
       "        text-align: right;\n",
       "    }\n",
       "</style>\n",
       "<table border=\"1\" class=\"dataframe\">\n",
       "  <thead>\n",
       "    <tr style=\"text-align: right;\">\n",
       "      <th></th>\n",
       "      <th>MAL_ID</th>\n",
       "      <th>Name</th>\n",
       "      <th>Score</th>\n",
       "      <th>Genres</th>\n",
       "      <th>English name</th>\n",
       "      <th>Japanese name</th>\n",
       "      <th>Type</th>\n",
       "      <th>Episodes</th>\n",
       "      <th>Aired</th>\n",
       "      <th>Premiered</th>\n",
       "      <th>...</th>\n",
       "      <th>Score-10</th>\n",
       "      <th>Score-9</th>\n",
       "      <th>Score-8</th>\n",
       "      <th>Score-7</th>\n",
       "      <th>Score-6</th>\n",
       "      <th>Score-5</th>\n",
       "      <th>Score-4</th>\n",
       "      <th>Score-3</th>\n",
       "      <th>Score-2</th>\n",
       "      <th>Score-1</th>\n",
       "    </tr>\n",
       "  </thead>\n",
       "  <tbody>\n",
       "    <tr>\n",
       "      <th>0</th>\n",
       "      <td>1</td>\n",
       "      <td>Cowboy Bebop</td>\n",
       "      <td>8.78</td>\n",
       "      <td>Action, Adventure, Comedy, Drama, Sci-Fi, Space</td>\n",
       "      <td>Cowboy Bebop</td>\n",
       "      <td>カウボーイビバップ</td>\n",
       "      <td>TV</td>\n",
       "      <td>26</td>\n",
       "      <td>Apr 3, 1998 to Apr 24, 1999</td>\n",
       "      <td>Spring 1998</td>\n",
       "      <td>...</td>\n",
       "      <td>229170.0</td>\n",
       "      <td>182126.0</td>\n",
       "      <td>131625.0</td>\n",
       "      <td>62330.0</td>\n",
       "      <td>20688.0</td>\n",
       "      <td>8904.0</td>\n",
       "      <td>3184.0</td>\n",
       "      <td>1357.0</td>\n",
       "      <td>741.0</td>\n",
       "      <td>1580.0</td>\n",
       "    </tr>\n",
       "    <tr>\n",
       "      <th>1</th>\n",
       "      <td>5</td>\n",
       "      <td>Cowboy Bebop: Tengoku no Tobira</td>\n",
       "      <td>8.39</td>\n",
       "      <td>Action, Drama, Mystery, Sci-Fi, Space</td>\n",
       "      <td>Cowboy Bebop:The Movie</td>\n",
       "      <td>カウボーイビバップ 天国の扉</td>\n",
       "      <td>Movie</td>\n",
       "      <td>1</td>\n",
       "      <td>Sep 1, 2001</td>\n",
       "      <td>Unknown</td>\n",
       "      <td>...</td>\n",
       "      <td>30043.0</td>\n",
       "      <td>49201.0</td>\n",
       "      <td>49505.0</td>\n",
       "      <td>22632.0</td>\n",
       "      <td>5805.0</td>\n",
       "      <td>1877.0</td>\n",
       "      <td>577.0</td>\n",
       "      <td>221.0</td>\n",
       "      <td>109.0</td>\n",
       "      <td>379.0</td>\n",
       "    </tr>\n",
       "    <tr>\n",
       "      <th>2</th>\n",
       "      <td>6</td>\n",
       "      <td>Trigun</td>\n",
       "      <td>8.24</td>\n",
       "      <td>Action, Sci-Fi, Adventure, Comedy, Drama, Shounen</td>\n",
       "      <td>Trigun</td>\n",
       "      <td>トライガン</td>\n",
       "      <td>TV</td>\n",
       "      <td>26</td>\n",
       "      <td>Apr 1, 1998 to Sep 30, 1998</td>\n",
       "      <td>Spring 1998</td>\n",
       "      <td>...</td>\n",
       "      <td>50229.0</td>\n",
       "      <td>75651.0</td>\n",
       "      <td>86142.0</td>\n",
       "      <td>49432.0</td>\n",
       "      <td>15376.0</td>\n",
       "      <td>5838.0</td>\n",
       "      <td>1965.0</td>\n",
       "      <td>664.0</td>\n",
       "      <td>316.0</td>\n",
       "      <td>533.0</td>\n",
       "    </tr>\n",
       "    <tr>\n",
       "      <th>3</th>\n",
       "      <td>7</td>\n",
       "      <td>Witch Hunter Robin</td>\n",
       "      <td>7.27</td>\n",
       "      <td>Action, Mystery, Police, Supernatural, Drama, ...</td>\n",
       "      <td>Witch Hunter Robin</td>\n",
       "      <td>Witch Hunter ROBIN (ウイッチハンターロビン)</td>\n",
       "      <td>TV</td>\n",
       "      <td>26</td>\n",
       "      <td>Jul 2, 2002 to Dec 24, 2002</td>\n",
       "      <td>Summer 2002</td>\n",
       "      <td>...</td>\n",
       "      <td>2182.0</td>\n",
       "      <td>4806.0</td>\n",
       "      <td>10128.0</td>\n",
       "      <td>11618.0</td>\n",
       "      <td>5709.0</td>\n",
       "      <td>2920.0</td>\n",
       "      <td>1083.0</td>\n",
       "      <td>353.0</td>\n",
       "      <td>164.0</td>\n",
       "      <td>131.0</td>\n",
       "    </tr>\n",
       "    <tr>\n",
       "      <th>4</th>\n",
       "      <td>8</td>\n",
       "      <td>Bouken Ou Beet</td>\n",
       "      <td>6.98</td>\n",
       "      <td>Adventure, Fantasy, Shounen, Supernatural</td>\n",
       "      <td>Beet the Vandel Buster</td>\n",
       "      <td>冒険王ビィト</td>\n",
       "      <td>TV</td>\n",
       "      <td>52</td>\n",
       "      <td>Sep 30, 2004 to Sep 29, 2005</td>\n",
       "      <td>Fall 2004</td>\n",
       "      <td>...</td>\n",
       "      <td>312.0</td>\n",
       "      <td>529.0</td>\n",
       "      <td>1242.0</td>\n",
       "      <td>1713.0</td>\n",
       "      <td>1068.0</td>\n",
       "      <td>634.0</td>\n",
       "      <td>265.0</td>\n",
       "      <td>83.0</td>\n",
       "      <td>50.0</td>\n",
       "      <td>27.0</td>\n",
       "    </tr>\n",
       "  </tbody>\n",
       "</table>\n",
       "<p>5 rows × 35 columns</p>\n",
       "</div>"
      ],
      "text/plain": [
       "   MAL_ID                             Name Score  \\\n",
       "0       1                     Cowboy Bebop  8.78   \n",
       "1       5  Cowboy Bebop: Tengoku no Tobira  8.39   \n",
       "2       6                           Trigun  8.24   \n",
       "3       7               Witch Hunter Robin  7.27   \n",
       "4       8                   Bouken Ou Beet  6.98   \n",
       "\n",
       "                                              Genres            English name  \\\n",
       "0    Action, Adventure, Comedy, Drama, Sci-Fi, Space            Cowboy Bebop   \n",
       "1              Action, Drama, Mystery, Sci-Fi, Space  Cowboy Bebop:The Movie   \n",
       "2  Action, Sci-Fi, Adventure, Comedy, Drama, Shounen                  Trigun   \n",
       "3  Action, Mystery, Police, Supernatural, Drama, ...      Witch Hunter Robin   \n",
       "4          Adventure, Fantasy, Shounen, Supernatural  Beet the Vandel Buster   \n",
       "\n",
       "                      Japanese name   Type Episodes  \\\n",
       "0                         カウボーイビバップ     TV       26   \n",
       "1                    カウボーイビバップ 天国の扉  Movie        1   \n",
       "2                             トライガン     TV       26   \n",
       "3  Witch Hunter ROBIN (ウイッチハンターロビン)     TV       26   \n",
       "4                            冒険王ビィト     TV       52   \n",
       "\n",
       "                          Aired    Premiered  ...  Score-10   Score-9  \\\n",
       "0   Apr 3, 1998 to Apr 24, 1999  Spring 1998  ...  229170.0  182126.0   \n",
       "1                   Sep 1, 2001      Unknown  ...   30043.0   49201.0   \n",
       "2   Apr 1, 1998 to Sep 30, 1998  Spring 1998  ...   50229.0   75651.0   \n",
       "3   Jul 2, 2002 to Dec 24, 2002  Summer 2002  ...    2182.0    4806.0   \n",
       "4  Sep 30, 2004 to Sep 29, 2005    Fall 2004  ...     312.0     529.0   \n",
       "\n",
       "    Score-8  Score-7  Score-6 Score-5 Score-4  Score-3  Score-2  Score-1  \n",
       "0  131625.0  62330.0  20688.0  8904.0  3184.0   1357.0    741.0   1580.0  \n",
       "1   49505.0  22632.0   5805.0  1877.0   577.0    221.0    109.0    379.0  \n",
       "2   86142.0  49432.0  15376.0  5838.0  1965.0    664.0    316.0    533.0  \n",
       "3   10128.0  11618.0   5709.0  2920.0  1083.0    353.0    164.0    131.0  \n",
       "4    1242.0   1713.0   1068.0   634.0   265.0     83.0     50.0     27.0  \n",
       "\n",
       "[5 rows x 35 columns]"
      ]
     },
     "execution_count": 42,
     "metadata": {},
     "output_type": "execute_result"
    }
   ],
   "source": [
    "df = pd.read_csv(INPUT_DIR+\"/anime.csv\", low_memory=True)\n",
    "df.head()"
   ]
  },
  {
   "cell_type": "code",
   "execution_count": 43,
   "metadata": {},
   "outputs": [],
   "source": [
    "df = df.replace(\"Unknown\", np.nan)"
   ]
  },
  {
   "cell_type": "code",
   "execution_count": 44,
   "metadata": {},
   "outputs": [],
   "source": [
    "def get_anime_name(anime_id):\n",
    "    try:\n",
    "        name = df[df.anime_id == anime_id].eng_version.values[0]\n",
    "        if name is np.nan:\n",
    "            name = df[df.anime_id == anime_id].Name.values[0]\n",
    "    except:\n",
    "        print(\"Error\")\n",
    "    return name"
   ]
  },
  {
   "cell_type": "code",
   "execution_count": 45,
   "metadata": {},
   "outputs": [],
   "source": [
    "df[\"anime_id\"] = df[\"MAL_ID\"]\n",
    "df[\"eng_version\"] = df[\"English name\"]\n",
    "df[\"eng_version\"] = df.anime_id.apply(lambda x:get_anime_name(x))"
   ]
  },
  {
   "cell_type": "code",
   "execution_count": 46,
   "metadata": {},
   "outputs": [
    {
     "data": {
      "application/vnd.microsoft.datawrangler.viewer.v0+json": {
       "columns": [
        {
         "name": "index",
         "rawType": "int64",
         "type": "integer"
        },
        {
         "name": "MAL_ID",
         "rawType": "int64",
         "type": "integer"
        },
        {
         "name": "Name",
         "rawType": "object",
         "type": "string"
        },
        {
         "name": "Score",
         "rawType": "object",
         "type": "string"
        },
        {
         "name": "Genres",
         "rawType": "object",
         "type": "string"
        },
        {
         "name": "English name",
         "rawType": "object",
         "type": "string"
        },
        {
         "name": "Japanese name",
         "rawType": "object",
         "type": "string"
        },
        {
         "name": "Type",
         "rawType": "object",
         "type": "string"
        },
        {
         "name": "Episodes",
         "rawType": "object",
         "type": "string"
        },
        {
         "name": "Aired",
         "rawType": "object",
         "type": "string"
        },
        {
         "name": "Premiered",
         "rawType": "object",
         "type": "unknown"
        },
        {
         "name": "Producers",
         "rawType": "object",
         "type": "string"
        },
        {
         "name": "Licensors",
         "rawType": "object",
         "type": "unknown"
        },
        {
         "name": "Studios",
         "rawType": "object",
         "type": "string"
        },
        {
         "name": "Source",
         "rawType": "object",
         "type": "string"
        },
        {
         "name": "Duration",
         "rawType": "object",
         "type": "string"
        },
        {
         "name": "Rating",
         "rawType": "object",
         "type": "string"
        },
        {
         "name": "Ranked",
         "rawType": "object",
         "type": "string"
        },
        {
         "name": "Popularity",
         "rawType": "int64",
         "type": "integer"
        },
        {
         "name": "Members",
         "rawType": "int64",
         "type": "integer"
        },
        {
         "name": "Favorites",
         "rawType": "int64",
         "type": "integer"
        },
        {
         "name": "Watching",
         "rawType": "int64",
         "type": "integer"
        },
        {
         "name": "Completed",
         "rawType": "int64",
         "type": "integer"
        },
        {
         "name": "On-Hold",
         "rawType": "int64",
         "type": "integer"
        },
        {
         "name": "Dropped",
         "rawType": "int64",
         "type": "integer"
        },
        {
         "name": "Plan to Watch",
         "rawType": "int64",
         "type": "integer"
        },
        {
         "name": "Score-10",
         "rawType": "object",
         "type": "string"
        },
        {
         "name": "Score-9",
         "rawType": "object",
         "type": "string"
        },
        {
         "name": "Score-8",
         "rawType": "object",
         "type": "string"
        },
        {
         "name": "Score-7",
         "rawType": "object",
         "type": "string"
        },
        {
         "name": "Score-6",
         "rawType": "object",
         "type": "string"
        },
        {
         "name": "Score-5",
         "rawType": "object",
         "type": "string"
        },
        {
         "name": "Score-4",
         "rawType": "object",
         "type": "string"
        },
        {
         "name": "Score-3",
         "rawType": "object",
         "type": "string"
        },
        {
         "name": "Score-2",
         "rawType": "object",
         "type": "string"
        },
        {
         "name": "Score-1",
         "rawType": "object",
         "type": "string"
        },
        {
         "name": "anime_id",
         "rawType": "int64",
         "type": "integer"
        },
        {
         "name": "eng_version",
         "rawType": "object",
         "type": "string"
        }
       ],
       "conversionMethod": "pd.DataFrame",
       "ref": "2c9bf1cd-e2be-4201-8e26-8cfb22787793",
       "rows": [
        [
         "0",
         "1",
         "Cowboy Bebop",
         "8.78",
         "Action, Adventure, Comedy, Drama, Sci-Fi, Space",
         "Cowboy Bebop",
         "カウボーイビバップ",
         "TV",
         "26",
         "Apr 3, 1998 to Apr 24, 1999",
         "Spring 1998",
         "Bandai Visual",
         "Funimation, Bandai Entertainment",
         "Sunrise",
         "Original",
         "24 min. per ep.",
         "R - 17+ (violence & profanity)",
         "28.0",
         "39",
         "1251960",
         "61971",
         "105808",
         "718161",
         "71513",
         "26678",
         "329800",
         "229170.0",
         "182126.0",
         "131625.0",
         "62330.0",
         "20688.0",
         "8904.0",
         "3184.0",
         "1357.0",
         "741.0",
         "1580.0",
         "1",
         "Cowboy Bebop"
        ],
        [
         "1",
         "5",
         "Cowboy Bebop: Tengoku no Tobira",
         "8.39",
         "Action, Drama, Mystery, Sci-Fi, Space",
         "Cowboy Bebop:The Movie",
         "カウボーイビバップ 天国の扉",
         "Movie",
         "1",
         "Sep 1, 2001",
         null,
         "Sunrise, Bandai Visual",
         "Sony Pictures Entertainment",
         "Bones",
         "Original",
         "1 hr. 55 min.",
         "R - 17+ (violence & profanity)",
         "159.0",
         "518",
         "273145",
         "1174",
         "4143",
         "208333",
         "1935",
         "770",
         "57964",
         "30043.0",
         "49201.0",
         "49505.0",
         "22632.0",
         "5805.0",
         "1877.0",
         "577.0",
         "221.0",
         "109.0",
         "379.0",
         "5",
         "Cowboy Bebop:The Movie"
        ],
        [
         "2",
         "6",
         "Trigun",
         "8.24",
         "Action, Sci-Fi, Adventure, Comedy, Drama, Shounen",
         "Trigun",
         "トライガン",
         "TV",
         "26",
         "Apr 1, 1998 to Sep 30, 1998",
         "Spring 1998",
         "Victor Entertainment",
         "Funimation, Geneon Entertainment USA",
         "Madhouse",
         "Manga",
         "24 min. per ep.",
         "PG-13 - Teens 13 or older",
         "266.0",
         "201",
         "558913",
         "12944",
         "29113",
         "343492",
         "25465",
         "13925",
         "146918",
         "50229.0",
         "75651.0",
         "86142.0",
         "49432.0",
         "15376.0",
         "5838.0",
         "1965.0",
         "664.0",
         "316.0",
         "533.0",
         "6",
         "Trigun"
        ],
        [
         "3",
         "7",
         "Witch Hunter Robin",
         "7.27",
         "Action, Mystery, Police, Supernatural, Drama, Magic",
         "Witch Hunter Robin",
         "Witch Hunter ROBIN (ウイッチハンターロビン)",
         "TV",
         "26",
         "Jul 2, 2002 to Dec 24, 2002",
         "Summer 2002",
         "TV Tokyo, Bandai Visual, Dentsu, Victor Entertainment",
         "Funimation, Bandai Entertainment",
         "Sunrise",
         "Original",
         "25 min. per ep.",
         "PG-13 - Teens 13 or older",
         "2481.0",
         "1467",
         "94683",
         "587",
         "4300",
         "46165",
         "5121",
         "5378",
         "33719",
         "2182.0",
         "4806.0",
         "10128.0",
         "11618.0",
         "5709.0",
         "2920.0",
         "1083.0",
         "353.0",
         "164.0",
         "131.0",
         "7",
         "Witch Hunter Robin"
        ],
        [
         "4",
         "8",
         "Bouken Ou Beet",
         "6.98",
         "Adventure, Fantasy, Shounen, Supernatural",
         "Beet the Vandel Buster",
         "冒険王ビィト",
         "TV",
         "52",
         "Sep 30, 2004 to Sep 29, 2005",
         "Fall 2004",
         "TV Tokyo, Dentsu",
         null,
         "Toei Animation",
         "Manga",
         "23 min. per ep.",
         "PG - Children",
         "3710.0",
         "4369",
         "13224",
         "18",
         "642",
         "7314",
         "766",
         "1108",
         "3394",
         "312.0",
         "529.0",
         "1242.0",
         "1713.0",
         "1068.0",
         "634.0",
         "265.0",
         "83.0",
         "50.0",
         "27.0",
         "8",
         "Beet the Vandel Buster"
        ]
       ],
       "shape": {
        "columns": 37,
        "rows": 5
       }
      },
      "text/html": [
       "<div>\n",
       "<style scoped>\n",
       "    .dataframe tbody tr th:only-of-type {\n",
       "        vertical-align: middle;\n",
       "    }\n",
       "\n",
       "    .dataframe tbody tr th {\n",
       "        vertical-align: top;\n",
       "    }\n",
       "\n",
       "    .dataframe thead th {\n",
       "        text-align: right;\n",
       "    }\n",
       "</style>\n",
       "<table border=\"1\" class=\"dataframe\">\n",
       "  <thead>\n",
       "    <tr style=\"text-align: right;\">\n",
       "      <th></th>\n",
       "      <th>MAL_ID</th>\n",
       "      <th>Name</th>\n",
       "      <th>Score</th>\n",
       "      <th>Genres</th>\n",
       "      <th>English name</th>\n",
       "      <th>Japanese name</th>\n",
       "      <th>Type</th>\n",
       "      <th>Episodes</th>\n",
       "      <th>Aired</th>\n",
       "      <th>Premiered</th>\n",
       "      <th>...</th>\n",
       "      <th>Score-8</th>\n",
       "      <th>Score-7</th>\n",
       "      <th>Score-6</th>\n",
       "      <th>Score-5</th>\n",
       "      <th>Score-4</th>\n",
       "      <th>Score-3</th>\n",
       "      <th>Score-2</th>\n",
       "      <th>Score-1</th>\n",
       "      <th>anime_id</th>\n",
       "      <th>eng_version</th>\n",
       "    </tr>\n",
       "  </thead>\n",
       "  <tbody>\n",
       "    <tr>\n",
       "      <th>0</th>\n",
       "      <td>1</td>\n",
       "      <td>Cowboy Bebop</td>\n",
       "      <td>8.78</td>\n",
       "      <td>Action, Adventure, Comedy, Drama, Sci-Fi, Space</td>\n",
       "      <td>Cowboy Bebop</td>\n",
       "      <td>カウボーイビバップ</td>\n",
       "      <td>TV</td>\n",
       "      <td>26</td>\n",
       "      <td>Apr 3, 1998 to Apr 24, 1999</td>\n",
       "      <td>Spring 1998</td>\n",
       "      <td>...</td>\n",
       "      <td>131625.0</td>\n",
       "      <td>62330.0</td>\n",
       "      <td>20688.0</td>\n",
       "      <td>8904.0</td>\n",
       "      <td>3184.0</td>\n",
       "      <td>1357.0</td>\n",
       "      <td>741.0</td>\n",
       "      <td>1580.0</td>\n",
       "      <td>1</td>\n",
       "      <td>Cowboy Bebop</td>\n",
       "    </tr>\n",
       "    <tr>\n",
       "      <th>1</th>\n",
       "      <td>5</td>\n",
       "      <td>Cowboy Bebop: Tengoku no Tobira</td>\n",
       "      <td>8.39</td>\n",
       "      <td>Action, Drama, Mystery, Sci-Fi, Space</td>\n",
       "      <td>Cowboy Bebop:The Movie</td>\n",
       "      <td>カウボーイビバップ 天国の扉</td>\n",
       "      <td>Movie</td>\n",
       "      <td>1</td>\n",
       "      <td>Sep 1, 2001</td>\n",
       "      <td>NaN</td>\n",
       "      <td>...</td>\n",
       "      <td>49505.0</td>\n",
       "      <td>22632.0</td>\n",
       "      <td>5805.0</td>\n",
       "      <td>1877.0</td>\n",
       "      <td>577.0</td>\n",
       "      <td>221.0</td>\n",
       "      <td>109.0</td>\n",
       "      <td>379.0</td>\n",
       "      <td>5</td>\n",
       "      <td>Cowboy Bebop:The Movie</td>\n",
       "    </tr>\n",
       "    <tr>\n",
       "      <th>2</th>\n",
       "      <td>6</td>\n",
       "      <td>Trigun</td>\n",
       "      <td>8.24</td>\n",
       "      <td>Action, Sci-Fi, Adventure, Comedy, Drama, Shounen</td>\n",
       "      <td>Trigun</td>\n",
       "      <td>トライガン</td>\n",
       "      <td>TV</td>\n",
       "      <td>26</td>\n",
       "      <td>Apr 1, 1998 to Sep 30, 1998</td>\n",
       "      <td>Spring 1998</td>\n",
       "      <td>...</td>\n",
       "      <td>86142.0</td>\n",
       "      <td>49432.0</td>\n",
       "      <td>15376.0</td>\n",
       "      <td>5838.0</td>\n",
       "      <td>1965.0</td>\n",
       "      <td>664.0</td>\n",
       "      <td>316.0</td>\n",
       "      <td>533.0</td>\n",
       "      <td>6</td>\n",
       "      <td>Trigun</td>\n",
       "    </tr>\n",
       "    <tr>\n",
       "      <th>3</th>\n",
       "      <td>7</td>\n",
       "      <td>Witch Hunter Robin</td>\n",
       "      <td>7.27</td>\n",
       "      <td>Action, Mystery, Police, Supernatural, Drama, ...</td>\n",
       "      <td>Witch Hunter Robin</td>\n",
       "      <td>Witch Hunter ROBIN (ウイッチハンターロビン)</td>\n",
       "      <td>TV</td>\n",
       "      <td>26</td>\n",
       "      <td>Jul 2, 2002 to Dec 24, 2002</td>\n",
       "      <td>Summer 2002</td>\n",
       "      <td>...</td>\n",
       "      <td>10128.0</td>\n",
       "      <td>11618.0</td>\n",
       "      <td>5709.0</td>\n",
       "      <td>2920.0</td>\n",
       "      <td>1083.0</td>\n",
       "      <td>353.0</td>\n",
       "      <td>164.0</td>\n",
       "      <td>131.0</td>\n",
       "      <td>7</td>\n",
       "      <td>Witch Hunter Robin</td>\n",
       "    </tr>\n",
       "    <tr>\n",
       "      <th>4</th>\n",
       "      <td>8</td>\n",
       "      <td>Bouken Ou Beet</td>\n",
       "      <td>6.98</td>\n",
       "      <td>Adventure, Fantasy, Shounen, Supernatural</td>\n",
       "      <td>Beet the Vandel Buster</td>\n",
       "      <td>冒険王ビィト</td>\n",
       "      <td>TV</td>\n",
       "      <td>52</td>\n",
       "      <td>Sep 30, 2004 to Sep 29, 2005</td>\n",
       "      <td>Fall 2004</td>\n",
       "      <td>...</td>\n",
       "      <td>1242.0</td>\n",
       "      <td>1713.0</td>\n",
       "      <td>1068.0</td>\n",
       "      <td>634.0</td>\n",
       "      <td>265.0</td>\n",
       "      <td>83.0</td>\n",
       "      <td>50.0</td>\n",
       "      <td>27.0</td>\n",
       "      <td>8</td>\n",
       "      <td>Beet the Vandel Buster</td>\n",
       "    </tr>\n",
       "  </tbody>\n",
       "</table>\n",
       "<p>5 rows × 37 columns</p>\n",
       "</div>"
      ],
      "text/plain": [
       "   MAL_ID                             Name Score  \\\n",
       "0       1                     Cowboy Bebop  8.78   \n",
       "1       5  Cowboy Bebop: Tengoku no Tobira  8.39   \n",
       "2       6                           Trigun  8.24   \n",
       "3       7               Witch Hunter Robin  7.27   \n",
       "4       8                   Bouken Ou Beet  6.98   \n",
       "\n",
       "                                              Genres            English name  \\\n",
       "0    Action, Adventure, Comedy, Drama, Sci-Fi, Space            Cowboy Bebop   \n",
       "1              Action, Drama, Mystery, Sci-Fi, Space  Cowboy Bebop:The Movie   \n",
       "2  Action, Sci-Fi, Adventure, Comedy, Drama, Shounen                  Trigun   \n",
       "3  Action, Mystery, Police, Supernatural, Drama, ...      Witch Hunter Robin   \n",
       "4          Adventure, Fantasy, Shounen, Supernatural  Beet the Vandel Buster   \n",
       "\n",
       "                      Japanese name   Type Episodes  \\\n",
       "0                         カウボーイビバップ     TV       26   \n",
       "1                    カウボーイビバップ 天国の扉  Movie        1   \n",
       "2                             トライガン     TV       26   \n",
       "3  Witch Hunter ROBIN (ウイッチハンターロビン)     TV       26   \n",
       "4                            冒険王ビィト     TV       52   \n",
       "\n",
       "                          Aired    Premiered  ...   Score-8  Score-7  Score-6  \\\n",
       "0   Apr 3, 1998 to Apr 24, 1999  Spring 1998  ...  131625.0  62330.0  20688.0   \n",
       "1                   Sep 1, 2001          NaN  ...   49505.0  22632.0   5805.0   \n",
       "2   Apr 1, 1998 to Sep 30, 1998  Spring 1998  ...   86142.0  49432.0  15376.0   \n",
       "3   Jul 2, 2002 to Dec 24, 2002  Summer 2002  ...   10128.0  11618.0   5709.0   \n",
       "4  Sep 30, 2004 to Sep 29, 2005    Fall 2004  ...    1242.0   1713.0   1068.0   \n",
       "\n",
       "  Score-5 Score-4 Score-3 Score-2  Score-1  anime_id             eng_version  \n",
       "0  8904.0  3184.0  1357.0   741.0   1580.0         1            Cowboy Bebop  \n",
       "1  1877.0   577.0   221.0   109.0    379.0         5  Cowboy Bebop:The Movie  \n",
       "2  5838.0  1965.0   664.0   316.0    533.0         6                  Trigun  \n",
       "3  2920.0  1083.0   353.0   164.0    131.0         7      Witch Hunter Robin  \n",
       "4   634.0   265.0    83.0    50.0     27.0         8  Beet the Vandel Buster  \n",
       "\n",
       "[5 rows x 37 columns]"
      ]
     },
     "execution_count": 46,
     "metadata": {},
     "output_type": "execute_result"
    }
   ],
   "source": [
    "df.head()"
   ]
  },
  {
   "cell_type": "code",
   "execution_count": 47,
   "metadata": {},
   "outputs": [],
   "source": [
    "df.sort_values(by=[\"Score\"],\n",
    "               inplace=True,\n",
    "               ascending=False,\n",
    "               kind=\"quicksort\",\n",
    "               na_position=\"last\"\n",
    "               )"
   ]
  },
  {
   "cell_type": "code",
   "execution_count": 48,
   "metadata": {},
   "outputs": [
    {
     "data": {
      "application/vnd.microsoft.datawrangler.viewer.v0+json": {
       "columns": [
        {
         "name": "index",
         "rawType": "int64",
         "type": "integer"
        },
        {
         "name": "MAL_ID",
         "rawType": "int64",
         "type": "integer"
        },
        {
         "name": "Name",
         "rawType": "object",
         "type": "string"
        },
        {
         "name": "Score",
         "rawType": "object",
         "type": "string"
        },
        {
         "name": "Genres",
         "rawType": "object",
         "type": "string"
        },
        {
         "name": "English name",
         "rawType": "object",
         "type": "string"
        },
        {
         "name": "Japanese name",
         "rawType": "object",
         "type": "string"
        },
        {
         "name": "Type",
         "rawType": "object",
         "type": "string"
        },
        {
         "name": "Episodes",
         "rawType": "object",
         "type": "string"
        },
        {
         "name": "Aired",
         "rawType": "object",
         "type": "string"
        },
        {
         "name": "Premiered",
         "rawType": "object",
         "type": "string"
        },
        {
         "name": "Producers",
         "rawType": "object",
         "type": "string"
        },
        {
         "name": "Licensors",
         "rawType": "object",
         "type": "string"
        },
        {
         "name": "Studios",
         "rawType": "object",
         "type": "string"
        },
        {
         "name": "Source",
         "rawType": "object",
         "type": "string"
        },
        {
         "name": "Duration",
         "rawType": "object",
         "type": "string"
        },
        {
         "name": "Rating",
         "rawType": "object",
         "type": "string"
        },
        {
         "name": "Ranked",
         "rawType": "object",
         "type": "string"
        },
        {
         "name": "Popularity",
         "rawType": "int64",
         "type": "integer"
        },
        {
         "name": "Members",
         "rawType": "int64",
         "type": "integer"
        },
        {
         "name": "Favorites",
         "rawType": "int64",
         "type": "integer"
        },
        {
         "name": "Watching",
         "rawType": "int64",
         "type": "integer"
        },
        {
         "name": "Completed",
         "rawType": "int64",
         "type": "integer"
        },
        {
         "name": "On-Hold",
         "rawType": "int64",
         "type": "integer"
        },
        {
         "name": "Dropped",
         "rawType": "int64",
         "type": "integer"
        },
        {
         "name": "Plan to Watch",
         "rawType": "int64",
         "type": "integer"
        },
        {
         "name": "Score-10",
         "rawType": "object",
         "type": "string"
        },
        {
         "name": "Score-9",
         "rawType": "object",
         "type": "string"
        },
        {
         "name": "Score-8",
         "rawType": "object",
         "type": "string"
        },
        {
         "name": "Score-7",
         "rawType": "object",
         "type": "string"
        },
        {
         "name": "Score-6",
         "rawType": "object",
         "type": "string"
        },
        {
         "name": "Score-5",
         "rawType": "object",
         "type": "string"
        },
        {
         "name": "Score-4",
         "rawType": "object",
         "type": "string"
        },
        {
         "name": "Score-3",
         "rawType": "object",
         "type": "string"
        },
        {
         "name": "Score-2",
         "rawType": "object",
         "type": "string"
        },
        {
         "name": "Score-1",
         "rawType": "object",
         "type": "string"
        },
        {
         "name": "anime_id",
         "rawType": "int64",
         "type": "integer"
        },
        {
         "name": "eng_version",
         "rawType": "object",
         "type": "string"
        }
       ],
       "conversionMethod": "pd.DataFrame",
       "ref": "70494fcc-8dd8-4dd9-9301-899ee0a7389f",
       "rows": [
        [
         "3971",
         "5114",
         "Fullmetal Alchemist: Brotherhood",
         "9.19",
         "Action, Military, Adventure, Comedy, Drama, Magic, Fantasy, Shounen",
         "Fullmetal Alchemist:Brotherhood",
         "鋼の錬金術師 FULLMETAL ALCHEMIST",
         "TV",
         "64",
         "Apr 5, 2009 to Jul 4, 2010",
         "Spring 2009",
         "Aniplex, Square Enix, Mainichi Broadcasting System, Studio Moriken",
         "Funimation, Aniplex of America",
         "Bones",
         "Manga",
         "24 min. per ep.",
         "R - 17+ (violence & profanity)",
         "1.0",
         "3",
         "2248456",
         "183914",
         "171871",
         "1644938",
         "75728",
         "32456",
         "323463",
         "714811.0",
         "401507.0",
         "199160.0",
         "70045.0",
         "20210.0",
         "9308.0",
         "3222.0",
         "1536.0",
         "2162.0",
         "16806.0",
         "5114",
         "Fullmetal Alchemist:Brotherhood"
        ],
        [
         "15926",
         "40028",
         "Shingeki no Kyojin: The Final Season",
         "9.17",
         "Action, Military, Mystery, Super Power, Drama, Fantasy, Shounen",
         "Attack on Titan Final Season",
         "進撃の巨人 The Final Season",
         "TV",
         "16",
         "Dec 7, 2020 to ?",
         "Winter 2021",
         "Production I.G, Dentsu, Mainichi Broadcasting System, Pony Canyon, Kodansha, Techno Sound, Pony Canyon Enterprise",
         "Funimation",
         "MAPPA",
         "Manga",
         "23 min. per ep.",
         "R - 17+ (violence & profanity)",
         "2.0",
         "119",
         "733260",
         "44862",
         "566239",
         "553",
         "6658",
         "2090",
         "157720",
         "173154.0",
         "63756.0",
         "26016.0",
         "8793.0",
         "2674.0",
         "1336.0",
         "588.0",
         "382.0",
         "514.0",
         "11061.0",
         "40028",
         "Attack on Titan Final Season"
        ],
        [
         "5683",
         "9253",
         "Steins;Gate",
         "9.11",
         "Thriller, Sci-Fi",
         "Steins;Gate",
         "STEINS;GATE",
         "TV",
         "24",
         "Apr 6, 2011 to Sep 14, 2011",
         "Spring 2011",
         "Frontier Works, Media Factory, Movic, AT-X, Kadokawa Pictures Japan, Nitroplus",
         "Funimation",
         "White Fox",
         "Visual novel",
         "24 min. per ep.",
         "PG-13 - Teens 13 or older",
         "3.0",
         "9",
         "1771162",
         "148452",
         "114349",
         "1134756",
         "60926",
         "35600",
         "425531",
         "468504.0",
         "275960.0",
         "140914.0",
         "57740.0",
         "21375.0",
         "11126.0",
         "5061.0",
         "2292.0",
         "1678.0",
         "5255.0",
         "9253",
         "Steins;Gate"
        ],
        [
         "14963",
         "38524",
         "Shingeki no Kyojin Season 3 Part 2",
         "9.1",
         "Action, Drama, Fantasy, Military, Mystery, Shounen, Super Power",
         "Attack on Titan Season 3 Part 2",
         "進撃の巨人 Season3 Part.2",
         "TV",
         "10",
         "Apr 29, 2019 to Jul 1, 2019",
         "Spring 2019",
         "Production I.G, Dentsu, Mainichi Broadcasting System, Pony Canyon, Kodansha, Techno Sound, Pony Canyon Enterprise",
         "Funimation",
         "Wit Studio",
         "Manga",
         "23 min. per ep.",
         "R - 17+ (violence & profanity)",
         "4.0",
         "63",
         "1073626",
         "40985",
         "54607",
         "906824",
         "5533",
         "3099",
         "103563",
         "327290.0",
         "239451.0",
         "110481.0",
         "33662.0",
         "8365.0",
         "2974.0",
         "1108.0",
         "550.0",
         "385.0",
         "4169.0",
         "38524",
         "Attack on Titan Season 3 Part 2"
        ],
        [
         "9913",
         "28977",
         "Gintama°",
         "9.1",
         "Action, Comedy, Historical, Parody, Samurai, Sci-Fi, Shounen",
         "Gintama Season 4",
         "銀魂°",
         "TV",
         "51",
         "Apr 8, 2015 to Mar 30, 2016",
         "Spring 2015",
         "TV Tokyo, Aniplex, Dentsu",
         "Funimation, Crunchyroll",
         "Bandai Namco Pictures",
         "Manga",
         "24 min. per ep.",
         "PG-13 - Teens 13 or older",
         "5.0",
         "329",
         "404121",
         "11868",
         "48011",
         "167130",
         "16612",
         "11472",
         "160896",
         "78918.0",
         "37902.0",
         "21360.0",
         "10215.0",
         "3898.0",
         "2311.0",
         "952.0",
         "648.0",
         "1100.0",
         "4508.0",
         "28977",
         "Gintama Season 4"
        ]
       ],
       "shape": {
        "columns": 37,
        "rows": 5
       }
      },
      "text/html": [
       "<div>\n",
       "<style scoped>\n",
       "    .dataframe tbody tr th:only-of-type {\n",
       "        vertical-align: middle;\n",
       "    }\n",
       "\n",
       "    .dataframe tbody tr th {\n",
       "        vertical-align: top;\n",
       "    }\n",
       "\n",
       "    .dataframe thead th {\n",
       "        text-align: right;\n",
       "    }\n",
       "</style>\n",
       "<table border=\"1\" class=\"dataframe\">\n",
       "  <thead>\n",
       "    <tr style=\"text-align: right;\">\n",
       "      <th></th>\n",
       "      <th>MAL_ID</th>\n",
       "      <th>Name</th>\n",
       "      <th>Score</th>\n",
       "      <th>Genres</th>\n",
       "      <th>English name</th>\n",
       "      <th>Japanese name</th>\n",
       "      <th>Type</th>\n",
       "      <th>Episodes</th>\n",
       "      <th>Aired</th>\n",
       "      <th>Premiered</th>\n",
       "      <th>...</th>\n",
       "      <th>Score-8</th>\n",
       "      <th>Score-7</th>\n",
       "      <th>Score-6</th>\n",
       "      <th>Score-5</th>\n",
       "      <th>Score-4</th>\n",
       "      <th>Score-3</th>\n",
       "      <th>Score-2</th>\n",
       "      <th>Score-1</th>\n",
       "      <th>anime_id</th>\n",
       "      <th>eng_version</th>\n",
       "    </tr>\n",
       "  </thead>\n",
       "  <tbody>\n",
       "    <tr>\n",
       "      <th>3971</th>\n",
       "      <td>5114</td>\n",
       "      <td>Fullmetal Alchemist: Brotherhood</td>\n",
       "      <td>9.19</td>\n",
       "      <td>Action, Military, Adventure, Comedy, Drama, Ma...</td>\n",
       "      <td>Fullmetal Alchemist:Brotherhood</td>\n",
       "      <td>鋼の錬金術師 FULLMETAL ALCHEMIST</td>\n",
       "      <td>TV</td>\n",
       "      <td>64</td>\n",
       "      <td>Apr 5, 2009 to Jul 4, 2010</td>\n",
       "      <td>Spring 2009</td>\n",
       "      <td>...</td>\n",
       "      <td>199160.0</td>\n",
       "      <td>70045.0</td>\n",
       "      <td>20210.0</td>\n",
       "      <td>9308.0</td>\n",
       "      <td>3222.0</td>\n",
       "      <td>1536.0</td>\n",
       "      <td>2162.0</td>\n",
       "      <td>16806.0</td>\n",
       "      <td>5114</td>\n",
       "      <td>Fullmetal Alchemist:Brotherhood</td>\n",
       "    </tr>\n",
       "    <tr>\n",
       "      <th>15926</th>\n",
       "      <td>40028</td>\n",
       "      <td>Shingeki no Kyojin: The Final Season</td>\n",
       "      <td>9.17</td>\n",
       "      <td>Action, Military, Mystery, Super Power, Drama,...</td>\n",
       "      <td>Attack on Titan Final Season</td>\n",
       "      <td>進撃の巨人 The Final Season</td>\n",
       "      <td>TV</td>\n",
       "      <td>16</td>\n",
       "      <td>Dec 7, 2020 to ?</td>\n",
       "      <td>Winter 2021</td>\n",
       "      <td>...</td>\n",
       "      <td>26016.0</td>\n",
       "      <td>8793.0</td>\n",
       "      <td>2674.0</td>\n",
       "      <td>1336.0</td>\n",
       "      <td>588.0</td>\n",
       "      <td>382.0</td>\n",
       "      <td>514.0</td>\n",
       "      <td>11061.0</td>\n",
       "      <td>40028</td>\n",
       "      <td>Attack on Titan Final Season</td>\n",
       "    </tr>\n",
       "    <tr>\n",
       "      <th>5683</th>\n",
       "      <td>9253</td>\n",
       "      <td>Steins;Gate</td>\n",
       "      <td>9.11</td>\n",
       "      <td>Thriller, Sci-Fi</td>\n",
       "      <td>Steins;Gate</td>\n",
       "      <td>STEINS;GATE</td>\n",
       "      <td>TV</td>\n",
       "      <td>24</td>\n",
       "      <td>Apr 6, 2011 to Sep 14, 2011</td>\n",
       "      <td>Spring 2011</td>\n",
       "      <td>...</td>\n",
       "      <td>140914.0</td>\n",
       "      <td>57740.0</td>\n",
       "      <td>21375.0</td>\n",
       "      <td>11126.0</td>\n",
       "      <td>5061.0</td>\n",
       "      <td>2292.0</td>\n",
       "      <td>1678.0</td>\n",
       "      <td>5255.0</td>\n",
       "      <td>9253</td>\n",
       "      <td>Steins;Gate</td>\n",
       "    </tr>\n",
       "    <tr>\n",
       "      <th>14963</th>\n",
       "      <td>38524</td>\n",
       "      <td>Shingeki no Kyojin Season 3 Part 2</td>\n",
       "      <td>9.1</td>\n",
       "      <td>Action, Drama, Fantasy, Military, Mystery, Sho...</td>\n",
       "      <td>Attack on Titan Season 3 Part 2</td>\n",
       "      <td>進撃の巨人 Season3 Part.2</td>\n",
       "      <td>TV</td>\n",
       "      <td>10</td>\n",
       "      <td>Apr 29, 2019 to Jul 1, 2019</td>\n",
       "      <td>Spring 2019</td>\n",
       "      <td>...</td>\n",
       "      <td>110481.0</td>\n",
       "      <td>33662.0</td>\n",
       "      <td>8365.0</td>\n",
       "      <td>2974.0</td>\n",
       "      <td>1108.0</td>\n",
       "      <td>550.0</td>\n",
       "      <td>385.0</td>\n",
       "      <td>4169.0</td>\n",
       "      <td>38524</td>\n",
       "      <td>Attack on Titan Season 3 Part 2</td>\n",
       "    </tr>\n",
       "    <tr>\n",
       "      <th>9913</th>\n",
       "      <td>28977</td>\n",
       "      <td>Gintama°</td>\n",
       "      <td>9.1</td>\n",
       "      <td>Action, Comedy, Historical, Parody, Samurai, S...</td>\n",
       "      <td>Gintama Season 4</td>\n",
       "      <td>銀魂°</td>\n",
       "      <td>TV</td>\n",
       "      <td>51</td>\n",
       "      <td>Apr 8, 2015 to Mar 30, 2016</td>\n",
       "      <td>Spring 2015</td>\n",
       "      <td>...</td>\n",
       "      <td>21360.0</td>\n",
       "      <td>10215.0</td>\n",
       "      <td>3898.0</td>\n",
       "      <td>2311.0</td>\n",
       "      <td>952.0</td>\n",
       "      <td>648.0</td>\n",
       "      <td>1100.0</td>\n",
       "      <td>4508.0</td>\n",
       "      <td>28977</td>\n",
       "      <td>Gintama Season 4</td>\n",
       "    </tr>\n",
       "  </tbody>\n",
       "</table>\n",
       "<p>5 rows × 37 columns</p>\n",
       "</div>"
      ],
      "text/plain": [
       "       MAL_ID                                  Name Score  \\\n",
       "3971     5114      Fullmetal Alchemist: Brotherhood  9.19   \n",
       "15926   40028  Shingeki no Kyojin: The Final Season  9.17   \n",
       "5683     9253                           Steins;Gate  9.11   \n",
       "14963   38524    Shingeki no Kyojin Season 3 Part 2   9.1   \n",
       "9913    28977                              Gintama°   9.1   \n",
       "\n",
       "                                                  Genres  \\\n",
       "3971   Action, Military, Adventure, Comedy, Drama, Ma...   \n",
       "15926  Action, Military, Mystery, Super Power, Drama,...   \n",
       "5683                                    Thriller, Sci-Fi   \n",
       "14963  Action, Drama, Fantasy, Military, Mystery, Sho...   \n",
       "9913   Action, Comedy, Historical, Parody, Samurai, S...   \n",
       "\n",
       "                          English name               Japanese name Type  \\\n",
       "3971   Fullmetal Alchemist:Brotherhood  鋼の錬金術師 FULLMETAL ALCHEMIST   TV   \n",
       "15926     Attack on Titan Final Season      進撃の巨人 The Final Season   TV   \n",
       "5683                       Steins;Gate                 STEINS;GATE   TV   \n",
       "14963  Attack on Titan Season 3 Part 2        進撃の巨人 Season3 Part.2   TV   \n",
       "9913                  Gintama Season 4                         銀魂°   TV   \n",
       "\n",
       "      Episodes                        Aired    Premiered  ...   Score-8  \\\n",
       "3971        64   Apr 5, 2009 to Jul 4, 2010  Spring 2009  ...  199160.0   \n",
       "15926       16             Dec 7, 2020 to ?  Winter 2021  ...   26016.0   \n",
       "5683        24  Apr 6, 2011 to Sep 14, 2011  Spring 2011  ...  140914.0   \n",
       "14963       10  Apr 29, 2019 to Jul 1, 2019  Spring 2019  ...  110481.0   \n",
       "9913        51  Apr 8, 2015 to Mar 30, 2016  Spring 2015  ...   21360.0   \n",
       "\n",
       "       Score-7  Score-6  Score-5 Score-4 Score-3 Score-2  Score-1  anime_id  \\\n",
       "3971   70045.0  20210.0   9308.0  3222.0  1536.0  2162.0  16806.0      5114   \n",
       "15926   8793.0   2674.0   1336.0   588.0   382.0   514.0  11061.0     40028   \n",
       "5683   57740.0  21375.0  11126.0  5061.0  2292.0  1678.0   5255.0      9253   \n",
       "14963  33662.0   8365.0   2974.0  1108.0   550.0   385.0   4169.0     38524   \n",
       "9913   10215.0   3898.0   2311.0   952.0   648.0  1100.0   4508.0     28977   \n",
       "\n",
       "                           eng_version  \n",
       "3971   Fullmetal Alchemist:Brotherhood  \n",
       "15926     Attack on Titan Final Season  \n",
       "5683                       Steins;Gate  \n",
       "14963  Attack on Titan Season 3 Part 2  \n",
       "9913                  Gintama Season 4  \n",
       "\n",
       "[5 rows x 37 columns]"
      ]
     },
     "execution_count": 48,
     "metadata": {},
     "output_type": "execute_result"
    }
   ],
   "source": [
    "df.head()"
   ]
  },
  {
   "cell_type": "code",
   "execution_count": 49,
   "metadata": {},
   "outputs": [],
   "source": [
    "df = df[[\"anime_id\", \"eng_version\", \"Score\", \"Genres\", \"Episodes\", \"Type\", \"Premiered\", \"Members\"]]"
   ]
  },
  {
   "cell_type": "code",
   "execution_count": 50,
   "metadata": {},
   "outputs": [],
   "source": [
    "def get_anime_frame(anime, df):\n",
    "    if isinstance(anime, int):\n",
    "        return df[df.anime_id == anime]\n",
    "    if isinstance(anime, str):\n",
    "        return df[df.eng_version == anime]"
   ]
  },
  {
   "cell_type": "code",
   "execution_count": 51,
   "metadata": {},
   "outputs": [
    {
     "data": {
      "application/vnd.microsoft.datawrangler.viewer.v0+json": {
       "columns": [
        {
         "name": "index",
         "rawType": "int64",
         "type": "integer"
        },
        {
         "name": "anime_id",
         "rawType": "int64",
         "type": "integer"
        },
        {
         "name": "eng_version",
         "rawType": "object",
         "type": "string"
        },
        {
         "name": "Score",
         "rawType": "object",
         "type": "string"
        },
        {
         "name": "Genres",
         "rawType": "object",
         "type": "string"
        },
        {
         "name": "Episodes",
         "rawType": "object",
         "type": "string"
        },
        {
         "name": "Type",
         "rawType": "object",
         "type": "string"
        },
        {
         "name": "Premiered",
         "rawType": "object",
         "type": "string"
        },
        {
         "name": "Members",
         "rawType": "int64",
         "type": "integer"
        }
       ],
       "conversionMethod": "pd.DataFrame",
       "ref": "f59e407a-b32d-47fe-8a51-29723b5a9567",
       "rows": [
        [
         "15926",
         "40028",
         "Attack on Titan Final Season",
         "9.17",
         "Action, Military, Mystery, Super Power, Drama, Fantasy, Shounen",
         "16",
         "TV",
         "Winter 2021",
         "733260"
        ]
       ],
       "shape": {
        "columns": 8,
        "rows": 1
       }
      },
      "text/html": [
       "<div>\n",
       "<style scoped>\n",
       "    .dataframe tbody tr th:only-of-type {\n",
       "        vertical-align: middle;\n",
       "    }\n",
       "\n",
       "    .dataframe tbody tr th {\n",
       "        vertical-align: top;\n",
       "    }\n",
       "\n",
       "    .dataframe thead th {\n",
       "        text-align: right;\n",
       "    }\n",
       "</style>\n",
       "<table border=\"1\" class=\"dataframe\">\n",
       "  <thead>\n",
       "    <tr style=\"text-align: right;\">\n",
       "      <th></th>\n",
       "      <th>anime_id</th>\n",
       "      <th>eng_version</th>\n",
       "      <th>Score</th>\n",
       "      <th>Genres</th>\n",
       "      <th>Episodes</th>\n",
       "      <th>Type</th>\n",
       "      <th>Premiered</th>\n",
       "      <th>Members</th>\n",
       "    </tr>\n",
       "  </thead>\n",
       "  <tbody>\n",
       "    <tr>\n",
       "      <th>15926</th>\n",
       "      <td>40028</td>\n",
       "      <td>Attack on Titan Final Season</td>\n",
       "      <td>9.17</td>\n",
       "      <td>Action, Military, Mystery, Super Power, Drama,...</td>\n",
       "      <td>16</td>\n",
       "      <td>TV</td>\n",
       "      <td>Winter 2021</td>\n",
       "      <td>733260</td>\n",
       "    </tr>\n",
       "  </tbody>\n",
       "</table>\n",
       "</div>"
      ],
      "text/plain": [
       "       anime_id                   eng_version Score  \\\n",
       "15926     40028  Attack on Titan Final Season  9.17   \n",
       "\n",
       "                                                  Genres Episodes Type  \\\n",
       "15926  Action, Military, Mystery, Super Power, Drama,...       16   TV   \n",
       "\n",
       "         Premiered  Members  \n",
       "15926  Winter 2021   733260  "
      ]
     },
     "execution_count": 51,
     "metadata": {},
     "output_type": "execute_result"
    }
   ],
   "source": [
    "get_anime_frame(\"Attack on Titan Final Season\", df)"
   ]
  },
  {
   "cell_type": "markdown",
   "metadata": {},
   "source": [
    "## Working with Anime with synopsis"
   ]
  },
  {
   "cell_type": "code",
   "execution_count": 52,
   "metadata": {},
   "outputs": [],
   "source": [
    "cols = [\"MAL_ID\", \"Name\", \"Genres\", \"sypnopsis\"]"
   ]
  },
  {
   "cell_type": "code",
   "execution_count": 53,
   "metadata": {},
   "outputs": [],
   "source": [
    "synopsis_df = pd.read_csv(INPUT_DIR+\"/anime_with_synopsis.csv\", usecols=cols)"
   ]
  },
  {
   "cell_type": "code",
   "execution_count": 54,
   "metadata": {},
   "outputs": [
    {
     "data": {
      "application/vnd.microsoft.datawrangler.viewer.v0+json": {
       "columns": [
        {
         "name": "index",
         "rawType": "int64",
         "type": "integer"
        },
        {
         "name": "MAL_ID",
         "rawType": "int64",
         "type": "integer"
        },
        {
         "name": "Name",
         "rawType": "object",
         "type": "string"
        },
        {
         "name": "Genres",
         "rawType": "object",
         "type": "string"
        },
        {
         "name": "sypnopsis",
         "rawType": "object",
         "type": "string"
        }
       ],
       "conversionMethod": "pd.DataFrame",
       "ref": "69f8348e-c173-4970-a83c-aa777460615a",
       "rows": [
        [
         "0",
         "1",
         "Cowboy Bebop",
         "Action, Adventure, Comedy, Drama, Sci-Fi, Space",
         "In the year 2071, humanity has colonized several of the planets and moons of the solar system leaving the now uninhabitable surface of planet Earth behind. The Inter Solar System Police attempts to keep peace in the galaxy, aided in part by outlaw bounty hunters, referred to as \"Cowboys.\" The ragtag team aboard the spaceship Bebop are two such individuals. Mellow and carefree Spike Spiegel is balanced by his boisterous, pragmatic partner Jet Black as the pair makes a living chasing bounties and collecting rewards. Thrown off course by the addition of new members that they meet in their travels—Ein, a genetically engineered, highly intelligent Welsh Corgi; femme fatale Faye Valentine, an enigmatic trickster with memory loss; and the strange computer whiz kid Edward Wong—the crew embarks on thrilling adventures that unravel each member's dark and mysterious past little by little. Well-balanced with high density action and light-hearted comedy, Cowboy Bebop is a space Western classic and an homage to the smooth and improvised music it is named after."
        ]
       ],
       "shape": {
        "columns": 4,
        "rows": 1
       }
      },
      "text/html": [
       "<div>\n",
       "<style scoped>\n",
       "    .dataframe tbody tr th:only-of-type {\n",
       "        vertical-align: middle;\n",
       "    }\n",
       "\n",
       "    .dataframe tbody tr th {\n",
       "        vertical-align: top;\n",
       "    }\n",
       "\n",
       "    .dataframe thead th {\n",
       "        text-align: right;\n",
       "    }\n",
       "</style>\n",
       "<table border=\"1\" class=\"dataframe\">\n",
       "  <thead>\n",
       "    <tr style=\"text-align: right;\">\n",
       "      <th></th>\n",
       "      <th>MAL_ID</th>\n",
       "      <th>Name</th>\n",
       "      <th>Genres</th>\n",
       "      <th>sypnopsis</th>\n",
       "    </tr>\n",
       "  </thead>\n",
       "  <tbody>\n",
       "    <tr>\n",
       "      <th>0</th>\n",
       "      <td>1</td>\n",
       "      <td>Cowboy Bebop</td>\n",
       "      <td>Action, Adventure, Comedy, Drama, Sci-Fi, Space</td>\n",
       "      <td>In the year 2071, humanity has colonized sever...</td>\n",
       "    </tr>\n",
       "  </tbody>\n",
       "</table>\n",
       "</div>"
      ],
      "text/plain": [
       "   MAL_ID          Name                                           Genres  \\\n",
       "0       1  Cowboy Bebop  Action, Adventure, Comedy, Drama, Sci-Fi, Space   \n",
       "\n",
       "                                           sypnopsis  \n",
       "0  In the year 2071, humanity has colonized sever...  "
      ]
     },
     "execution_count": 54,
     "metadata": {},
     "output_type": "execute_result"
    }
   ],
   "source": [
    "synopsis_df.head(1)"
   ]
  },
  {
   "cell_type": "code",
   "execution_count": 55,
   "metadata": {},
   "outputs": [],
   "source": [
    "def get_synopsis(anime, df):\n",
    "    if isinstance(anime, int):\n",
    "        return df[df.MAL_ID == anime].sypnopsis.values[0]\n",
    "    if isinstance(anime, str):\n",
    "        return df[df.Name == anime].sypnopsis.values[0]"
   ]
  },
  {
   "cell_type": "code",
   "execution_count": 56,
   "metadata": {},
   "outputs": [
    {
     "data": {
      "text/plain": [
       "\"Gabi Braun and Falco Grice have been training their entire lives to inherit one of the seven titans under Marley's control and aid their nation in eradicating the Eldians on Paradis. However, just as all seems well for the two cadets, their peace is suddenly shaken by the arrival of Eren Yeager and the remaining members of the Survey Corps. Having finally reached the Yeager family basement and learned about the dark history surrounding the titans, the Survey Corps has at long last found the answer they so desperately fought to uncover. With the truth now in their hands, the group set out for the world beyond the walls. In Shingeki no Kyojin: The Final Season , two utterly different worlds collide as each party pursues its own agenda in the long-awaited conclusion to Paradis' fight for freedom.\""
      ]
     },
     "execution_count": 56,
     "metadata": {},
     "output_type": "execute_result"
    }
   ],
   "source": [
    "get_synopsis(40028, synopsis_df)"
   ]
  },
  {
   "cell_type": "markdown",
   "metadata": {},
   "source": [
    "## Content/Item based recommendation system"
   ]
  },
  {
   "cell_type": "code",
   "execution_count": 57,
   "metadata": {},
   "outputs": [],
   "source": [
    "pd.set_option(\"max_colwidth\",None)"
   ]
  },
  {
   "cell_type": "code",
   "execution_count": 97,
   "metadata": {},
   "outputs": [],
   "source": [
    "def find_similar_animes(name, anime_weights, anime2anime_encoded, anime2anime_decoded, df, synopsis_df, n = 10, return_dist=False, neg=False):\n",
    "    try:\n",
    "        index = get_anime_frame(name, df).anime_id.values[0]\n",
    "        encoded_index = anime2anime_encoded.get(index)\n",
    "\n",
    "        weights = anime_weights\n",
    "\n",
    "        dists = np.dot(weights, weights[encoded_index])\n",
    "        sorted_dists = np.argsort(dists)\n",
    "\n",
    "        n = n+1\n",
    "\n",
    "        if neg:\n",
    "            closest = sorted_dists[:n]\n",
    "        else:\n",
    "            closest = sorted_dists[-n:]\n",
    "\n",
    "        if return_dist:\n",
    "            return dists, closest\n",
    "        \n",
    "        similarity_array = []\n",
    "\n",
    "        for close in closest:\n",
    "            decoded_id = anime2anime_decoded.get(close)\n",
    "\n",
    "            anime_frame = get_anime_frame(decoded_id, df)\n",
    "\n",
    "            anime_name = anime_frame.eng_version.values[0]\n",
    "            genre = anime_frame.Genres.values[0]\n",
    "            similarity = dists[close]\n",
    "\n",
    "            similarity_array.append({\n",
    "                \"anime_id\": decoded_id,\n",
    "                \"name\": anime_name,\n",
    "                \"similarity\": similarity,\n",
    "                \"genre\" :genre,\n",
    "            })\n",
    "        Frame = pd.DataFrame(similarity_array).sort_values(by=\"similarity\", ascending=False)\n",
    "        return Frame[Frame.anime_id != index].drop([\"anime_id\"], axis=1)\n",
    "    except Exception as e:\n",
    "        print(\"Error occurred\", e)\n"
   ]
  },
  {
   "cell_type": "code",
   "execution_count": 99,
   "metadata": {},
   "outputs": [
    {
     "data": {
      "application/vnd.microsoft.datawrangler.viewer.v0+json": {
       "columns": [
        {
         "name": "index",
         "rawType": "int64",
         "type": "integer"
        },
        {
         "name": "name",
         "rawType": "object",
         "type": "string"
        },
        {
         "name": "similarity",
         "rawType": "float32",
         "type": "float"
        },
        {
         "name": "genre",
         "rawType": "object",
         "type": "string"
        }
       ],
       "conversionMethod": "pd.DataFrame",
       "ref": "31eea97c-54d0-4d66-837d-37debb67fdb0",
       "rows": [
        [
         "9",
         "Baka to Test to Shoukanjuu Specials",
         "0.3445714",
         "Magic, Comedy, School"
        ],
        [
         "8",
         "In The Beginning:The Bible Stories",
         "0.34036484",
         "Historical"
        ],
        [
         "7",
         "Crayon Angel",
         "0.3326307",
         "Dementia"
        ],
        [
         "6",
         "Oniku Daisuki! Zeushi-kun: Suteki na Hamburger",
         "0.32508796",
         "Comedy"
        ],
        [
         "5",
         "Momoko",
         "0.31729466",
         "Hentai, Romance"
        ],
        [
         "4",
         "Zoids Genesis",
         "0.31420562",
         "Action, Adventure, Comedy, Mecha, Military"
        ],
        [
         "3",
         "Major S1",
         "0.30237564",
         "Comedy, Sports, Drama, Shounen"
        ],
        [
         "2",
         "Otome Hime",
         "0.29643807",
         "Hentai"
        ],
        [
         "1",
         "Saboten ga Nikui",
         "0.28545588",
         "Music, Comedy, Kids"
        ],
        [
         "0",
         "Bondage House",
         "0.285046",
         "Hentai"
        ]
       ],
       "shape": {
        "columns": 3,
        "rows": 10
       }
      },
      "text/html": [
       "<div>\n",
       "<style scoped>\n",
       "    .dataframe tbody tr th:only-of-type {\n",
       "        vertical-align: middle;\n",
       "    }\n",
       "\n",
       "    .dataframe tbody tr th {\n",
       "        vertical-align: top;\n",
       "    }\n",
       "\n",
       "    .dataframe thead th {\n",
       "        text-align: right;\n",
       "    }\n",
       "</style>\n",
       "<table border=\"1\" class=\"dataframe\">\n",
       "  <thead>\n",
       "    <tr style=\"text-align: right;\">\n",
       "      <th></th>\n",
       "      <th>name</th>\n",
       "      <th>similarity</th>\n",
       "      <th>genre</th>\n",
       "    </tr>\n",
       "  </thead>\n",
       "  <tbody>\n",
       "    <tr>\n",
       "      <th>9</th>\n",
       "      <td>Baka to Test to Shoukanjuu Specials</td>\n",
       "      <td>0.344571</td>\n",
       "      <td>Magic, Comedy, School</td>\n",
       "    </tr>\n",
       "    <tr>\n",
       "      <th>8</th>\n",
       "      <td>In The Beginning:The Bible Stories</td>\n",
       "      <td>0.340365</td>\n",
       "      <td>Historical</td>\n",
       "    </tr>\n",
       "    <tr>\n",
       "      <th>7</th>\n",
       "      <td>Crayon Angel</td>\n",
       "      <td>0.332631</td>\n",
       "      <td>Dementia</td>\n",
       "    </tr>\n",
       "    <tr>\n",
       "      <th>6</th>\n",
       "      <td>Oniku Daisuki! Zeushi-kun: Suteki na Hamburger</td>\n",
       "      <td>0.325088</td>\n",
       "      <td>Comedy</td>\n",
       "    </tr>\n",
       "    <tr>\n",
       "      <th>5</th>\n",
       "      <td>Momoko</td>\n",
       "      <td>0.317295</td>\n",
       "      <td>Hentai, Romance</td>\n",
       "    </tr>\n",
       "    <tr>\n",
       "      <th>4</th>\n",
       "      <td>Zoids Genesis</td>\n",
       "      <td>0.314206</td>\n",
       "      <td>Action, Adventure, Comedy, Mecha, Military</td>\n",
       "    </tr>\n",
       "    <tr>\n",
       "      <th>3</th>\n",
       "      <td>Major S1</td>\n",
       "      <td>0.302376</td>\n",
       "      <td>Comedy, Sports, Drama, Shounen</td>\n",
       "    </tr>\n",
       "    <tr>\n",
       "      <th>2</th>\n",
       "      <td>Otome Hime</td>\n",
       "      <td>0.296438</td>\n",
       "      <td>Hentai</td>\n",
       "    </tr>\n",
       "    <tr>\n",
       "      <th>1</th>\n",
       "      <td>Saboten ga Nikui</td>\n",
       "      <td>0.285456</td>\n",
       "      <td>Music, Comedy, Kids</td>\n",
       "    </tr>\n",
       "    <tr>\n",
       "      <th>0</th>\n",
       "      <td>Bondage House</td>\n",
       "      <td>0.285046</td>\n",
       "      <td>Hentai</td>\n",
       "    </tr>\n",
       "  </tbody>\n",
       "</table>\n",
       "</div>"
      ],
      "text/plain": [
       "                                             name  similarity  \\\n",
       "9             Baka to Test to Shoukanjuu Specials    0.344571   \n",
       "8              In The Beginning:The Bible Stories    0.340365   \n",
       "7                                    Crayon Angel    0.332631   \n",
       "6  Oniku Daisuki! Zeushi-kun: Suteki na Hamburger    0.325088   \n",
       "5                                          Momoko    0.317295   \n",
       "4                                   Zoids Genesis    0.314206   \n",
       "3                                        Major S1    0.302376   \n",
       "2                                      Otome Hime    0.296438   \n",
       "1                                Saboten ga Nikui    0.285456   \n",
       "0                                   Bondage House    0.285046   \n",
       "\n",
       "                                        genre  \n",
       "9                       Magic, Comedy, School  \n",
       "8                                  Historical  \n",
       "7                                    Dementia  \n",
       "6                                      Comedy  \n",
       "5                             Hentai, Romance  \n",
       "4  Action, Adventure, Comedy, Mecha, Military  \n",
       "3              Comedy, Sports, Drama, Shounen  \n",
       "2                                      Hentai  \n",
       "1                         Music, Comedy, Kids  \n",
       "0                                      Hentai  "
      ]
     },
     "execution_count": 99,
     "metadata": {},
     "output_type": "execute_result"
    }
   ],
   "source": [
    "find_similar_animes(\n",
    "    \"Steins;Gate\",\n",
    "    anime_weights,\n",
    "    anime2anime_encoded,\n",
    "    anime2anime_decoded,\n",
    "    df,\n",
    "    synopsis_df,\n",
    "    n=10,\n",
    "    \n",
    ")"
   ]
  },
  {
   "cell_type": "markdown",
   "metadata": {},
   "source": [
    "### User based Recommendation"
   ]
  },
  {
   "cell_type": "code",
   "execution_count": 100,
   "metadata": {},
   "outputs": [],
   "source": [
    "def find_similar_users(item_input, user_weights, user2user_encoded, user2user_decoded, n=10, return_dist=False, neg=False):\n",
    "    try:\n",
    "        index = item_input\n",
    "        encoded_index = user2user_encoded.get(index)\n",
    "\n",
    "        weights = user_weights\n",
    "\n",
    "        dists = np.dot(weights, weights[encoded_index])\n",
    "        sorted_dists = np.argsort(dists)\n",
    "\n",
    "        n = n+1\n",
    "        if neg:\n",
    "            closest = sorted_dists[:n]\n",
    "        else:\n",
    "            closest = sorted_dists[-n:]\n",
    "\n",
    "        if return_dist:\n",
    "            return dists, closest\n",
    "        \n",
    "        similarity_arr = []\n",
    "\n",
    "        for close in closest:\n",
    "            similarity = dists[close]\n",
    "\n",
    "            if isinstance(item_input, int):\n",
    "                decoded_id = user2user_decoded.get(close)\n",
    "                similarity_arr.append({\n",
    "                    \"similar_users\": decoded_id,\n",
    "                    \"similarity\": similarity\n",
    "                })\n",
    "\n",
    "        similar_users = pd.DataFrame(similarity_arr).sort_values(by=\"similarity\", ascending=False)\n",
    "        similar_users = similar_users[similar_users.similar_users != item_input]\n",
    "        return similar_users\n",
    "    except Exception as e:\n",
    "        print(\"Error occurred\", e)"
   ]
  },
  {
   "cell_type": "code",
   "execution_count": 101,
   "metadata": {},
   "outputs": [
    {
     "data": {
      "application/vnd.microsoft.datawrangler.viewer.v0+json": {
       "columns": [
        {
         "name": "index",
         "rawType": "int64",
         "type": "integer"
        },
        {
         "name": "similar_users",
         "rawType": "int64",
         "type": "integer"
        },
        {
         "name": "similarity",
         "rawType": "float32",
         "type": "float"
        }
       ],
       "conversionMethod": "pd.DataFrame",
       "ref": "54e9fb63-5016-4670-8f58-525733f36d6e",
       "rows": [
        [
         "9",
         "8774",
         "0.30795658"
        ],
        [
         "8",
         "15233",
         "0.28642425"
        ],
        [
         "7",
         "8940",
         "0.28220153"
        ],
        [
         "6",
         "13970",
         "0.26555192"
        ],
        [
         "5",
         "8155",
         "0.26419723"
        ],
        [
         "4",
         "14808",
         "0.25979704"
        ],
        [
         "3",
         "10543",
         "0.25878748"
        ],
        [
         "2",
         "8012",
         "0.25178486"
        ],
        [
         "1",
         "4524",
         "0.25143847"
        ],
        [
         "0",
         "7986",
         "0.24961123"
        ]
       ],
       "shape": {
        "columns": 2,
        "rows": 10
       }
      },
      "text/html": [
       "<div>\n",
       "<style scoped>\n",
       "    .dataframe tbody tr th:only-of-type {\n",
       "        vertical-align: middle;\n",
       "    }\n",
       "\n",
       "    .dataframe tbody tr th {\n",
       "        vertical-align: top;\n",
       "    }\n",
       "\n",
       "    .dataframe thead th {\n",
       "        text-align: right;\n",
       "    }\n",
       "</style>\n",
       "<table border=\"1\" class=\"dataframe\">\n",
       "  <thead>\n",
       "    <tr style=\"text-align: right;\">\n",
       "      <th></th>\n",
       "      <th>similar_users</th>\n",
       "      <th>similarity</th>\n",
       "    </tr>\n",
       "  </thead>\n",
       "  <tbody>\n",
       "    <tr>\n",
       "      <th>9</th>\n",
       "      <td>8774</td>\n",
       "      <td>0.307957</td>\n",
       "    </tr>\n",
       "    <tr>\n",
       "      <th>8</th>\n",
       "      <td>15233</td>\n",
       "      <td>0.286424</td>\n",
       "    </tr>\n",
       "    <tr>\n",
       "      <th>7</th>\n",
       "      <td>8940</td>\n",
       "      <td>0.282202</td>\n",
       "    </tr>\n",
       "    <tr>\n",
       "      <th>6</th>\n",
       "      <td>13970</td>\n",
       "      <td>0.265552</td>\n",
       "    </tr>\n",
       "    <tr>\n",
       "      <th>5</th>\n",
       "      <td>8155</td>\n",
       "      <td>0.264197</td>\n",
       "    </tr>\n",
       "    <tr>\n",
       "      <th>4</th>\n",
       "      <td>14808</td>\n",
       "      <td>0.259797</td>\n",
       "    </tr>\n",
       "    <tr>\n",
       "      <th>3</th>\n",
       "      <td>10543</td>\n",
       "      <td>0.258787</td>\n",
       "    </tr>\n",
       "    <tr>\n",
       "      <th>2</th>\n",
       "      <td>8012</td>\n",
       "      <td>0.251785</td>\n",
       "    </tr>\n",
       "    <tr>\n",
       "      <th>1</th>\n",
       "      <td>4524</td>\n",
       "      <td>0.251438</td>\n",
       "    </tr>\n",
       "    <tr>\n",
       "      <th>0</th>\n",
       "      <td>7986</td>\n",
       "      <td>0.249611</td>\n",
       "    </tr>\n",
       "  </tbody>\n",
       "</table>\n",
       "</div>"
      ],
      "text/plain": [
       "   similar_users  similarity\n",
       "9           8774    0.307957\n",
       "8          15233    0.286424\n",
       "7           8940    0.282202\n",
       "6          13970    0.265552\n",
       "5           8155    0.264197\n",
       "4          14808    0.259797\n",
       "3          10543    0.258787\n",
       "2           8012    0.251785\n",
       "1           4524    0.251438\n",
       "0           7986    0.249611"
      ]
     },
     "execution_count": 101,
     "metadata": {},
     "output_type": "execute_result"
    }
   ],
   "source": [
    "find_similar_users(int(11880),user_weights,user2user_encoded,user2user_decoded)"
   ]
  },
  {
   "cell_type": "code",
   "execution_count": 102,
   "metadata": {},
   "outputs": [],
   "source": [
    "def showWordCloud(all_genres):\n",
    "    genres_cloud = WordCloud(width=700,height=400,background_color='white',colormap='gnuplot').generate_from_frequencies(all_genres)\n",
    "    plt.figure(figsize=(10,8))\n",
    "    plt.imshow(genres_cloud,interpolation=\"bilinear\")\n",
    "    plt.axis(\"off\")\n",
    "    plt.show()"
   ]
  },
  {
   "cell_type": "code",
   "execution_count": 103,
   "metadata": {},
   "outputs": [],
   "source": [
    "from collections import defaultdict"
   ]
  },
  {
   "cell_type": "code",
   "execution_count": 104,
   "metadata": {},
   "outputs": [
    {
     "data": {
      "application/vnd.microsoft.datawrangler.viewer.v0+json": {
       "columns": [
        {
         "name": "index",
         "rawType": "int64",
         "type": "integer"
        },
        {
         "name": "anime_id",
         "rawType": "int64",
         "type": "integer"
        },
        {
         "name": "eng_version",
         "rawType": "object",
         "type": "string"
        },
        {
         "name": "Score",
         "rawType": "object",
         "type": "string"
        },
        {
         "name": "Genres",
         "rawType": "object",
         "type": "string"
        },
        {
         "name": "Episodes",
         "rawType": "object",
         "type": "string"
        },
        {
         "name": "Type",
         "rawType": "object",
         "type": "string"
        },
        {
         "name": "Premiered",
         "rawType": "object",
         "type": "string"
        },
        {
         "name": "Members",
         "rawType": "int64",
         "type": "integer"
        }
       ],
       "conversionMethod": "pd.DataFrame",
       "ref": "d381b16d-f194-4120-99cf-794fdcefa780",
       "rows": [
        [
         "3971",
         "5114",
         "Fullmetal Alchemist:Brotherhood",
         "9.19",
         "Action, Military, Adventure, Comedy, Drama, Magic, Fantasy, Shounen",
         "64",
         "TV",
         "Spring 2009",
         "2248456"
        ]
       ],
       "shape": {
        "columns": 8,
        "rows": 1
       }
      },
      "text/html": [
       "<div>\n",
       "<style scoped>\n",
       "    .dataframe tbody tr th:only-of-type {\n",
       "        vertical-align: middle;\n",
       "    }\n",
       "\n",
       "    .dataframe tbody tr th {\n",
       "        vertical-align: top;\n",
       "    }\n",
       "\n",
       "    .dataframe thead th {\n",
       "        text-align: right;\n",
       "    }\n",
       "</style>\n",
       "<table border=\"1\" class=\"dataframe\">\n",
       "  <thead>\n",
       "    <tr style=\"text-align: right;\">\n",
       "      <th></th>\n",
       "      <th>anime_id</th>\n",
       "      <th>eng_version</th>\n",
       "      <th>Score</th>\n",
       "      <th>Genres</th>\n",
       "      <th>Episodes</th>\n",
       "      <th>Type</th>\n",
       "      <th>Premiered</th>\n",
       "      <th>Members</th>\n",
       "    </tr>\n",
       "  </thead>\n",
       "  <tbody>\n",
       "    <tr>\n",
       "      <th>3971</th>\n",
       "      <td>5114</td>\n",
       "      <td>Fullmetal Alchemist:Brotherhood</td>\n",
       "      <td>9.19</td>\n",
       "      <td>Action, Military, Adventure, Comedy, Drama, Magic, Fantasy, Shounen</td>\n",
       "      <td>64</td>\n",
       "      <td>TV</td>\n",
       "      <td>Spring 2009</td>\n",
       "      <td>2248456</td>\n",
       "    </tr>\n",
       "  </tbody>\n",
       "</table>\n",
       "</div>"
      ],
      "text/plain": [
       "      anime_id                      eng_version Score  \\\n",
       "3971      5114  Fullmetal Alchemist:Brotherhood  9.19   \n",
       "\n",
       "                                                                   Genres  \\\n",
       "3971  Action, Military, Adventure, Comedy, Drama, Magic, Fantasy, Shounen   \n",
       "\n",
       "     Episodes Type    Premiered  Members  \n",
       "3971       64   TV  Spring 2009  2248456  "
      ]
     },
     "execution_count": 104,
     "metadata": {},
     "output_type": "execute_result"
    }
   ],
   "source": [
    "df.head(1)"
   ]
  },
  {
   "cell_type": "code",
   "execution_count": 106,
   "metadata": {},
   "outputs": [],
   "source": [
    "def get_fav_genre(frame , plot=False):\n",
    "    frame.dropna(inplace=False)\n",
    "    all_genres = defaultdict(int)\n",
    "\n",
    "    genres_list = []\n",
    "    for genres in frame[\"Genres\"]:\n",
    "        if isinstance(genres,str):\n",
    "            for genre in genres.split(','):\n",
    "                genres_list.append(genre)\n",
    "                all_genres[genre.strip()] += 1\n",
    "\n",
    "    if plot:\n",
    "        showWordCloud(all_genres)\n",
    "    \n",
    "    return genres_list\n",
    "\n"
   ]
  },
  {
   "cell_type": "code",
   "execution_count": 79,
   "metadata": {},
   "outputs": [
    {
     "data": {
      "application/vnd.microsoft.datawrangler.viewer.v0+json": {
       "columns": [
        {
         "name": "index",
         "rawType": "int64",
         "type": "integer"
        },
        {
         "name": "user_id",
         "rawType": "int64",
         "type": "integer"
        },
        {
         "name": "anime_id",
         "rawType": "int64",
         "type": "integer"
        },
        {
         "name": "rating",
         "rawType": "float64",
         "type": "float"
        },
        {
         "name": "user",
         "rawType": "int64",
         "type": "integer"
        },
        {
         "name": "anime",
         "rawType": "int64",
         "type": "integer"
        }
       ],
       "conversionMethod": "pd.DataFrame",
       "ref": "c26343ba-aea8-4620-bf03-6881545f26e3",
       "rows": [
        [
         "213",
         "2",
         "24833",
         "0.0",
         "0",
         "0"
        ],
        [
         "214",
         "2",
         "235",
         "1.0",
         "0",
         "1"
        ]
       ],
       "shape": {
        "columns": 5,
        "rows": 2
       }
      },
      "text/html": [
       "<div>\n",
       "<style scoped>\n",
       "    .dataframe tbody tr th:only-of-type {\n",
       "        vertical-align: middle;\n",
       "    }\n",
       "\n",
       "    .dataframe tbody tr th {\n",
       "        vertical-align: top;\n",
       "    }\n",
       "\n",
       "    .dataframe thead th {\n",
       "        text-align: right;\n",
       "    }\n",
       "</style>\n",
       "<table border=\"1\" class=\"dataframe\">\n",
       "  <thead>\n",
       "    <tr style=\"text-align: right;\">\n",
       "      <th></th>\n",
       "      <th>user_id</th>\n",
       "      <th>anime_id</th>\n",
       "      <th>rating</th>\n",
       "      <th>user</th>\n",
       "      <th>anime</th>\n",
       "    </tr>\n",
       "  </thead>\n",
       "  <tbody>\n",
       "    <tr>\n",
       "      <th>213</th>\n",
       "      <td>2</td>\n",
       "      <td>24833</td>\n",
       "      <td>0.0</td>\n",
       "      <td>0</td>\n",
       "      <td>0</td>\n",
       "    </tr>\n",
       "    <tr>\n",
       "      <th>214</th>\n",
       "      <td>2</td>\n",
       "      <td>235</td>\n",
       "      <td>1.0</td>\n",
       "      <td>0</td>\n",
       "      <td>1</td>\n",
       "    </tr>\n",
       "  </tbody>\n",
       "</table>\n",
       "</div>"
      ],
      "text/plain": [
       "     user_id  anime_id  rating  user  anime\n",
       "213        2     24833     0.0     0      0\n",
       "214        2       235     1.0     0      1"
      ]
     },
     "execution_count": 79,
     "metadata": {},
     "output_type": "execute_result"
    }
   ],
   "source": [
    "rating_df.head(2)"
   ]
  },
  {
   "cell_type": "code",
   "execution_count": 107,
   "metadata": {},
   "outputs": [],
   "source": [
    "def get_user_preferences(user_id , rating_df , df ,plot=False):\n",
    "\n",
    "    animes_watched_by_user = rating_df[rating_df.user_id == user_id]\n",
    "\n",
    "    user_rating_percentile = np.percentile(animes_watched_by_user.rating , 75)\n",
    "\n",
    "    animes_watched_by_user = animes_watched_by_user[animes_watched_by_user.rating >= user_rating_percentile]\n",
    "\n",
    "    top_animes_user = (\n",
    "        animes_watched_by_user.sort_values(by=\"rating\" , ascending=False).anime_id.values\n",
    "    )\n",
    "\n",
    "    anime_df_rows = df[df[\"anime_id\"].isin(top_animes_user)]\n",
    "    anime_df_rows = anime_df_rows[[\"eng_version\",\"Genres\"]]\n",
    "\n",
    "    if plot:\n",
    "        get_fav_genre(anime_df_rows,plot)\n",
    "\n",
    "\n",
    "    return anime_df_rows\n",
    "\n",
    "\n"
   ]
  },
  {
   "cell_type": "code",
   "execution_count": 108,
   "metadata": {},
   "outputs": [
    {
     "data": {
      "image/png": "[encoded data removed]",
      "text/plain": [
       "<Figure size 1000x800 with 1 Axes>"
      ]
     },
     "metadata": {},
     "output_type": "display_data"
    },
    {
     "data": {
      "application/vnd.microsoft.datawrangler.viewer.v0+json": {
       "columns": [
        {
         "name": "index",
         "rawType": "int64",
         "type": "integer"
        },
        {
         "name": "eng_version",
         "rawType": "object",
         "type": "string"
        },
        {
         "name": "Genres",
         "rawType": "object",
         "type": "string"
        }
       ],
       "conversionMethod": "pd.DataFrame",
       "ref": "4ffd4ad3-2b56-4871-8f37-1c96e0d9261e",
       "rows": [
        [
         "3971",
         "Fullmetal Alchemist:Brotherhood",
         "Action, Military, Adventure, Comedy, Drama, Magic, Fantasy, Shounen"
        ],
        [
         "9913",
         "Gintama Season 4",
         "Action, Comedy, Historical, Parody, Samurai, Sci-Fi, Shounen"
        ],
        [
         "6474",
         "Hunter x Hunter",
         "Action, Adventure, Fantasy, Shounen, Super Power"
        ],
        [
         "6006",
         "Gintama Season 2",
         "Action, Sci-Fi, Comedy, Historical, Parody, Samurai, Shounen"
        ],
        [
         "741",
         "Legend of the Galactic Heroes",
         "Military, Sci-Fi, Space, Drama"
        ],
        [
         "7261",
         "Gintama:Enchousen",
         "Action, Comedy, Historical, Parody, Samurai, Sci-Fi, Shounen"
        ],
        [
         "12242",
         "Gintama Season 5",
         "Action, Comedy, Historical, Parody, Samurai, Sci-Fi, Shounen"
        ],
        [
         "7249",
         "Gintama Movie 2: Kanketsu-hen - Yorozuya yo Eien Nare",
         "Action, Sci-Fi, Comedy, Historical, Parody, Samurai, Shounen"
        ],
        [
         "833",
         "Gintama",
         "Action, Comedy, Historical, Parody, Samurai, Sci-Fi, Shounen"
        ],
        [
         "7577",
         "Monogatari Series:Second Season",
         "Mystery, Comedy, Supernatural, Romance, Vampire"
        ],
        [
         "0",
         "Cowboy Bebop",
         "Action, Adventure, Comedy, Drama, Sci-Fi, Space"
        ],
        [
         "239",
         "Fighting Spirit",
         "Comedy, Sports, Drama, Shounen"
        ],
        [
         "8559",
         "MUSHI-SHI -Next Passage-",
         "Adventure, Slice of Life, Mystery, Historical, Supernatural, Fantasy, Seinen"
        ],
        [
         "221",
         "Great Teacher Onizuka",
         "Slice of Life, Comedy, Drama, School, Shounen"
        ],
        [
         "428",
         "Mushi-Shi",
         "Adventure, Slice of Life, Mystery, Historical, Supernatural, Fantasy, Seinen"
        ],
        [
         "4050",
         "Fighting Spirit:New Challenger",
         "Comedy, Sports, Drama, Shounen"
        ],
        [
         "1822",
         "Gurren Lagann",
         "Action, Adventure, Comedy, Mecha, Sci-Fi"
        ],
        [
         "4970",
         "The Disappearance of Haruhi Suzumiya",
         "Comedy, Mystery, Romance, School, Sci-Fi, Supernatural"
        ],
        [
         "8606",
         "Ping Pong the Animation",
         "Drama, Psychological, Seinen, Sports"
        ],
        [
         "8117",
         "Hajime No Ippo:The Fighting!",
         "Comedy, Sports, Drama, Shounen"
        ],
        [
         "6736",
         "Bakuman.",
         "Comedy, Drama, Romance, Shounen"
        ],
        [
         "10451",
         "One Punch Man",
         "Action, Sci-Fi, Comedy, Parody, Super Power, Supernatural"
        ],
        [
         "8430",
         "The Shadow that Devours the Sun",
         "Adventure, Slice of Life, Mystery, Historical, Supernatural, Fantasy, Seinen"
        ],
        [
         "148",
         "Slam Dunk",
         "Comedy, Drama, School, Shounen, Sports"
        ],
        [
         "6751",
         "Space Brothers",
         "Comedy, Sci-Fi, Seinen, Slice of Life, Space"
        ],
        [
         "5022",
         "Gintama:The Movie",
         "Action, Sci-Fi, Comedy, Historical, Parody, Samurai, Shounen"
        ],
        [
         "542",
         "Grave of the Fireflies",
         "Drama, Historical"
        ],
        [
         "11179",
         "JoJo's Bizarre Adventure:Diamond is Unbreakable",
         "Action, Adventure, Comedy, Supernatural, Drama, Shounen"
        ],
        [
         "22",
         "Neon Genesis Evangelion:The End of Evangelion",
         "Sci-Fi, Dementia, Psychological, Drama, Mecha"
        ],
        [
         "182",
         "Samurai Champloo",
         "Action, Adventure, Comedy, Historical, Samurai, Shounen"
        ],
        [
         "6094",
         "Nichijou - My Ordinary Life",
         "Slice of Life, Comedy, School, Shounen"
        ],
        [
         "9179",
         "Mushishi Path of Thorns",
         "Adventure, Fantasy, Historical, Mystery, Seinen, Slice of Life, Supernatural"
        ],
        [
         "368",
         "Yu Yu Hakusho:Ghost Files",
         "Action, Comedy, Demons, Supernatural, Martial Arts, Shounen"
        ],
        [
         "9440",
         "JoJo's Bizarre Adventure:Stardust Crusaders - Battle in Egypt",
         "Action, Adventure, Supernatural, Drama, Shounen"
        ],
        [
         "3925",
         "Major S5",
         "Comedy, Drama, Romance, Shounen, Sports"
        ],
        [
         "2061",
         "Baccano!",
         "Action, Comedy, Historical, Mystery, Supernatural"
        ],
        [
         "8776",
         "Barakamon",
         "Comedy, Slice of Life"
        ],
        [
         "8704",
         "Parasyte -the maxim-",
         "Action, Sci-Fi, Horror, Psychological, Drama, Seinen"
        ],
        [
         "708",
         "Hellsing Ultimate",
         "Action, Military, Horror, Supernatural, Vampire, Seinen"
        ],
        [
         "6034",
         "Bakuman.",
         "Comedy, Drama, Romance, Shounen"
        ],
        [
         "5889",
         "Puella Magi Madoka Magica",
         "Psychological, Drama, Magic, Thriller"
        ],
        [
         "7013",
         "Psycho-Pass",
         "Action, Sci-Fi, Police, Psychological"
        ],
        [
         "5104",
         "Major S6",
         "Comedy, Drama, Shounen, Sports"
        ],
        [
         "6672",
         "Star Blazers:Space Battleship Yamato 2199",
         "Action, Military, Sci-Fi, Space, Drama"
        ],
        [
         "10795",
         "ERASED",
         "Mystery, Psychological, Supernatural, Seinen"
        ],
        [
         "4096",
         "Spice and Wolf II",
         "Adventure, Historical, Romance, Fantasy"
        ],
        [
         "3954",
         "Bakemonogatari",
         "Romance, Supernatural, Mystery, Vampire"
        ],
        [
         "4661",
         "Katanagatari",
         "Action, Adventure, Historical, Martial Arts, Romance"
        ],
        [
         "6656",
         "Major: World Series",
         "Comedy, Drama, Shounen, Sports"
        ],
        [
         "6900",
         "From the New World",
         "Drama, Horror, Mystery, Psychological, Sci-Fi, Supernatural"
        ]
       ],
       "shape": {
        "columns": 2,
        "rows": 190
       }
      },
      "text/html": [
       "<div>\n",
       "<style scoped>\n",
       "    .dataframe tbody tr th:only-of-type {\n",
       "        vertical-align: middle;\n",
       "    }\n",
       "\n",
       "    .dataframe tbody tr th {\n",
       "        vertical-align: top;\n",
       "    }\n",
       "\n",
       "    .dataframe thead th {\n",
       "        text-align: right;\n",
       "    }\n",
       "</style>\n",
       "<table border=\"1\" class=\"dataframe\">\n",
       "  <thead>\n",
       "    <tr style=\"text-align: right;\">\n",
       "      <th></th>\n",
       "      <th>eng_version</th>\n",
       "      <th>Genres</th>\n",
       "    </tr>\n",
       "  </thead>\n",
       "  <tbody>\n",
       "    <tr>\n",
       "      <th>3971</th>\n",
       "      <td>Fullmetal Alchemist:Brotherhood</td>\n",
       "      <td>Action, Military, Adventure, Comedy, Drama, Magic, Fantasy, Shounen</td>\n",
       "    </tr>\n",
       "    <tr>\n",
       "      <th>9913</th>\n",
       "      <td>Gintama Season 4</td>\n",
       "      <td>Action, Comedy, Historical, Parody, Samurai, Sci-Fi, Shounen</td>\n",
       "    </tr>\n",
       "    <tr>\n",
       "      <th>6474</th>\n",
       "      <td>Hunter x Hunter</td>\n",
       "      <td>Action, Adventure, Fantasy, Shounen, Super Power</td>\n",
       "    </tr>\n",
       "    <tr>\n",
       "      <th>6006</th>\n",
       "      <td>Gintama Season 2</td>\n",
       "      <td>Action, Sci-Fi, Comedy, Historical, Parody, Samurai, Shounen</td>\n",
       "    </tr>\n",
       "    <tr>\n",
       "      <th>741</th>\n",
       "      <td>Legend of the Galactic Heroes</td>\n",
       "      <td>Military, Sci-Fi, Space, Drama</td>\n",
       "    </tr>\n",
       "    <tr>\n",
       "      <th>7261</th>\n",
       "      <td>Gintama:Enchousen</td>\n",
       "      <td>Action, Comedy, Historical, Parody, Samurai, Sci-Fi, Shounen</td>\n",
       "    </tr>\n",
       "    <tr>\n",
       "      <th>12242</th>\n",
       "      <td>Gintama Season 5</td>\n",
       "      <td>Action, Comedy, Historical, Parody, Samurai, Sci-Fi, Shounen</td>\n",
       "    </tr>\n",
       "    <tr>\n",
       "      <th>7249</th>\n",
       "      <td>Gintama Movie 2: Kanketsu-hen - Yorozuya yo Eien Nare</td>\n",
       "      <td>Action, Sci-Fi, Comedy, Historical, Parody, Samurai, Shounen</td>\n",
       "    </tr>\n",
       "    <tr>\n",
       "      <th>833</th>\n",
       "      <td>Gintama</td>\n",
       "      <td>Action, Comedy, Historical, Parody, Samurai, Sci-Fi, Shounen</td>\n",
       "    </tr>\n",
       "    <tr>\n",
       "      <th>7577</th>\n",
       "      <td>Monogatari Series:Second Season</td>\n",
       "      <td>Mystery, Comedy, Supernatural, Romance, Vampire</td>\n",
       "    </tr>\n",
       "    <tr>\n",
       "      <th>0</th>\n",
       "      <td>Cowboy Bebop</td>\n",
       "      <td>Action, Adventure, Comedy, Drama, Sci-Fi, Space</td>\n",
       "    </tr>\n",
       "    <tr>\n",
       "      <th>239</th>\n",
       "      <td>Fighting Spirit</td>\n",
       "      <td>Comedy, Sports, Drama, Shounen</td>\n",
       "    </tr>\n",
       "    <tr>\n",
       "      <th>8559</th>\n",
       "      <td>MUSHI-SHI -Next Passage-</td>\n",
       "      <td>Adventure, Slice of Life, Mystery, Historical, Supernatural, Fantasy, Seinen</td>\n",
       "    </tr>\n",
       "    <tr>\n",
       "      <th>221</th>\n",
       "      <td>Great Teacher Onizuka</td>\n",
       "      <td>Slice of Life, Comedy, Drama, School, Shounen</td>\n",
       "    </tr>\n",
       "    <tr>\n",
       "      <th>428</th>\n",
       "      <td>Mushi-Shi</td>\n",
       "      <td>Adventure, Slice of Life, Mystery, Historical, Supernatural, Fantasy, Seinen</td>\n",
       "    </tr>\n",
       "    <tr>\n",
       "      <th>4050</th>\n",
       "      <td>Fighting Spirit:New Challenger</td>\n",
       "      <td>Comedy, Sports, Drama, Shounen</td>\n",
       "    </tr>\n",
       "    <tr>\n",
       "      <th>1822</th>\n",
       "      <td>Gurren Lagann</td>\n",
       "      <td>Action, Adventure, Comedy, Mecha, Sci-Fi</td>\n",
       "    </tr>\n",
       "    <tr>\n",
       "      <th>4970</th>\n",
       "      <td>The Disappearance of Haruhi Suzumiya</td>\n",
       "      <td>Comedy, Mystery, Romance, School, Sci-Fi, Supernatural</td>\n",
       "    </tr>\n",
       "    <tr>\n",
       "      <th>8606</th>\n",
       "      <td>Ping Pong the Animation</td>\n",
       "      <td>Drama, Psychological, Seinen, Sports</td>\n",
       "    </tr>\n",
       "    <tr>\n",
       "      <th>8117</th>\n",
       "      <td>Hajime No Ippo:The Fighting!</td>\n",
       "      <td>Comedy, Sports, Drama, Shounen</td>\n",
       "    </tr>\n",
       "    <tr>\n",
       "      <th>6736</th>\n",
       "      <td>Bakuman.</td>\n",
       "      <td>Comedy, Drama, Romance, Shounen</td>\n",
       "    </tr>\n",
       "    <tr>\n",
       "      <th>10451</th>\n",
       "      <td>One Punch Man</td>\n",
       "      <td>Action, Sci-Fi, Comedy, Parody, Super Power, Supernatural</td>\n",
       "    </tr>\n",
       "    <tr>\n",
       "      <th>8430</th>\n",
       "      <td>The Shadow that Devours the Sun</td>\n",
       "      <td>Adventure, Slice of Life, Mystery, Historical, Supernatural, Fantasy, Seinen</td>\n",
       "    </tr>\n",
       "    <tr>\n",
       "      <th>148</th>\n",
       "      <td>Slam Dunk</td>\n",
       "      <td>Comedy, Drama, School, Shounen, Sports</td>\n",
       "    </tr>\n",
       "    <tr>\n",
       "      <th>6751</th>\n",
       "      <td>Space Brothers</td>\n",
       "      <td>Comedy, Sci-Fi, Seinen, Slice of Life, Space</td>\n",
       "    </tr>\n",
       "    <tr>\n",
       "      <th>5022</th>\n",
       "      <td>Gintama:The Movie</td>\n",
       "      <td>Action, Sci-Fi, Comedy, Historical, Parody, Samurai, Shounen</td>\n",
       "    </tr>\n",
       "    <tr>\n",
       "      <th>542</th>\n",
       "      <td>Grave of the Fireflies</td>\n",
       "      <td>Drama, Historical</td>\n",
       "    </tr>\n",
       "    <tr>\n",
       "      <th>11179</th>\n",
       "      <td>JoJo's Bizarre Adventure:Diamond is Unbreakable</td>\n",
       "      <td>Action, Adventure, Comedy, Supernatural, Drama, Shounen</td>\n",
       "    </tr>\n",
       "    <tr>\n",
       "      <th>22</th>\n",
       "      <td>Neon Genesis Evangelion:The End of Evangelion</td>\n",
       "      <td>Sci-Fi, Dementia, Psychological, Drama, Mecha</td>\n",
       "    </tr>\n",
       "    <tr>\n",
       "      <th>182</th>\n",
       "      <td>Samurai Champloo</td>\n",
       "      <td>Action, Adventure, Comedy, Historical, Samurai, Shounen</td>\n",
       "    </tr>\n",
       "    <tr>\n",
       "      <th>6094</th>\n",
       "      <td>Nichijou - My Ordinary Life</td>\n",
       "      <td>Slice of Life, Comedy, School, Shounen</td>\n",
       "    </tr>\n",
       "    <tr>\n",
       "      <th>9179</th>\n",
       "      <td>Mushishi Path of Thorns</td>\n",
       "      <td>Adventure, Fantasy, Historical, Mystery, Seinen, Slice of Life, Supernatural</td>\n",
       "    </tr>\n",
       "    <tr>\n",
       "      <th>368</th>\n",
       "      <td>Yu Yu Hakusho:Ghost Files</td>\n",
       "      <td>Action, Comedy, Demons, Supernatural, Martial Arts, Shounen</td>\n",
       "    </tr>\n",
       "    <tr>\n",
       "      <th>9440</th>\n",
       "      <td>JoJo's Bizarre Adventure:Stardust Crusaders - Battle in Egypt</td>\n",
       "      <td>Action, Adventure, Supernatural, Drama, Shounen</td>\n",
       "    </tr>\n",
       "    <tr>\n",
       "      <th>3925</th>\n",
       "      <td>Major S5</td>\n",
       "      <td>Comedy, Drama, Romance, Shounen, Sports</td>\n",
       "    </tr>\n",
       "    <tr>\n",
       "      <th>2061</th>\n",
       "      <td>Baccano!</td>\n",
       "      <td>Action, Comedy, Historical, Mystery, Supernatural</td>\n",
       "    </tr>\n",
       "    <tr>\n",
       "      <th>8776</th>\n",
       "      <td>Barakamon</td>\n",
       "      <td>Comedy, Slice of Life</td>\n",
       "    </tr>\n",
       "    <tr>\n",
       "      <th>8704</th>\n",
       "      <td>Parasyte -the maxim-</td>\n",
       "      <td>Action, Sci-Fi, Horror, Psychological, Drama, Seinen</td>\n",
       "    </tr>\n",
       "    <tr>\n",
       "      <th>708</th>\n",
       "      <td>Hellsing Ultimate</td>\n",
       "      <td>Action, Military, Horror, Supernatural, Vampire, Seinen</td>\n",
       "    </tr>\n",
       "    <tr>\n",
       "      <th>6034</th>\n",
       "      <td>Bakuman.</td>\n",
       "      <td>Comedy, Drama, Romance, Shounen</td>\n",
       "    </tr>\n",
       "    <tr>\n",
       "      <th>5889</th>\n",
       "      <td>Puella Magi Madoka Magica</td>\n",
       "      <td>Psychological, Drama, Magic, Thriller</td>\n",
       "    </tr>\n",
       "    <tr>\n",
       "      <th>7013</th>\n",
       "      <td>Psycho-Pass</td>\n",
       "      <td>Action, Sci-Fi, Police, Psychological</td>\n",
       "    </tr>\n",
       "    <tr>\n",
       "      <th>5104</th>\n",
       "      <td>Major S6</td>\n",
       "      <td>Comedy, Drama, Shounen, Sports</td>\n",
       "    </tr>\n",
       "    <tr>\n",
       "      <th>6672</th>\n",
       "      <td>Star Blazers:Space Battleship Yamato 2199</td>\n",
       "      <td>Action, Military, Sci-Fi, Space, Drama</td>\n",
       "    </tr>\n",
       "    <tr>\n",
       "      <th>10795</th>\n",
       "      <td>ERASED</td>\n",
       "      <td>Mystery, Psychological, Supernatural, Seinen</td>\n",
       "    </tr>\n",
       "    <tr>\n",
       "      <th>4096</th>\n",
       "      <td>Spice and Wolf II</td>\n",
       "      <td>Adventure, Historical, Romance, Fantasy</td>\n",
       "    </tr>\n",
       "    <tr>\n",
       "      <th>3954</th>\n",
       "      <td>Bakemonogatari</td>\n",
       "      <td>Romance, Supernatural, Mystery, Vampire</td>\n",
       "    </tr>\n",
       "    <tr>\n",
       "      <th>4661</th>\n",
       "      <td>Katanagatari</td>\n",
       "      <td>Action, Adventure, Historical, Martial Arts, Romance</td>\n",
       "    </tr>\n",
       "    <tr>\n",
       "      <th>6656</th>\n",
       "      <td>Major: World Series</td>\n",
       "      <td>Comedy, Drama, Shounen, Sports</td>\n",
       "    </tr>\n",
       "    <tr>\n",
       "      <th>6900</th>\n",
       "      <td>From the New World</td>\n",
       "      <td>Drama, Horror, Mystery, Psychological, Sci-Fi, Supernatural</td>\n",
       "    </tr>\n",
       "    <tr>\n",
       "      <th>3934</th>\n",
       "      <td>One Outs</td>\n",
       "      <td>Sports, Psychological, Seinen</td>\n",
       "    </tr>\n",
       "    <tr>\n",
       "      <th>5846</th>\n",
       "      <td>K-ON! The Movie</td>\n",
       "      <td>Music, Slice of Life, Comedy</td>\n",
       "    </tr>\n",
       "    <tr>\n",
       "      <th>1103</th>\n",
       "      <td>Welcome to the N.H.K.</td>\n",
       "      <td>Comedy, Psychological, Drama, Romance</td>\n",
       "    </tr>\n",
       "    <tr>\n",
       "      <th>11914</th>\n",
       "      <td>My Hero Academia 2</td>\n",
       "      <td>Action, Comedy, Super Power, School, Shounen</td>\n",
       "    </tr>\n",
       "    <tr>\n",
       "      <th>20</th>\n",
       "      <td>Neon Genesis Evangelion</td>\n",
       "      <td>Action, Sci-Fi, Dementia, Psychological, Drama, Mecha</td>\n",
       "    </tr>\n",
       "    <tr>\n",
       "      <th>305</th>\n",
       "      <td>Planetes</td>\n",
       "      <td>Drama, Romance, Sci-Fi, Seinen, Space</td>\n",
       "    </tr>\n",
       "    <tr>\n",
       "      <th>38</th>\n",
       "      <td>Beck:Mongolian Chop Squad</td>\n",
       "      <td>Comedy, Drama, Music, Shounen, Slice of Life</td>\n",
       "    </tr>\n",
       "    <tr>\n",
       "      <th>240</th>\n",
       "      <td>Fighting Spirit:Champion Road</td>\n",
       "      <td>Comedy, Shounen, Sports</td>\n",
       "    </tr>\n",
       "    <tr>\n",
       "      <th>4690</th>\n",
       "      <td>Redline</td>\n",
       "      <td>Action, Sci-Fi, Cars, Sports</td>\n",
       "    </tr>\n",
       "    <tr>\n",
       "      <th>162</th>\n",
       "      <td>Initial D First Stage</td>\n",
       "      <td>Action, Cars, Drama, Seinen, Sports</td>\n",
       "    </tr>\n",
       "    <tr>\n",
       "      <th>9732</th>\n",
       "      <td>Food Wars! Shokugeki no Soma</td>\n",
       "      <td>Ecchi, School, Shounen</td>\n",
       "    </tr>\n",
       "    <tr>\n",
       "      <th>7551</th>\n",
       "      <td>Kuroko's Basketball 2</td>\n",
       "      <td>Comedy, Sports, School, Shounen</td>\n",
       "    </tr>\n",
       "    <tr>\n",
       "      <th>2737</th>\n",
       "      <td>Kaiji:Ultimate Survivor</td>\n",
       "      <td>Game, Psychological, Thriller, Seinen</td>\n",
       "    </tr>\n",
       "    <tr>\n",
       "      <th>1678</th>\n",
       "      <td>Major S3</td>\n",
       "      <td>Drama, Shounen, Sports</td>\n",
       "    </tr>\n",
       "    <tr>\n",
       "      <th>8904</th>\n",
       "      <td>Space Dandy 2nd Season</td>\n",
       "      <td>Space, Comedy, Sci-Fi</td>\n",
       "    </tr>\n",
       "    <tr>\n",
       "      <th>2708</th>\n",
       "      <td>Spice and Wolf</td>\n",
       "      <td>Adventure, Fantasy, Historical, Romance</td>\n",
       "    </tr>\n",
       "    <tr>\n",
       "      <th>590</th>\n",
       "      <td>Major S1</td>\n",
       "      <td>Comedy, Sports, Drama, Shounen</td>\n",
       "    </tr>\n",
       "    <tr>\n",
       "      <th>523</th>\n",
       "      <td>Major S2</td>\n",
       "      <td>Comedy, Drama, Shounen, Sports</td>\n",
       "    </tr>\n",
       "    <tr>\n",
       "      <th>2893</th>\n",
       "      <td>Major S4</td>\n",
       "      <td>Comedy, Drama, Shounen, Sports</td>\n",
       "    </tr>\n",
       "    <tr>\n",
       "      <th>8699</th>\n",
       "      <td>Initial D Final Stage</td>\n",
       "      <td>Sports, Cars, Seinen</td>\n",
       "    </tr>\n",
       "    <tr>\n",
       "      <th>11685</th>\n",
       "      <td>Mobile Suit Gundam:Iron-Blooded Orphans 2nd Season</td>\n",
       "      <td>Action, Drama, Mecha, Sci-Fi, Space</td>\n",
       "    </tr>\n",
       "    <tr>\n",
       "      <th>5113</th>\n",
       "      <td>Bakuman.</td>\n",
       "      <td>Comedy, Drama, Romance, Shounen</td>\n",
       "    </tr>\n",
       "    <tr>\n",
       "      <th>241</th>\n",
       "      <td>Hajime no Ippo: Mashiba vs. Kimura</td>\n",
       "      <td>Comedy, Sports, Shounen</td>\n",
       "    </tr>\n",
       "    <tr>\n",
       "      <th>5961</th>\n",
       "      <td>Major: Message</td>\n",
       "      <td>Comedy, Drama, Shounen, Sports</td>\n",
       "    </tr>\n",
       "    <tr>\n",
       "      <th>11309</th>\n",
       "      <td>Food Wars! The Second Plate</td>\n",
       "      <td>Ecchi, School, Shounen</td>\n",
       "    </tr>\n",
       "    <tr>\n",
       "      <th>9742</th>\n",
       "      <td>Death Parade</td>\n",
       "      <td>Game, Mystery, Psychological, Drama, Thriller</td>\n",
       "    </tr>\n",
       "    <tr>\n",
       "      <th>1379</th>\n",
       "      <td>Black Lagoon:The Second Barrage</td>\n",
       "      <td>Action, Seinen</td>\n",
       "    </tr>\n",
       "    <tr>\n",
       "      <th>4728</th>\n",
       "      <td>Durarara!!</td>\n",
       "      <td>Action, Mystery, Supernatural</td>\n",
       "    </tr>\n",
       "    <tr>\n",
       "      <th>100</th>\n",
       "      <td>Fullmetal Alchemist</td>\n",
       "      <td>Action, Adventure, Comedy, Drama, Fantasy, Magic, Military, Shounen</td>\n",
       "    </tr>\n",
       "    <tr>\n",
       "      <th>28</th>\n",
       "      <td>AKIRA</td>\n",
       "      <td>Action, Military, Sci-Fi, Adventure, Horror, Supernatural, Seinen</td>\n",
       "    </tr>\n",
       "    <tr>\n",
       "      <th>4558</th>\n",
       "      <td>Mobile Suit Gundam Unicorn</td>\n",
       "      <td>Action, Drama, Mecha, Military, Sci-Fi, Space</td>\n",
       "    </tr>\n",
       "    <tr>\n",
       "      <th>3363</th>\n",
       "      <td>Baccano! Specials</td>\n",
       "      <td>Action, Comedy, Historical, Mystery, Supernatural</td>\n",
       "    </tr>\n",
       "    <tr>\n",
       "      <th>6620</th>\n",
       "      <td>Kuroko's Basketball</td>\n",
       "      <td>Comedy, School, Shounen, Sports</td>\n",
       "    </tr>\n",
       "    <tr>\n",
       "      <th>8</th>\n",
       "      <td>Initial D Fourth Stage</td>\n",
       "      <td>Action, Cars, Sports, Drama, Seinen</td>\n",
       "    </tr>\n",
       "    <tr>\n",
       "      <th>5158</th>\n",
       "      <td>K-ON! Season 2</td>\n",
       "      <td>Comedy, Music, School, Slice of Life</td>\n",
       "    </tr>\n",
       "    <tr>\n",
       "      <th>9211</th>\n",
       "      <td>Assassination Classroom</td>\n",
       "      <td>Action, Comedy, School, Shounen</td>\n",
       "    </tr>\n",
       "    <tr>\n",
       "      <th>8349</th>\n",
       "      <td>JoJo's Bizarre Adventure:Stardust Crusaders</td>\n",
       "      <td>Action, Adventure, Supernatural, Drama, Shounen</td>\n",
       "    </tr>\n",
       "    <tr>\n",
       "      <th>7939</th>\n",
       "      <td>KILL la KILL</td>\n",
       "      <td>Action, Comedy, Super Power, Ecchi, School</td>\n",
       "    </tr>\n",
       "    <tr>\n",
       "      <th>11185</th>\n",
       "      <td>My Hero Academia</td>\n",
       "      <td>Action, Comedy, School, Shounen, Super Power</td>\n",
       "    </tr>\n",
       "    <tr>\n",
       "      <th>6685</th>\n",
       "      <td>Fighting Spirit Special</td>\n",
       "      <td>Comedy, Drama, Shounen, Sports</td>\n",
       "    </tr>\n",
       "    <tr>\n",
       "      <th>1415</th>\n",
       "      <td>KenIchi:The Mightiest Disciple</td>\n",
       "      <td>Action, Comedy, Martial Arts, School, Shounen</td>\n",
       "    </tr>\n",
       "    <tr>\n",
       "      <th>213</th>\n",
       "      <td>Eureka Seven</td>\n",
       "      <td>Adventure, Drama, Mecha, Romance, Sci-Fi</td>\n",
       "    </tr>\n",
       "    <tr>\n",
       "      <th>4274</th>\n",
       "      <td>Summer Wars</td>\n",
       "      <td>Sci-Fi, Comedy</td>\n",
       "    </tr>\n",
       "    <tr>\n",
       "      <th>1251</th>\n",
       "      <td>GaoGaiGar Final</td>\n",
       "      <td>Adventure, Drama, Mecha, Sci-Fi, Shounen</td>\n",
       "    </tr>\n",
       "    <tr>\n",
       "      <th>7168</th>\n",
       "      <td>JoJo's Bizarre Adventure</td>\n",
       "      <td>Action, Adventure, Supernatural, Vampire, Shounen</td>\n",
       "    </tr>\n",
       "    <tr>\n",
       "      <th>804</th>\n",
       "      <td>Black Lagoon</td>\n",
       "      <td>Action, Seinen</td>\n",
       "    </tr>\n",
       "    <tr>\n",
       "      <th>60</th>\n",
       "      <td>Mobile Suit Gundam:The 08th MS Team</td>\n",
       "      <td>Adventure, Drama, Mecha, Military, Romance, Sci-Fi</td>\n",
       "    </tr>\n",
       "    <tr>\n",
       "      <th>203</th>\n",
       "      <td>FLCL</td>\n",
       "      <td>Action, Sci-Fi, Comedy, Parody, Dementia, Psychological, Mecha</td>\n",
       "    </tr>\n",
       "    <tr>\n",
       "      <th>3926</th>\n",
       "      <td>Major Movie: Yuujou no Winning Shot</td>\n",
       "      <td>Action, Sports, Shounen</td>\n",
       "    </tr>\n",
       "    <tr>\n",
       "      <th>10880</th>\n",
       "      <td>Mobile Suit Gundam:Iron-Blooded Orphans</td>\n",
       "      <td>Action, Drama, Mecha, Sci-Fi, Space</td>\n",
       "    </tr>\n",
       "    <tr>\n",
       "      <th>200</th>\n",
       "      <td>Dragon Ball</td>\n",
       "      <td>Adventure, Comedy, Fantasy, Martial Arts, Shounen, Super Power</td>\n",
       "    </tr>\n",
       "    <tr>\n",
       "      <th>872</th>\n",
       "      <td>Fist of the North Star</td>\n",
       "      <td>Action, Drama, Martial Arts, Sci-Fi, Shounen</td>\n",
       "    </tr>\n",
       "    <tr>\n",
       "      <th>7302</th>\n",
       "      <td>Nekomonogatari Black</td>\n",
       "      <td>Comedy, Supernatural, Romance, Ecchi</td>\n",
       "    </tr>\n",
       "    <tr>\n",
       "      <th>53</th>\n",
       "      <td>Full Metal Panic! The Second Raid</td>\n",
       "      <td>Action, Military, Mecha</td>\n",
       "    </tr>\n",
       "    <tr>\n",
       "      <th>18</th>\n",
       "      <td>Yakitate!! Japan</td>\n",
       "      <td>Comedy, Shounen</td>\n",
       "    </tr>\n",
       "    <tr>\n",
       "      <th>10817</th>\n",
       "      <td>Ushio &amp; Tora</td>\n",
       "      <td>Action, Adventure, Comedy, Demons, Supernatural, Shounen</td>\n",
       "    </tr>\n",
       "    <tr>\n",
       "      <th>10914</th>\n",
       "      <td>Drifters</td>\n",
       "      <td>Action, Adventure, Comedy, Historical, Samurai, Fantasy, Seinen</td>\n",
       "    </tr>\n",
       "    <tr>\n",
       "      <th>988</th>\n",
       "      <td>Macross</td>\n",
       "      <td>Action, Mecha, Military, Music, Romance, Sci-Fi, Space</td>\n",
       "    </tr>\n",
       "    <tr>\n",
       "      <th>11191</th>\n",
       "      <td>Mobile Suit Gundam Thunderbolt</td>\n",
       "      <td>Action, Military, Sci-Fi, Space, Drama, Mecha</td>\n",
       "    </tr>\n",
       "    <tr>\n",
       "      <th>93</th>\n",
       "      <td>Cromartie High School</td>\n",
       "      <td>Comedy, School, Shounen</td>\n",
       "    </tr>\n",
       "    <tr>\n",
       "      <th>1976</th>\n",
       "      <td>Terra e... (TV)</td>\n",
       "      <td>Action, Drama, Military, Sci-Fi, Space</td>\n",
       "    </tr>\n",
       "    <tr>\n",
       "      <th>64</th>\n",
       "      <td>Mobile Suit Zeta Gundam</td>\n",
       "      <td>Military, Sci-Fi, Space, Drama, Romance, Mecha</td>\n",
       "    </tr>\n",
       "    <tr>\n",
       "      <th>718</th>\n",
       "      <td>Ergo Proxy</td>\n",
       "      <td>Psychological, Mystery, Sci-Fi</td>\n",
       "    </tr>\n",
       "    <tr>\n",
       "      <th>4413</th>\n",
       "      <td>Ookami to Koushinryou II: Ookami to Kohakuiro no Yuuutsu</td>\n",
       "      <td>Adventure, Fantasy, Historical, Romance</td>\n",
       "    </tr>\n",
       "    <tr>\n",
       "      <th>61</th>\n",
       "      <td>Mobile Suit Gundam 0080:War in the Pocket</td>\n",
       "      <td>Military, Sci-Fi, Space, Drama, Mecha</td>\n",
       "    </tr>\n",
       "    <tr>\n",
       "      <th>996</th>\n",
       "      <td>Mobile Police Patlabor 2:The Movie</td>\n",
       "      <td>Military, Sci-Fi, Mystery, Police, Drama, Mecha</td>\n",
       "    </tr>\n",
       "    <tr>\n",
       "      <th>856</th>\n",
       "      <td>Gunbuster</td>\n",
       "      <td>Action, Comedy, Drama, Mecha, Military, Sci-Fi, Shounen, Space</td>\n",
       "    </tr>\n",
       "    <tr>\n",
       "      <th>766</th>\n",
       "      <td>The Melancholy of Haruhi Suzumiya</td>\n",
       "      <td>Comedy, Mystery, Parody, School, Sci-Fi, Slice of Life</td>\n",
       "    </tr>\n",
       "    <tr>\n",
       "      <th>8217</th>\n",
       "      <td>Space Dandy</td>\n",
       "      <td>Sci-Fi, Space, Comedy</td>\n",
       "    </tr>\n",
       "    <tr>\n",
       "      <th>12430</th>\n",
       "      <td>Blood Blockade Battlefront &amp; Beyond</td>\n",
       "      <td>Action, Comedy, Fantasy, Shounen, Super Power, Supernatural, Vampire</td>\n",
       "    </tr>\n",
       "    <tr>\n",
       "      <th>243</th>\n",
       "      <td>Gungrave</td>\n",
       "      <td>Action, Drama, Sci-Fi, Seinen, Super Power</td>\n",
       "    </tr>\n",
       "    <tr>\n",
       "      <th>376</th>\n",
       "      <td>Outlaw Star</td>\n",
       "      <td>Action, Sci-Fi, Adventure, Space, Comedy</td>\n",
       "    </tr>\n",
       "    <tr>\n",
       "      <th>4273</th>\n",
       "      <td>K-ON!</td>\n",
       "      <td>Music, Slice of Life, Comedy, School</td>\n",
       "    </tr>\n",
       "    <tr>\n",
       "      <th>5877</th>\n",
       "      <td>K-On!!: Keikaku!</td>\n",
       "      <td>Comedy, Music, School, Slice of Life</td>\n",
       "    </tr>\n",
       "    <tr>\n",
       "      <th>4244</th>\n",
       "      <td>Eden of The East</td>\n",
       "      <td>Action, Sci-Fi, Mystery, Drama, Romance, Thriller</td>\n",
       "    </tr>\n",
       "    <tr>\n",
       "      <th>4790</th>\n",
       "      <td>K-On!: Live House!</td>\n",
       "      <td>Comedy, Music, School, Slice of Life</td>\n",
       "    </tr>\n",
       "    <tr>\n",
       "      <th>805</th>\n",
       "      <td>King of Braves GaoGaiGar</td>\n",
       "      <td>Adventure, Mecha, Sci-Fi, Shounen</td>\n",
       "    </tr>\n",
       "    <tr>\n",
       "      <th>3660</th>\n",
       "      <td>Lucky☆Star: Original na Visual to Animation</td>\n",
       "      <td>Comedy, Parody, School, Slice of Life</td>\n",
       "    </tr>\n",
       "    <tr>\n",
       "      <th>2079</th>\n",
       "      <td>Mobile Suit Gundam Wing:Endless Waltz</td>\n",
       "      <td>Action, Space, Mecha, Military, Drama, Sci-Fi</td>\n",
       "    </tr>\n",
       "    <tr>\n",
       "      <th>8059</th>\n",
       "      <td>Gundam Build Fighters</td>\n",
       "      <td>Action, Sci-Fi, Mecha</td>\n",
       "    </tr>\n",
       "    <tr>\n",
       "      <th>132</th>\n",
       "      <td>Shaman King</td>\n",
       "      <td>Action, Adventure, Comedy, Super Power, Supernatural, Shounen</td>\n",
       "    </tr>\n",
       "    <tr>\n",
       "      <th>992</th>\n",
       "      <td>Mobile Suit Gundam III: Encounters in Space</td>\n",
       "      <td>Action, Military, Sci-Fi, Adventure, Space, Drama, Mecha</td>\n",
       "    </tr>\n",
       "    <tr>\n",
       "      <th>1654</th>\n",
       "      <td>Claymore</td>\n",
       "      <td>Action, Adventure, Super Power, Demons, Supernatural, Fantasy, Shounen</td>\n",
       "    </tr>\n",
       "    <tr>\n",
       "      <th>1718</th>\n",
       "      <td>Lucky☆Star</td>\n",
       "      <td>Slice of Life, Comedy, Parody, School</td>\n",
       "    </tr>\n",
       "    <tr>\n",
       "      <th>9230</th>\n",
       "      <td>Knights of Sidonia:Battle for Planet Nine</td>\n",
       "      <td>Action, Sci-Fi, Space, Mecha, Seinen</td>\n",
       "    </tr>\n",
       "    <tr>\n",
       "      <th>11037</th>\n",
       "      <td>GATE</td>\n",
       "      <td>Action, Military, Adventure, Fantasy</td>\n",
       "    </tr>\n",
       "    <tr>\n",
       "      <th>16</th>\n",
       "      <td>Texhnolyze</td>\n",
       "      <td>Action, Sci-Fi, Psychological, Drama</td>\n",
       "    </tr>\n",
       "    <tr>\n",
       "      <th>450</th>\n",
       "      <td>The Law of Ueki</td>\n",
       "      <td>Action, Adventure, Comedy, Super Power, Supernatural, Drama, Shounen</td>\n",
       "    </tr>\n",
       "    <tr>\n",
       "      <th>9749</th>\n",
       "      <td>The Heroic Legend of Arslan</td>\n",
       "      <td>Action, Adventure, Drama, Fantasy, Historical, Shounen</td>\n",
       "    </tr>\n",
       "    <tr>\n",
       "      <th>74</th>\n",
       "      <td>∀ Gundam</td>\n",
       "      <td>Action, Military, Sci-Fi, Adventure, Space, Drama, Romance, Mecha</td>\n",
       "    </tr>\n",
       "    <tr>\n",
       "      <th>8142</th>\n",
       "      <td>Knights of Sidonia</td>\n",
       "      <td>Action, Mecha, Sci-Fi, Seinen, Space</td>\n",
       "    </tr>\n",
       "    <tr>\n",
       "      <th>300</th>\n",
       "      <td>Patlabor:The Mobile Police - The TV Series</td>\n",
       "      <td>Comedy, Mecha, Police, Sci-Fi</td>\n",
       "    </tr>\n",
       "    <tr>\n",
       "      <th>11143</th>\n",
       "      <td>Grimgar:Ashes and Illusions</td>\n",
       "      <td>Action, Adventure, Drama, Fantasy</td>\n",
       "    </tr>\n",
       "    <tr>\n",
       "      <th>66</th>\n",
       "      <td>Mobile Suit Gundam:Char's Counterattack</td>\n",
       "      <td>Military, Sci-Fi, Space, Drama, Mecha</td>\n",
       "    </tr>\n",
       "    <tr>\n",
       "      <th>299</th>\n",
       "      <td>Paranoia Agent</td>\n",
       "      <td>Mystery, Dementia, Police, Psychological, Supernatural, Drama, Thriller</td>\n",
       "    </tr>\n",
       "    <tr>\n",
       "      <th>1536</th>\n",
       "      <td>Bokurano</td>\n",
       "      <td>Sci-Fi, Psychological, Drama, Mecha, Seinen</td>\n",
       "    </tr>\n",
       "    <tr>\n",
       "      <th>9138</th>\n",
       "      <td>Blood Blockade Battlefront</td>\n",
       "      <td>Action, Comedy, Super Power, Supernatural, Vampire, Fantasy, Shounen</td>\n",
       "    </tr>\n",
       "    <tr>\n",
       "      <th>51</th>\n",
       "      <td>Full Metal Panic!</td>\n",
       "      <td>Action, Military, Sci-Fi, Comedy, Mecha</td>\n",
       "    </tr>\n",
       "    <tr>\n",
       "      <th>111</th>\n",
       "      <td>Getbackers</td>\n",
       "      <td>Action, Comedy, Drama, Mystery, Shounen, Super Power, Supernatural</td>\n",
       "    </tr>\n",
       "    <tr>\n",
       "      <th>9797</th>\n",
       "      <td>Garo Movie: Divine Flame</td>\n",
       "      <td>Action, Demons, Supernatural, Magic, Fantasy</td>\n",
       "    </tr>\n",
       "    <tr>\n",
       "      <th>5146</th>\n",
       "      <td>Yondemasu yo, Azazel-san.</td>\n",
       "      <td>Comedy, Demons, Supernatural</td>\n",
       "    </tr>\n",
       "    <tr>\n",
       "      <th>5475</th>\n",
       "      <td>Seitokai Yakuindomo</td>\n",
       "      <td>Comedy, School, Shounen, Slice of Life</td>\n",
       "    </tr>\n",
       "    <tr>\n",
       "      <th>10197</th>\n",
       "      <td>Ushio and Tora</td>\n",
       "      <td>Action, Adventure, Comedy, Demons, Shounen, Supernatural</td>\n",
       "    </tr>\n",
       "    <tr>\n",
       "      <th>7399</th>\n",
       "      <td>You're Being Summoned, Azazel Z</td>\n",
       "      <td>Comedy, Demons, Supernatural</td>\n",
       "    </tr>\n",
       "    <tr>\n",
       "      <th>75</th>\n",
       "      <td>Mobile Fighter G Gundam</td>\n",
       "      <td>Adventure, Comedy, Drama, Martial Arts, Mecha, Romance, Sci-Fi, Space, Sports</td>\n",
       "    </tr>\n",
       "    <tr>\n",
       "      <th>995</th>\n",
       "      <td>Patlabor:The Movie</td>\n",
       "      <td>Drama, Mecha, Military, Police</td>\n",
       "    </tr>\n",
       "    <tr>\n",
       "      <th>6114</th>\n",
       "      <td>You're Being Summoned, Azazel</td>\n",
       "      <td>Comedy, Supernatural, Demons</td>\n",
       "    </tr>\n",
       "    <tr>\n",
       "      <th>3456</th>\n",
       "      <td>Golgo 13</td>\n",
       "      <td>Action, Adventure, Drama, Thriller, Seinen</td>\n",
       "    </tr>\n",
       "    <tr>\n",
       "      <th>143</th>\n",
       "      <td>RahXephon</td>\n",
       "      <td>Action, Drama, Mecha, Music, Mystery, Psychological, Romance, Sci-Fi</td>\n",
       "    </tr>\n",
       "    <tr>\n",
       "      <th>8887</th>\n",
       "      <td>Psycho-Pass 2</td>\n",
       "      <td>Action, Sci-Fi, Police, Psychological</td>\n",
       "    </tr>\n",
       "    <tr>\n",
       "      <th>8897</th>\n",
       "      <td>GARO:THE ANIMATION</td>\n",
       "      <td>Action, Demons, Fantasy, Magic, Supernatural</td>\n",
       "    </tr>\n",
       "    <tr>\n",
       "      <th>9300</th>\n",
       "      <td>Gangsta.</td>\n",
       "      <td>Action, Drama, Seinen</td>\n",
       "    </tr>\n",
       "    <tr>\n",
       "      <th>991</th>\n",
       "      <td>Mobile Suit Gundam II: Soldiers of Sorrow</td>\n",
       "      <td>Action, Military, Sci-Fi, Space, Drama, Mecha</td>\n",
       "    </tr>\n",
       "    <tr>\n",
       "      <th>6965</th>\n",
       "      <td>Expelled from Paradise</td>\n",
       "      <td>Action, Sci-Fi, Mecha</td>\n",
       "    </tr>\n",
       "    <tr>\n",
       "      <th>9791</th>\n",
       "      <td>Rokka:Braves of the Six Flowers</td>\n",
       "      <td>Action, Adventure, Fantasy, Magic, Mystery</td>\n",
       "    </tr>\n",
       "    <tr>\n",
       "      <th>10157</th>\n",
       "      <td>SHIMONETA:A Boring World Where the Concept of Dirty Jokes Doesn't Exist</td>\n",
       "      <td>Comedy, Ecchi, School</td>\n",
       "    </tr>\n",
       "    <tr>\n",
       "      <th>71</th>\n",
       "      <td>After War Gundam X</td>\n",
       "      <td>Sci-Fi, Adventure, Space, Drama, Mecha</td>\n",
       "    </tr>\n",
       "    <tr>\n",
       "      <th>4032</th>\n",
       "      <td>Beyond the Heavens</td>\n",
       "      <td>Action, Adventure, Historical</td>\n",
       "    </tr>\n",
       "    <tr>\n",
       "      <th>63</th>\n",
       "      <td>Mobile Suit Gundam 0083:Stardust Memory</td>\n",
       "      <td>Military, Sci-Fi, Adventure, Space, Drama, Romance, Mecha</td>\n",
       "    </tr>\n",
       "    <tr>\n",
       "      <th>385</th>\n",
       "      <td>Gun x Sword</td>\n",
       "      <td>Action, Adventure, Drama, Mecha, Sci-Fi, Shounen</td>\n",
       "    </tr>\n",
       "    <tr>\n",
       "      <th>7303</th>\n",
       "      <td>Nyaruko:Crawling With Love! Second Season</td>\n",
       "      <td>Sci-Fi, Comedy, Parody</td>\n",
       "    </tr>\n",
       "    <tr>\n",
       "      <th>851</th>\n",
       "      <td>Inukami!</td>\n",
       "      <td>Comedy, Ecchi, Romance, Shounen, Supernatural</td>\n",
       "    </tr>\n",
       "    <tr>\n",
       "      <th>9163</th>\n",
       "      <td>Gundam Build Fighters Try</td>\n",
       "      <td>Action, Sci-Fi, Mecha</td>\n",
       "    </tr>\n",
       "    <tr>\n",
       "      <th>6336</th>\n",
       "      <td>Plastic Neesan</td>\n",
       "      <td>Comedy, School, Seinen</td>\n",
       "    </tr>\n",
       "    <tr>\n",
       "      <th>282</th>\n",
       "      <td>Magical☆Shopping Arcade Abenobashi</td>\n",
       "      <td>Comedy, Parody, Ecchi, Fantasy</td>\n",
       "    </tr>\n",
       "    <tr>\n",
       "      <th>10638</th>\n",
       "      <td>Young Black Jack</td>\n",
       "      <td>Historical, Drama, Seinen</td>\n",
       "    </tr>\n",
       "    <tr>\n",
       "      <th>3612</th>\n",
       "      <td>The Melancholy of Haruhi Suzumiya Season 2</td>\n",
       "      <td>Comedy, Mystery, Parody, Romance, School, Sci-Fi, Slice of Life</td>\n",
       "    </tr>\n",
       "    <tr>\n",
       "      <th>2896</th>\n",
       "      <td>Kimi ga Aruji de Shitsuji ga Ore de</td>\n",
       "      <td>Comedy, Ecchi, Harem, Parody, Romance</td>\n",
       "    </tr>\n",
       "    <tr>\n",
       "      <th>1231</th>\n",
       "      <td>Street Fighter II:The Animated Movie</td>\n",
       "      <td>Action, Martial Arts, Shounen</td>\n",
       "    </tr>\n",
       "    <tr>\n",
       "      <th>9878</th>\n",
       "      <td>Himouto! Umaru-chan</td>\n",
       "      <td>Comedy, School, Seinen, Slice of Life</td>\n",
       "    </tr>\n",
       "    <tr>\n",
       "      <th>13453</th>\n",
       "      <td>GARO -VANISHING LINE-</td>\n",
       "      <td>Action, Demons, Supernatural, Fantasy</td>\n",
       "    </tr>\n",
       "    <tr>\n",
       "      <th>2247</th>\n",
       "      <td>Space Adventure Cobra:The Movie</td>\n",
       "      <td>Action, Adventure, Sci-Fi, Space</td>\n",
       "    </tr>\n",
       "    <tr>\n",
       "      <th>921</th>\n",
       "      <td>Battle Angel Alita</td>\n",
       "      <td>Drama, Mecha, Sci-Fi, Shounen</td>\n",
       "    </tr>\n",
       "    <tr>\n",
       "      <th>6624</th>\n",
       "      <td>Nyaruko:Crawling With Love!</td>\n",
       "      <td>Sci-Fi, Comedy, Parody</td>\n",
       "    </tr>\n",
       "    <tr>\n",
       "      <th>8759</th>\n",
       "      <td>Terraformars</td>\n",
       "      <td>Action, Sci-Fi, Space, Horror, Drama, Seinen</td>\n",
       "    </tr>\n",
       "    <tr>\n",
       "      <th>2575</th>\n",
       "      <td>Shootfighter Tekken</td>\n",
       "      <td>Action, Martial Arts, Shounen</td>\n",
       "    </tr>\n",
       "    <tr>\n",
       "      <th>8064</th>\n",
       "      <td>Samurai Flamenco</td>\n",
       "      <td>Action, Comedy, Parody, Super Power</td>\n",
       "    </tr>\n",
       "    <tr>\n",
       "      <th>510</th>\n",
       "      <td>Venus Wars</td>\n",
       "      <td>Action, Sci-Fi, Adventure, Space</td>\n",
       "    </tr>\n",
       "    <tr>\n",
       "      <th>6864</th>\n",
       "      <td>Saint Seiya Omega</td>\n",
       "      <td>Action, Adventure, Fantasy, Shounen</td>\n",
       "    </tr>\n",
       "    <tr>\n",
       "      <th>9796</th>\n",
       "      <td>Garo:Crimson Moon</td>\n",
       "      <td>Action, Demons, Fantasy, Magic, Supernatural</td>\n",
       "    </tr>\n",
       "  </tbody>\n",
       "</table>\n",
       "</div>"
      ],
      "text/plain": [
       "                                                                   eng_version  \\\n",
       "3971                                           Fullmetal Alchemist:Brotherhood   \n",
       "9913                                                          Gintama Season 4   \n",
       "6474                                                           Hunter x Hunter   \n",
       "6006                                                          Gintama Season 2   \n",
       "741                                              Legend of the Galactic Heroes   \n",
       "7261                                                         Gintama:Enchousen   \n",
       "12242                                                         Gintama Season 5   \n",
       "7249                     Gintama Movie 2: Kanketsu-hen - Yorozuya yo Eien Nare   \n",
       "833                                                                    Gintama   \n",
       "7577                                           Monogatari Series:Second Season   \n",
       "0                                                                 Cowboy Bebop   \n",
       "239                                                            Fighting Spirit   \n",
       "8559                                                  MUSHI-SHI -Next Passage-   \n",
       "221                                                      Great Teacher Onizuka   \n",
       "428                                                                  Mushi-Shi   \n",
       "4050                                            Fighting Spirit:New Challenger   \n",
       "1822                                                             Gurren Lagann   \n",
       "4970                                      The Disappearance of Haruhi Suzumiya   \n",
       "8606                                                   Ping Pong the Animation   \n",
       "8117                                              Hajime No Ippo:The Fighting!   \n",
       "6736                                                                  Bakuman.   \n",
       "10451                                                            One Punch Man   \n",
       "8430                                           The Shadow that Devours the Sun   \n",
       "148                                                                  Slam Dunk   \n",
       "6751                                                            Space Brothers   \n",
       "5022                                                         Gintama:The Movie   \n",
       "542                                                     Grave of the Fireflies   \n",
       "11179                          JoJo's Bizarre Adventure:Diamond is Unbreakable   \n",
       "22                               Neon Genesis Evangelion:The End of Evangelion   \n",
       "182                                                           Samurai Champloo   \n",
       "6094                                               Nichijou - My Ordinary Life   \n",
       "9179                                                   Mushishi Path of Thorns   \n",
       "368                                                  Yu Yu Hakusho:Ghost Files   \n",
       "9440             JoJo's Bizarre Adventure:Stardust Crusaders - Battle in Egypt   \n",
       "3925                                                                  Major S5   \n",
       "2061                                                                  Baccano!   \n",
       "8776                                                                 Barakamon   \n",
       "8704                                                      Parasyte -the maxim-   \n",
       "708                                                          Hellsing Ultimate   \n",
       "6034                                                                  Bakuman.   \n",
       "5889                                                 Puella Magi Madoka Magica   \n",
       "7013                                                               Psycho-Pass   \n",
       "5104                                                                  Major S6   \n",
       "6672                                 Star Blazers:Space Battleship Yamato 2199   \n",
       "10795                                                                   ERASED   \n",
       "4096                                                         Spice and Wolf II   \n",
       "3954                                                            Bakemonogatari   \n",
       "4661                                                              Katanagatari   \n",
       "6656                                                       Major: World Series   \n",
       "6900                                                        From the New World   \n",
       "3934                                                                  One Outs   \n",
       "5846                                                           K-ON! The Movie   \n",
       "1103                                                     Welcome to the N.H.K.   \n",
       "11914                                                       My Hero Academia 2   \n",
       "20                                                     Neon Genesis Evangelion   \n",
       "305                                                                   Planetes   \n",
       "38                                                   Beck:Mongolian Chop Squad   \n",
       "240                                              Fighting Spirit:Champion Road   \n",
       "4690                                                                   Redline   \n",
       "162                                                      Initial D First Stage   \n",
       "9732                                              Food Wars! Shokugeki no Soma   \n",
       "7551                                                     Kuroko's Basketball 2   \n",
       "2737                                                   Kaiji:Ultimate Survivor   \n",
       "1678                                                                  Major S3   \n",
       "8904                                                    Space Dandy 2nd Season   \n",
       "2708                                                            Spice and Wolf   \n",
       "590                                                                   Major S1   \n",
       "523                                                                   Major S2   \n",
       "2893                                                                  Major S4   \n",
       "8699                                                     Initial D Final Stage   \n",
       "11685                       Mobile Suit Gundam:Iron-Blooded Orphans 2nd Season   \n",
       "5113                                                                  Bakuman.   \n",
       "241                                         Hajime no Ippo: Mashiba vs. Kimura   \n",
       "5961                                                            Major: Message   \n",
       "11309                                              Food Wars! The Second Plate   \n",
       "9742                                                              Death Parade   \n",
       "1379                                           Black Lagoon:The Second Barrage   \n",
       "4728                                                                Durarara!!   \n",
       "100                                                        Fullmetal Alchemist   \n",
       "28                                                                       AKIRA   \n",
       "4558                                                Mobile Suit Gundam Unicorn   \n",
       "3363                                                         Baccano! Specials   \n",
       "6620                                                       Kuroko's Basketball   \n",
       "8                                                       Initial D Fourth Stage   \n",
       "5158                                                            K-ON! Season 2   \n",
       "9211                                                   Assassination Classroom   \n",
       "8349                               JoJo's Bizarre Adventure:Stardust Crusaders   \n",
       "7939                                                              KILL la KILL   \n",
       "11185                                                         My Hero Academia   \n",
       "6685                                                   Fighting Spirit Special   \n",
       "1415                                            KenIchi:The Mightiest Disciple   \n",
       "213                                                               Eureka Seven   \n",
       "4274                                                               Summer Wars   \n",
       "1251                                                           GaoGaiGar Final   \n",
       "7168                                                  JoJo's Bizarre Adventure   \n",
       "804                                                               Black Lagoon   \n",
       "60                                         Mobile Suit Gundam:The 08th MS Team   \n",
       "203                                                                       FLCL   \n",
       "3926                                       Major Movie: Yuujou no Winning Shot   \n",
       "10880                                  Mobile Suit Gundam:Iron-Blooded Orphans   \n",
       "200                                                                Dragon Ball   \n",
       "872                                                     Fist of the North Star   \n",
       "7302                                                      Nekomonogatari Black   \n",
       "53                                           Full Metal Panic! The Second Raid   \n",
       "18                                                            Yakitate!! Japan   \n",
       "10817                                                             Ushio & Tora   \n",
       "10914                                                                 Drifters   \n",
       "988                                                                    Macross   \n",
       "11191                                           Mobile Suit Gundam Thunderbolt   \n",
       "93                                                       Cromartie High School   \n",
       "1976                                                           Terra e... (TV)   \n",
       "64                                                     Mobile Suit Zeta Gundam   \n",
       "718                                                                 Ergo Proxy   \n",
       "4413                  Ookami to Koushinryou II: Ookami to Kohakuiro no Yuuutsu   \n",
       "61                                   Mobile Suit Gundam 0080:War in the Pocket   \n",
       "996                                         Mobile Police Patlabor 2:The Movie   \n",
       "856                                                                  Gunbuster   \n",
       "766                                          The Melancholy of Haruhi Suzumiya   \n",
       "8217                                                               Space Dandy   \n",
       "12430                                      Blood Blockade Battlefront & Beyond   \n",
       "243                                                                   Gungrave   \n",
       "376                                                                Outlaw Star   \n",
       "4273                                                                     K-ON!   \n",
       "5877                                                          K-On!!: Keikaku!   \n",
       "4244                                                          Eden of The East   \n",
       "4790                                                        K-On!: Live House!   \n",
       "805                                                   King of Braves GaoGaiGar   \n",
       "3660                               Lucky☆Star: Original na Visual to Animation   \n",
       "2079                                     Mobile Suit Gundam Wing:Endless Waltz   \n",
       "8059                                                     Gundam Build Fighters   \n",
       "132                                                                Shaman King   \n",
       "992                                Mobile Suit Gundam III: Encounters in Space   \n",
       "1654                                                                  Claymore   \n",
       "1718                                                                Lucky☆Star   \n",
       "9230                                 Knights of Sidonia:Battle for Planet Nine   \n",
       "11037                                                                     GATE   \n",
       "16                                                                  Texhnolyze   \n",
       "450                                                            The Law of Ueki   \n",
       "9749                                               The Heroic Legend of Arslan   \n",
       "74                                                                    ∀ Gundam   \n",
       "8142                                                        Knights of Sidonia   \n",
       "300                                 Patlabor:The Mobile Police - The TV Series   \n",
       "11143                                              Grimgar:Ashes and Illusions   \n",
       "66                                     Mobile Suit Gundam:Char's Counterattack   \n",
       "299                                                             Paranoia Agent   \n",
       "1536                                                                  Bokurano   \n",
       "9138                                                Blood Blockade Battlefront   \n",
       "51                                                           Full Metal Panic!   \n",
       "111                                                                 Getbackers   \n",
       "9797                                                  Garo Movie: Divine Flame   \n",
       "5146                                                 Yondemasu yo, Azazel-san.   \n",
       "5475                                                       Seitokai Yakuindomo   \n",
       "10197                                                           Ushio and Tora   \n",
       "7399                                           You're Being Summoned, Azazel Z   \n",
       "75                                                     Mobile Fighter G Gundam   \n",
       "995                                                         Patlabor:The Movie   \n",
       "6114                                             You're Being Summoned, Azazel   \n",
       "3456                                                                  Golgo 13   \n",
       "143                                                                  RahXephon   \n",
       "8887                                                             Psycho-Pass 2   \n",
       "8897                                                        GARO:THE ANIMATION   \n",
       "9300                                                                  Gangsta.   \n",
       "991                                  Mobile Suit Gundam II: Soldiers of Sorrow   \n",
       "6965                                                    Expelled from Paradise   \n",
       "9791                                           Rokka:Braves of the Six Flowers   \n",
       "10157  SHIMONETA:A Boring World Where the Concept of Dirty Jokes Doesn't Exist   \n",
       "71                                                          After War Gundam X   \n",
       "4032                                                        Beyond the Heavens   \n",
       "63                                     Mobile Suit Gundam 0083:Stardust Memory   \n",
       "385                                                                Gun x Sword   \n",
       "7303                                 Nyaruko:Crawling With Love! Second Season   \n",
       "851                                                                   Inukami!   \n",
       "9163                                                 Gundam Build Fighters Try   \n",
       "6336                                                            Plastic Neesan   \n",
       "282                                         Magical☆Shopping Arcade Abenobashi   \n",
       "10638                                                         Young Black Jack   \n",
       "3612                                The Melancholy of Haruhi Suzumiya Season 2   \n",
       "2896                                       Kimi ga Aruji de Shitsuji ga Ore de   \n",
       "1231                                      Street Fighter II:The Animated Movie   \n",
       "9878                                                       Himouto! Umaru-chan   \n",
       "13453                                                    GARO -VANISHING LINE-   \n",
       "2247                                           Space Adventure Cobra:The Movie   \n",
       "921                                                         Battle Angel Alita   \n",
       "6624                                               Nyaruko:Crawling With Love!   \n",
       "8759                                                              Terraformars   \n",
       "2575                                                       Shootfighter Tekken   \n",
       "8064                                                          Samurai Flamenco   \n",
       "510                                                                 Venus Wars   \n",
       "6864                                                         Saint Seiya Omega   \n",
       "9796                                                         Garo:Crimson Moon   \n",
       "\n",
       "                                                                              Genres  \n",
       "3971             Action, Military, Adventure, Comedy, Drama, Magic, Fantasy, Shounen  \n",
       "9913                    Action, Comedy, Historical, Parody, Samurai, Sci-Fi, Shounen  \n",
       "6474                                Action, Adventure, Fantasy, Shounen, Super Power  \n",
       "6006                    Action, Sci-Fi, Comedy, Historical, Parody, Samurai, Shounen  \n",
       "741                                                   Military, Sci-Fi, Space, Drama  \n",
       "7261                    Action, Comedy, Historical, Parody, Samurai, Sci-Fi, Shounen  \n",
       "12242                   Action, Comedy, Historical, Parody, Samurai, Sci-Fi, Shounen  \n",
       "7249                    Action, Sci-Fi, Comedy, Historical, Parody, Samurai, Shounen  \n",
       "833                     Action, Comedy, Historical, Parody, Samurai, Sci-Fi, Shounen  \n",
       "7577                                 Mystery, Comedy, Supernatural, Romance, Vampire  \n",
       "0                                    Action, Adventure, Comedy, Drama, Sci-Fi, Space  \n",
       "239                                                   Comedy, Sports, Drama, Shounen  \n",
       "8559    Adventure, Slice of Life, Mystery, Historical, Supernatural, Fantasy, Seinen  \n",
       "221                                    Slice of Life, Comedy, Drama, School, Shounen  \n",
       "428     Adventure, Slice of Life, Mystery, Historical, Supernatural, Fantasy, Seinen  \n",
       "4050                                                  Comedy, Sports, Drama, Shounen  \n",
       "1822                                        Action, Adventure, Comedy, Mecha, Sci-Fi  \n",
       "4970                          Comedy, Mystery, Romance, School, Sci-Fi, Supernatural  \n",
       "8606                                            Drama, Psychological, Seinen, Sports  \n",
       "8117                                                  Comedy, Sports, Drama, Shounen  \n",
       "6736                                                 Comedy, Drama, Romance, Shounen  \n",
       "10451                      Action, Sci-Fi, Comedy, Parody, Super Power, Supernatural  \n",
       "8430    Adventure, Slice of Life, Mystery, Historical, Supernatural, Fantasy, Seinen  \n",
       "148                                           Comedy, Drama, School, Shounen, Sports  \n",
       "6751                                    Comedy, Sci-Fi, Seinen, Slice of Life, Space  \n",
       "5022                    Action, Sci-Fi, Comedy, Historical, Parody, Samurai, Shounen  \n",
       "542                                                                Drama, Historical  \n",
       "11179                        Action, Adventure, Comedy, Supernatural, Drama, Shounen  \n",
       "22                                     Sci-Fi, Dementia, Psychological, Drama, Mecha  \n",
       "182                          Action, Adventure, Comedy, Historical, Samurai, Shounen  \n",
       "6094                                          Slice of Life, Comedy, School, Shounen  \n",
       "9179    Adventure, Fantasy, Historical, Mystery, Seinen, Slice of Life, Supernatural  \n",
       "368                      Action, Comedy, Demons, Supernatural, Martial Arts, Shounen  \n",
       "9440                                 Action, Adventure, Supernatural, Drama, Shounen  \n",
       "3925                                         Comedy, Drama, Romance, Shounen, Sports  \n",
       "2061                               Action, Comedy, Historical, Mystery, Supernatural  \n",
       "8776                                                           Comedy, Slice of Life  \n",
       "8704                            Action, Sci-Fi, Horror, Psychological, Drama, Seinen  \n",
       "708                          Action, Military, Horror, Supernatural, Vampire, Seinen  \n",
       "6034                                                 Comedy, Drama, Romance, Shounen  \n",
       "5889                                           Psychological, Drama, Magic, Thriller  \n",
       "7013                                           Action, Sci-Fi, Police, Psychological  \n",
       "5104                                                  Comedy, Drama, Shounen, Sports  \n",
       "6672                                          Action, Military, Sci-Fi, Space, Drama  \n",
       "10795                                   Mystery, Psychological, Supernatural, Seinen  \n",
       "4096                                         Adventure, Historical, Romance, Fantasy  \n",
       "3954                                         Romance, Supernatural, Mystery, Vampire  \n",
       "4661                            Action, Adventure, Historical, Martial Arts, Romance  \n",
       "6656                                                  Comedy, Drama, Shounen, Sports  \n",
       "6900                     Drama, Horror, Mystery, Psychological, Sci-Fi, Supernatural  \n",
       "3934                                                   Sports, Psychological, Seinen  \n",
       "5846                                                    Music, Slice of Life, Comedy  \n",
       "1103                                           Comedy, Psychological, Drama, Romance  \n",
       "11914                                   Action, Comedy, Super Power, School, Shounen  \n",
       "20                             Action, Sci-Fi, Dementia, Psychological, Drama, Mecha  \n",
       "305                                            Drama, Romance, Sci-Fi, Seinen, Space  \n",
       "38                                      Comedy, Drama, Music, Shounen, Slice of Life  \n",
       "240                                                          Comedy, Shounen, Sports  \n",
       "4690                                                    Action, Sci-Fi, Cars, Sports  \n",
       "162                                              Action, Cars, Drama, Seinen, Sports  \n",
       "9732                                                          Ecchi, School, Shounen  \n",
       "7551                                                 Comedy, Sports, School, Shounen  \n",
       "2737                                           Game, Psychological, Thriller, Seinen  \n",
       "1678                                                          Drama, Shounen, Sports  \n",
       "8904                                                           Space, Comedy, Sci-Fi  \n",
       "2708                                         Adventure, Fantasy, Historical, Romance  \n",
       "590                                                   Comedy, Sports, Drama, Shounen  \n",
       "523                                                   Comedy, Drama, Shounen, Sports  \n",
       "2893                                                  Comedy, Drama, Shounen, Sports  \n",
       "8699                                                            Sports, Cars, Seinen  \n",
       "11685                                            Action, Drama, Mecha, Sci-Fi, Space  \n",
       "5113                                                 Comedy, Drama, Romance, Shounen  \n",
       "241                                                          Comedy, Sports, Shounen  \n",
       "5961                                                  Comedy, Drama, Shounen, Sports  \n",
       "11309                                                         Ecchi, School, Shounen  \n",
       "9742                                   Game, Mystery, Psychological, Drama, Thriller  \n",
       "1379                                                                  Action, Seinen  \n",
       "4728                                                   Action, Mystery, Supernatural  \n",
       "100              Action, Adventure, Comedy, Drama, Fantasy, Magic, Military, Shounen  \n",
       "28                 Action, Military, Sci-Fi, Adventure, Horror, Supernatural, Seinen  \n",
       "4558                                   Action, Drama, Mecha, Military, Sci-Fi, Space  \n",
       "3363                               Action, Comedy, Historical, Mystery, Supernatural  \n",
       "6620                                                 Comedy, School, Shounen, Sports  \n",
       "8                                                Action, Cars, Sports, Drama, Seinen  \n",
       "5158                                            Comedy, Music, School, Slice of Life  \n",
       "9211                                                 Action, Comedy, School, Shounen  \n",
       "8349                                 Action, Adventure, Supernatural, Drama, Shounen  \n",
       "7939                                      Action, Comedy, Super Power, Ecchi, School  \n",
       "11185                                   Action, Comedy, School, Shounen, Super Power  \n",
       "6685                                                  Comedy, Drama, Shounen, Sports  \n",
       "1415                                   Action, Comedy, Martial Arts, School, Shounen  \n",
       "213                                         Adventure, Drama, Mecha, Romance, Sci-Fi  \n",
       "4274                                                                  Sci-Fi, Comedy  \n",
       "1251                                        Adventure, Drama, Mecha, Sci-Fi, Shounen  \n",
       "7168                               Action, Adventure, Supernatural, Vampire, Shounen  \n",
       "804                                                                   Action, Seinen  \n",
       "60                                Adventure, Drama, Mecha, Military, Romance, Sci-Fi  \n",
       "203                   Action, Sci-Fi, Comedy, Parody, Dementia, Psychological, Mecha  \n",
       "3926                                                         Action, Sports, Shounen  \n",
       "10880                                            Action, Drama, Mecha, Sci-Fi, Space  \n",
       "200                   Adventure, Comedy, Fantasy, Martial Arts, Shounen, Super Power  \n",
       "872                                     Action, Drama, Martial Arts, Sci-Fi, Shounen  \n",
       "7302                                            Comedy, Supernatural, Romance, Ecchi  \n",
       "53                                                           Action, Military, Mecha  \n",
       "18                                                                   Comedy, Shounen  \n",
       "10817                       Action, Adventure, Comedy, Demons, Supernatural, Shounen  \n",
       "10914                Action, Adventure, Comedy, Historical, Samurai, Fantasy, Seinen  \n",
       "988                           Action, Mecha, Military, Music, Romance, Sci-Fi, Space  \n",
       "11191                                  Action, Military, Sci-Fi, Space, Drama, Mecha  \n",
       "93                                                           Comedy, School, Shounen  \n",
       "1976                                          Action, Drama, Military, Sci-Fi, Space  \n",
       "64                                    Military, Sci-Fi, Space, Drama, Romance, Mecha  \n",
       "718                                                   Psychological, Mystery, Sci-Fi  \n",
       "4413                                         Adventure, Fantasy, Historical, Romance  \n",
       "61                                             Military, Sci-Fi, Space, Drama, Mecha  \n",
       "996                                  Military, Sci-Fi, Mystery, Police, Drama, Mecha  \n",
       "856                   Action, Comedy, Drama, Mecha, Military, Sci-Fi, Shounen, Space  \n",
       "766                           Comedy, Mystery, Parody, School, Sci-Fi, Slice of Life  \n",
       "8217                                                           Sci-Fi, Space, Comedy  \n",
       "12430           Action, Comedy, Fantasy, Shounen, Super Power, Supernatural, Vampire  \n",
       "243                                       Action, Drama, Sci-Fi, Seinen, Super Power  \n",
       "376                                         Action, Sci-Fi, Adventure, Space, Comedy  \n",
       "4273                                            Music, Slice of Life, Comedy, School  \n",
       "5877                                            Comedy, Music, School, Slice of Life  \n",
       "4244                               Action, Sci-Fi, Mystery, Drama, Romance, Thriller  \n",
       "4790                                            Comedy, Music, School, Slice of Life  \n",
       "805                                                Adventure, Mecha, Sci-Fi, Shounen  \n",
       "3660                                           Comedy, Parody, School, Slice of Life  \n",
       "2079                                   Action, Space, Mecha, Military, Drama, Sci-Fi  \n",
       "8059                                                           Action, Sci-Fi, Mecha  \n",
       "132                    Action, Adventure, Comedy, Super Power, Supernatural, Shounen  \n",
       "992                         Action, Military, Sci-Fi, Adventure, Space, Drama, Mecha  \n",
       "1654          Action, Adventure, Super Power, Demons, Supernatural, Fantasy, Shounen  \n",
       "1718                                           Slice of Life, Comedy, Parody, School  \n",
       "9230                                            Action, Sci-Fi, Space, Mecha, Seinen  \n",
       "11037                                           Action, Military, Adventure, Fantasy  \n",
       "16                                              Action, Sci-Fi, Psychological, Drama  \n",
       "450             Action, Adventure, Comedy, Super Power, Supernatural, Drama, Shounen  \n",
       "9749                          Action, Adventure, Drama, Fantasy, Historical, Shounen  \n",
       "74                 Action, Military, Sci-Fi, Adventure, Space, Drama, Romance, Mecha  \n",
       "8142                                            Action, Mecha, Sci-Fi, Seinen, Space  \n",
       "300                                                    Comedy, Mecha, Police, Sci-Fi  \n",
       "11143                                              Action, Adventure, Drama, Fantasy  \n",
       "66                                             Military, Sci-Fi, Space, Drama, Mecha  \n",
       "299          Mystery, Dementia, Police, Psychological, Supernatural, Drama, Thriller  \n",
       "1536                                     Sci-Fi, Psychological, Drama, Mecha, Seinen  \n",
       "9138            Action, Comedy, Super Power, Supernatural, Vampire, Fantasy, Shounen  \n",
       "51                                           Action, Military, Sci-Fi, Comedy, Mecha  \n",
       "111               Action, Comedy, Drama, Mystery, Shounen, Super Power, Supernatural  \n",
       "9797                                    Action, Demons, Supernatural, Magic, Fantasy  \n",
       "5146                                                    Comedy, Demons, Supernatural  \n",
       "5475                                          Comedy, School, Shounen, Slice of Life  \n",
       "10197                       Action, Adventure, Comedy, Demons, Shounen, Supernatural  \n",
       "7399                                                    Comedy, Demons, Supernatural  \n",
       "75     Adventure, Comedy, Drama, Martial Arts, Mecha, Romance, Sci-Fi, Space, Sports  \n",
       "995                                                   Drama, Mecha, Military, Police  \n",
       "6114                                                    Comedy, Supernatural, Demons  \n",
       "3456                                      Action, Adventure, Drama, Thriller, Seinen  \n",
       "143             Action, Drama, Mecha, Music, Mystery, Psychological, Romance, Sci-Fi  \n",
       "8887                                           Action, Sci-Fi, Police, Psychological  \n",
       "8897                                    Action, Demons, Fantasy, Magic, Supernatural  \n",
       "9300                                                           Action, Drama, Seinen  \n",
       "991                                    Action, Military, Sci-Fi, Space, Drama, Mecha  \n",
       "6965                                                           Action, Sci-Fi, Mecha  \n",
       "9791                                      Action, Adventure, Fantasy, Magic, Mystery  \n",
       "10157                                                          Comedy, Ecchi, School  \n",
       "71                                            Sci-Fi, Adventure, Space, Drama, Mecha  \n",
       "4032                                                   Action, Adventure, Historical  \n",
       "63                         Military, Sci-Fi, Adventure, Space, Drama, Romance, Mecha  \n",
       "385                                 Action, Adventure, Drama, Mecha, Sci-Fi, Shounen  \n",
       "7303                                                          Sci-Fi, Comedy, Parody  \n",
       "851                                    Comedy, Ecchi, Romance, Shounen, Supernatural  \n",
       "9163                                                           Action, Sci-Fi, Mecha  \n",
       "6336                                                          Comedy, School, Seinen  \n",
       "282                                                   Comedy, Parody, Ecchi, Fantasy  \n",
       "10638                                                      Historical, Drama, Seinen  \n",
       "3612                 Comedy, Mystery, Parody, Romance, School, Sci-Fi, Slice of Life  \n",
       "2896                                           Comedy, Ecchi, Harem, Parody, Romance  \n",
       "1231                                                   Action, Martial Arts, Shounen  \n",
       "9878                                           Comedy, School, Seinen, Slice of Life  \n",
       "13453                                          Action, Demons, Supernatural, Fantasy  \n",
       "2247                                                Action, Adventure, Sci-Fi, Space  \n",
       "921                                                    Drama, Mecha, Sci-Fi, Shounen  \n",
       "6624                                                          Sci-Fi, Comedy, Parody  \n",
       "8759                                    Action, Sci-Fi, Space, Horror, Drama, Seinen  \n",
       "2575                                                   Action, Martial Arts, Shounen  \n",
       "8064                                             Action, Comedy, Parody, Super Power  \n",
       "510                                                 Action, Sci-Fi, Adventure, Space  \n",
       "6864                                             Action, Adventure, Fantasy, Shounen  \n",
       "9796                                    Action, Demons, Fantasy, Magic, Supernatural  "
      ]
     },
     "execution_count": 108,
     "metadata": {},
     "output_type": "execute_result"
    }
   ],
   "source": [
    "get_user_preferences(11880 , rating_df, df , plot=True)"
   ]
  },
  {
   "cell_type": "code",
   "execution_count": 109,
   "metadata": {},
   "outputs": [],
   "source": [
    "def get_user_recommendations(similar_users , user_pref ,df , synopsis_df, rating_df, n=10):\n",
    "\n",
    "    recommended_animes = []\n",
    "    anime_list = []\n",
    "\n",
    "    for user_id in similar_users.similar_users.values:\n",
    "        pref_list = get_user_preferences(int(user_id) , rating_df, df)\n",
    "\n",
    "        pref_list = pref_list[~pref_list.eng_version.isin(user_pref.eng_version.values)]\n",
    "\n",
    "        if not pref_list.empty:\n",
    "            anime_list.append(pref_list.eng_version.values)\n",
    "\n",
    "    if anime_list:\n",
    "            anime_list = pd.DataFrame(anime_list)\n",
    "\n",
    "            sorted_list = pd.DataFrame(pd.Series(anime_list.values.ravel()).value_counts()).head(n)\n",
    "\n",
    "            for i,anime_name in enumerate(sorted_list.index):\n",
    "                n_user_pref = sorted_list[sorted_list.index == anime_name].values[0][0]\n",
    "\n",
    "                if isinstance(anime_name,str):\n",
    "                    frame = get_anime_frame(anime_name,df)\n",
    "                    anime_id = frame.anime_id.values[0]\n",
    "                    genre = frame.Genres.values[0]\n",
    "                    synopsis = get_synopsis(int(anime_id),synopsis_df)\n",
    "\n",
    "                    recommended_animes.append({\n",
    "                        \"n\" : n_user_pref,\n",
    "                        \"anime_name\" : anime_name,\n",
    "                        \"Genres\" : genre,\n",
    "                        \"Synopsis\": synopsis\n",
    "                    })\n",
    "    return pd.DataFrame(recommended_animes).head(n)\n",
    "            \n",
    "\n",
    "\n",
    "\n",
    "    "
   ]
  },
  {
   "cell_type": "code",
   "execution_count": 110,
   "metadata": {},
   "outputs": [
    {
     "data": {
      "application/vnd.microsoft.datawrangler.viewer.v0+json": {
       "columns": [
        {
         "name": "index",
         "rawType": "int64",
         "type": "integer"
        },
        {
         "name": "similar_users",
         "rawType": "int64",
         "type": "integer"
        },
        {
         "name": "similarity",
         "rawType": "float32",
         "type": "float"
        }
       ],
       "conversionMethod": "pd.DataFrame",
       "ref": "0b317cc9-d50c-410c-889b-dbfbbe8ee710",
       "rows": [
        [
         "9",
         "8774",
         "0.30795658"
        ],
        [
         "8",
         "15233",
         "0.28642425"
        ],
        [
         "7",
         "8940",
         "0.28220153"
        ],
        [
         "6",
         "13970",
         "0.26555192"
        ],
        [
         "5",
         "8155",
         "0.26419723"
        ],
        [
         "4",
         "14808",
         "0.25979704"
        ],
        [
         "3",
         "10543",
         "0.25878748"
        ],
        [
         "2",
         "8012",
         "0.25178486"
        ],
        [
         "1",
         "4524",
         "0.25143847"
        ],
        [
         "0",
         "7986",
         "0.24961123"
        ]
       ],
       "shape": {
        "columns": 2,
        "rows": 10
       }
      },
      "text/html": [
       "<div>\n",
       "<style scoped>\n",
       "    .dataframe tbody tr th:only-of-type {\n",
       "        vertical-align: middle;\n",
       "    }\n",
       "\n",
       "    .dataframe tbody tr th {\n",
       "        vertical-align: top;\n",
       "    }\n",
       "\n",
       "    .dataframe thead th {\n",
       "        text-align: right;\n",
       "    }\n",
       "</style>\n",
       "<table border=\"1\" class=\"dataframe\">\n",
       "  <thead>\n",
       "    <tr style=\"text-align: right;\">\n",
       "      <th></th>\n",
       "      <th>similar_users</th>\n",
       "      <th>similarity</th>\n",
       "    </tr>\n",
       "  </thead>\n",
       "  <tbody>\n",
       "    <tr>\n",
       "      <th>9</th>\n",
       "      <td>8774</td>\n",
       "      <td>0.307957</td>\n",
       "    </tr>\n",
       "    <tr>\n",
       "      <th>8</th>\n",
       "      <td>15233</td>\n",
       "      <td>0.286424</td>\n",
       "    </tr>\n",
       "    <tr>\n",
       "      <th>7</th>\n",
       "      <td>8940</td>\n",
       "      <td>0.282202</td>\n",
       "    </tr>\n",
       "    <tr>\n",
       "      <th>6</th>\n",
       "      <td>13970</td>\n",
       "      <td>0.265552</td>\n",
       "    </tr>\n",
       "    <tr>\n",
       "      <th>5</th>\n",
       "      <td>8155</td>\n",
       "      <td>0.264197</td>\n",
       "    </tr>\n",
       "    <tr>\n",
       "      <th>4</th>\n",
       "      <td>14808</td>\n",
       "      <td>0.259797</td>\n",
       "    </tr>\n",
       "    <tr>\n",
       "      <th>3</th>\n",
       "      <td>10543</td>\n",
       "      <td>0.258787</td>\n",
       "    </tr>\n",
       "    <tr>\n",
       "      <th>2</th>\n",
       "      <td>8012</td>\n",
       "      <td>0.251785</td>\n",
       "    </tr>\n",
       "    <tr>\n",
       "      <th>1</th>\n",
       "      <td>4524</td>\n",
       "      <td>0.251438</td>\n",
       "    </tr>\n",
       "    <tr>\n",
       "      <th>0</th>\n",
       "      <td>7986</td>\n",
       "      <td>0.249611</td>\n",
       "    </tr>\n",
       "  </tbody>\n",
       "</table>\n",
       "</div>"
      ],
      "text/plain": [
       "   similar_users  similarity\n",
       "9           8774    0.307957\n",
       "8          15233    0.286424\n",
       "7           8940    0.282202\n",
       "6          13970    0.265552\n",
       "5           8155    0.264197\n",
       "4          14808    0.259797\n",
       "3          10543    0.258787\n",
       "2           8012    0.251785\n",
       "1           4524    0.251438\n",
       "0           7986    0.249611"
      ]
     },
     "execution_count": 110,
     "metadata": {},
     "output_type": "execute_result"
    }
   ],
   "source": [
    "similar_users =find_similar_users(int(11880),user_weights,user2user_encoded,user2user_decoded)\n",
    "similar_users"
   ]
  },
  {
   "cell_type": "code",
   "execution_count": null,
   "metadata": {},
   "outputs": [],
   "source": []
  },
  {
   "cell_type": "code",
   "execution_count": 111,
   "metadata": {},
   "outputs": [],
   "source": [
    "user_pref = get_user_preferences(11880 , rating_df, df , plot=False)"
   ]
  },
  {
   "cell_type": "code",
   "execution_count": 112,
   "metadata": {},
   "outputs": [
    {
     "data": {
      "application/vnd.microsoft.datawrangler.viewer.v0+json": {
       "columns": [
        {
         "name": "index",
         "rawType": "int64",
         "type": "integer"
        },
        {
         "name": "n",
         "rawType": "int64",
         "type": "integer"
        },
        {
         "name": "anime_name",
         "rawType": "object",
         "type": "string"
        },
        {
         "name": "Genres",
         "rawType": "object",
         "type": "string"
        },
        {
         "name": "Synopsis",
         "rawType": "object",
         "type": "string"
        }
       ],
       "conversionMethod": "pd.DataFrame",
       "ref": "c3d38cc8-7b4e-46b8-af81-37dc6fb93349",
       "rows": [
        [
         "0",
         "8",
         "Re:ZERO -Starting Life in Another World-",
         "Psychological, Drama, Thriller, Fantasy",
         "hen Subaru Natsuki leaves the convenience store, the last thing he expects is to be wrenched from his everyday life and dropped into a fantasy world. Things aren't looking good for the bewildered teenager; however, not long after his arrival, he is attacked by some thugs. Armed with only a bag of groceries and a now useless cell phone, he is quickly beaten to a pulp. Fortunately, a mysterious beauty named Satella, in hot pursuit after the one who stole her insignia, happens upon Subaru and saves him. In order to thank the honest and kindhearted girl, Subaru offers to help in her search, and later that night, he even finds the whereabouts of that which she seeks. But unbeknownst to them, a much darker force stalks the pair from the shadows, and just minutes after locating the insignia, Subaru and Satella are brutally murdered. However, Subaru immediately reawakens to a familiar scene—confronted by the same group of thugs, meeting Satella all over again—the enigma deepens as history inexplicably repeats itself."
        ]
       ],
       "shape": {
        "columns": 4,
        "rows": 1
       }
      },
      "text/html": [
       "<div>\n",
       "<style scoped>\n",
       "    .dataframe tbody tr th:only-of-type {\n",
       "        vertical-align: middle;\n",
       "    }\n",
       "\n",
       "    .dataframe tbody tr th {\n",
       "        vertical-align: top;\n",
       "    }\n",
       "\n",
       "    .dataframe thead th {\n",
       "        text-align: right;\n",
       "    }\n",
       "</style>\n",
       "<table border=\"1\" class=\"dataframe\">\n",
       "  <thead>\n",
       "    <tr style=\"text-align: right;\">\n",
       "      <th></th>\n",
       "      <th>n</th>\n",
       "      <th>anime_name</th>\n",
       "      <th>Genres</th>\n",
       "      <th>Synopsis</th>\n",
       "    </tr>\n",
       "  </thead>\n",
       "  <tbody>\n",
       "    <tr>\n",
       "      <th>0</th>\n",
       "      <td>8</td>\n",
       "      <td>Re:ZERO -Starting Life in Another World-</td>\n",
       "      <td>Psychological, Drama, Thriller, Fantasy</td>\n",
       "      <td>hen Subaru Natsuki leaves the convenience store, the last thing he expects is to be wrenched from his everyday life and dropped into a fantasy world. Things aren't looking good for the bewildered teenager; however, not long after his arrival, he is attacked by some thugs. Armed with only a bag of groceries and a now useless cell phone, he is quickly beaten to a pulp. Fortunately, a mysterious beauty named Satella, in hot pursuit after the one who stole her insignia, happens upon Subaru and saves him. In order to thank the honest and kindhearted girl, Subaru offers to help in her search, and later that night, he even finds the whereabouts of that which she seeks. But unbeknownst to them, a much darker force stalks the pair from the shadows, and just minutes after locating the insignia, Subaru and Satella are brutally murdered. However, Subaru immediately reawakens to a familiar scene—confronted by the same group of thugs, meeting Satella all over again—the enigma deepens as history inexplicably repeats itself.</td>\n",
       "    </tr>\n",
       "  </tbody>\n",
       "</table>\n",
       "</div>"
      ],
      "text/plain": [
       "   n                                anime_name  \\\n",
       "0  8  Re:ZERO -Starting Life in Another World-   \n",
       "\n",
       "                                    Genres  \\\n",
       "0  Psychological, Drama, Thriller, Fantasy   \n",
       "\n",
       "                                                                                                                                                                                                                                                                                                                                                                                                                                                                                                                                                                                                                                                                                                                                                                                                                                                                                                                                                                                                                                                           Synopsis  \n",
       "0  hen Subaru Natsuki leaves the convenience store, the last thing he expects is to be wrenched from his everyday life and dropped into a fantasy world. Things aren't looking good for the bewildered teenager; however, not long after his arrival, he is attacked by some thugs. Armed with only a bag of groceries and a now useless cell phone, he is quickly beaten to a pulp. Fortunately, a mysterious beauty named Satella, in hot pursuit after the one who stole her insignia, happens upon Subaru and saves him. In order to thank the honest and kindhearted girl, Subaru offers to help in her search, and later that night, he even finds the whereabouts of that which she seeks. But unbeknownst to them, a much darker force stalks the pair from the shadows, and just minutes after locating the insignia, Subaru and Satella are brutally murdered. However, Subaru immediately reawakens to a familiar scene—confronted by the same group of thugs, meeting Satella all over again—the enigma deepens as history inexplicably repeats itself.  "
      ]
     },
     "execution_count": 112,
     "metadata": {},
     "output_type": "execute_result"
    }
   ],
   "source": [
    "get_user_recommendations(similar_users,user_pref,df, synopsis_df,rating_df,n=1)"
   ]
  },
  {
   "cell_type": "markdown",
   "metadata": {},
   "source": [
    "### HYBRID RECOMMENDER SYSTEM"
   ]
  },
  {
   "cell_type": "code",
   "execution_count": 95,
   "metadata": {},
   "outputs": [],
   "source": [
    "def hybrid_recommendation(user_id , user_weight=0.5, content_weight =0.5):\n",
    "\n",
    "    ## User Recommndation\n",
    "\n",
    "    similar_users =find_similar_users(user_id,user_weights,user2user_encoded,user2user_decoded)\n",
    "    user_pref = get_user_preferences(user_id , rating_df, df)\n",
    "    user_recommended_animes =get_user_recommendations(similar_users,user_pref,df, synopsis_df,rating_df)\n",
    "    \n",
    "\n",
    "    user_recommended_anime_list = user_recommended_animes[\"anime_name\"].tolist()\n",
    "\n",
    "    #### Content recommendation\n",
    "    content_recommended_animes = []\n",
    "\n",
    "    for anime in user_recommended_anime_list:\n",
    "        similar_animes = find_similar_animes(anime, anime_weights, anime2anime_encoded, anime2anime_decoded, df, synopsis_df)\n",
    "\n",
    "        if similar_animes is not None and not similar_animes.empty:\n",
    "            content_recommended_animes.extend(similar_animes[\"name\"].tolist())\n",
    "        else:\n",
    "            print(f\"No similar anime found {anime}\")\n",
    "    \n",
    "    combined_scores = {}\n",
    "\n",
    "    for anime in user_recommended_anime_list:\n",
    "        combined_scores[anime] = combined_scores.get(anime,0) + user_weight\n",
    "\n",
    "    for anime in content_recommended_animes:\n",
    "        combined_scores[anime] = combined_scores.get(anime,0) + content_weight  \n",
    "\n",
    "    sorted_animes = sorted(combined_scores.items() , key=lambda x:x[1] , reverse=True)\n",
    "\n",
    "    return [anime for anime , score in sorted_animes[:10]] \n",
    "\n"
   ]
  },
  {
   "cell_type": "code",
   "execution_count": 113,
   "metadata": {},
   "outputs": [
    {
     "data": {
      "text/plain": [
       "['Re:ZERO -Starting Life in Another World-',\n",
       " 'Angel Beats!',\n",
       " 'Your Name.',\n",
       " \"KonoSuba:God's Blessing on This Wonderful World!\",\n",
       " 'anohana:The Flower We Saw That Day',\n",
       " 'Aldnoah.Zero',\n",
       " 'Fate/Zero',\n",
       " 'Sword Art Online',\n",
       " 'No Game, No Life',\n",
       " 'Attack on Titan']"
      ]
     },
     "execution_count": 113,
     "metadata": {},
     "output_type": "execute_result"
    }
   ],
   "source": [
    "hybrid_recommendation(11880)"
   ]
  },
  {
   "cell_type": "code",
   "execution_count": null,
   "metadata": {},
   "outputs": [],
   "source": []
  },
  {
   "cell_type": "code",
   "execution_count": null,
   "metadata": {},
   "outputs": [],
   "source": []
  },
  {
   "cell_type": "code",
   "execution_count": null,
   "metadata": {},
   "outputs": [],
   "source": []
  },
  {
   "cell_type": "code",
   "execution_count": null,
   "metadata": {},
   "outputs": [],
   "source": []
  }
 ],
 "metadata": {
  "kernelspec": {
   "display_name": "Python 3",
   "language": "python",
   "name": "python3"
  },
  "language_info": {
   "codemirror_mode": {
    "name": "ipython",
    "version": 3
   },
   "file_extension": ".py",
   "mimetype": "text/x-python",
   "name": "python",
   "nbconvert_exporter": "python",
   "pygments_lexer": "ipython3",
   "version": "3.10.16"
  }
 },
 "nbformat": 4,
 "nbformat_minor": 2
}
